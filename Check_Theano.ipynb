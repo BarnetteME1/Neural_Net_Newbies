{
 "metadata": {
  "name": "",
  "signature": "sha256:f8d6302fc23f066a2be9241327ed03640be15857d2b18f319375495d118c14cd"
 },
 "nbformat": 3,
 "nbformat_minor": 0,
 "worksheets": [
  {
   "cells": [
    {
     "cell_type": "raw",
     "metadata": {},
     "source": [
      "Theano Example"
     ]
    },
    {
     "cell_type": "code",
     "collapsed": false,
     "input": [
      "import cPickle\n",
      "import gzip\n",
      "import os\n",
      "import sys\n",
      "import time\n",
      "\n",
      "import numpy\n",
      "\n",
      "import theano\n",
      "import theano.tensor as T"
     ],
     "language": "python",
     "metadata": {},
     "outputs": [],
     "prompt_number": 7
    },
    {
     "cell_type": "code",
     "collapsed": false,
     "input": [
      "class LogisticRegression(object):\n",
      "    def __init__(self, input, n_in, n_out):\n",
      "\n",
      "        self.W = theano.shared(\n",
      "            value=numpy.zeros(\n",
      "                (n_in, n_out),\n",
      "                dtype=theano.config.floatX\n",
      "            ),\n",
      "            name='W',\n",
      "            borrow=True\n",
      "        )\n",
      "        self.b = theano.shared(\n",
      "            value=numpy.zeros(\n",
      "                (n_out,),\n",
      "                dtype=theano.config.floatX\n",
      "            ),\n",
      "            name='b',\n",
      "            borrow=True\n",
      "        )\n",
      "        self.p_y_given_x = T.nnet.softmax(T.dot(input, self.W) + self.b)\n",
      "        self.y_pred = T.argmax(self.p_y_given_x, axis=1)\n",
      "        self.params = [self.W, self.b]\n",
      "\n",
      "    def negative_log_likelihood(self, y):\n",
      "        return -T.mean(T.log(self.p_y_given_x)[T.arange(y.shape[0]), y])\n",
      "\n",
      "    def errors(self, y):\n",
      "        # check if y has same dimension of y_pred\n",
      "        if y.ndim != self.y_pred.ndim:\n",
      "            raise TypeError(\n",
      "                'y should have the same shape as self.y_pred',\n",
      "                ('y', y.type, 'y_pred', self.y_pred.type)\n",
      "            )\n",
      "        # check if y is of the correct datatype\n",
      "        if y.dtype.startswith('int'):\n",
      "            # the T.neq operator returns a vector of 0s and 1s, where 1\n",
      "            # represents a mistake in prediction\n",
      "            return T.mean(T.neq(self.y_pred, y))\n",
      "        else:\n",
      "            raise NotImplementedError()"
     ],
     "language": "python",
     "metadata": {},
     "outputs": [],
     "prompt_number": 8
    },
    {
     "cell_type": "code",
     "collapsed": false,
     "input": [
      "def shared_dataset(data_xy, borrow=True):\n",
      "    data_x, data_y = data_xy\n",
      "    shared_x = theano.shared(numpy.asarray(data_x,\n",
      "                                           dtype=theano.config.floatX),\n",
      "                             borrow=borrow)\n",
      "    shared_y = theano.shared(numpy.asarray(data_y,\n",
      "                                           dtype=theano.config.floatX),\n",
      "                             borrow=borrow)\n",
      "    # When storing data on the GPU it has to be stored as floats\n",
      "    # therefore we will store the labels as ``floatX`` as well\n",
      "    # (``shared_y`` does exactly that). But during our computations\n",
      "    # we need them as ints (we use labels as index, and if they are\n",
      "    # floats it doesn't make sense) therefore instead of returning\n",
      "    # ``shared_y`` we will have to cast it to int. This little hack\n",
      "    # lets ous get around this issue\n",
      "    return shared_x, T.cast(shared_y, 'int32')"
     ],
     "language": "python",
     "metadata": {},
     "outputs": [],
     "prompt_number": 9
    },
    {
     "cell_type": "code",
     "collapsed": false,
     "input": [
      "def load_data(dataset):\n",
      "    data_dir, data_file = os.path.split(dataset)\n",
      "    if data_dir == \"\" and not os.path.isfile(dataset):\n",
      "        # Check if dataset is in the data directory.\n",
      "        new_path = os.path.join(\n",
      "            os.path.split(__file__)[0],\n",
      "            \"..\",\n",
      "            \"data\",\n",
      "            dataset\n",
      "        )\n",
      "        if os.path.isfile(new_path) or data_file == 'mnist.pkl.gz':\n",
      "            dataset = new_path\n",
      "\n",
      "    if (not os.path.isfile(dataset)) and data_file == 'mnist.pkl.gz':\n",
      "        import urllib\n",
      "        origin = (\n",
      "            'http://www.iro.umontreal.ca/~lisa/deep/data/mnist/mnist.pkl.gz'\n",
      "        )\n",
      "        print 'Downloading data from %s' % origin\n",
      "        urllib.urlretrieve(origin, dataset)\n",
      "\n",
      "    print '... loading data'\n",
      "\n",
      "    # Load the dataset\n",
      "    f = gzip.open(dataset, 'rb')\n",
      "    train_set, valid_set, test_set = cPickle.load(f)\n",
      "    f.close()\n",
      "    \n",
      "#     print type(test_set)\n",
      "#     print test_set\n",
      "\n",
      "    test_set_x, test_set_y = shared_dataset(test_set)\n",
      "    valid_set_x, valid_set_y = shared_dataset(valid_set)\n",
      "    train_set_x, train_set_y = shared_dataset(train_set)\n",
      "\n",
      "\n",
      "    rval = [(train_set_x, train_set_y), (valid_set_x, valid_set_y),\n",
      "            (test_set_x, test_set_y)]\n",
      "    return rval"
     ],
     "language": "python",
     "metadata": {},
     "outputs": [],
     "prompt_number": 39
    },
    {
     "cell_type": "code",
     "collapsed": false,
     "input": [
      "learning_rate=0.13\n",
      "n_epochs=1000\n",
      "dataset='mnist.pkl.gz'\n",
      "batch_size=600"
     ],
     "language": "python",
     "metadata": {},
     "outputs": [],
     "prompt_number": 11
    },
    {
     "cell_type": "code",
     "collapsed": false,
     "input": [
      "datasets = load_data(\"data/mnist.pkl.gz\")"
     ],
     "language": "python",
     "metadata": {},
     "outputs": [
      {
       "output_type": "stream",
       "stream": "stdout",
       "text": [
        "... loading data\n",
        "<type 'tuple'>"
       ]
      },
      {
       "output_type": "stream",
       "stream": "stdout",
       "text": [
        "\n",
        "(array([[ 0.,  0.,  0., ...,  0.,  0.,  0.],\n",
        "       [ 0.,  0.,  0., ...,  0.,  0.,  0.],\n",
        "       [ 0.,  0.,  0., ...,  0.,  0.,  0.],\n",
        "       ..., \n",
        "       [ 0.,  0.,  0., ...,  0.,  0.,  0.],\n",
        "       [ 0.,  0.,  0., ...,  0.,  0.,  0.],\n",
        "       [ 0.,  0.,  0., ...,  0.,  0.,  0.]], dtype=float32), array([7, 2, 1, ..., 4, 5, 6]))\n"
       ]
      }
     ],
     "prompt_number": 40
    },
    {
     "cell_type": "code",
     "collapsed": false,
     "input": [
      "type(datasets)"
     ],
     "language": "python",
     "metadata": {},
     "outputs": [
      {
       "metadata": {},
       "output_type": "pyout",
       "prompt_number": 13,
       "text": [
        "list"
       ]
      }
     ],
     "prompt_number": 13
    },
    {
     "cell_type": "code",
     "collapsed": false,
     "input": [
      "datasets"
     ],
     "language": "python",
     "metadata": {},
     "outputs": [
      {
       "metadata": {},
       "output_type": "pyout",
       "prompt_number": 14,
       "text": [
        "[(<TensorType(float64, matrix)>, Elemwise{Cast{int32}}.0),\n",
        " (<TensorType(float64, matrix)>, Elemwise{Cast{int32}}.0),\n",
        " (<TensorType(float64, matrix)>, Elemwise{Cast{int32}}.0)]"
       ]
      }
     ],
     "prompt_number": 14
    },
    {
     "cell_type": "code",
     "collapsed": false,
     "input": [
      "train_set_x, train_set_y = datasets[0]\n",
      "valid_set_x, valid_set_y = datasets[1]\n",
      "test_set_x, test_set_y = datasets[2]"
     ],
     "language": "python",
     "metadata": {},
     "outputs": [],
     "prompt_number": 41
    },
    {
     "cell_type": "code",
     "collapsed": false,
     "input": [
      "n_train_batches = train_set_x.get_value(borrow=True).shape[0] / batch_size\n",
      "n_valid_batches = valid_set_x.get_value(borrow=True).shape[0] / batch_size\n",
      "n_test_batches = test_set_x.get_value(borrow=True).shape[0] / batch_size"
     ],
     "language": "python",
     "metadata": {},
     "outputs": [],
     "prompt_number": 46
    },
    {
     "cell_type": "code",
     "collapsed": false,
     "input": [
      "n_train_batches"
     ],
     "language": "python",
     "metadata": {},
     "outputs": [
      {
       "metadata": {},
       "output_type": "pyout",
       "prompt_number": 47,
       "text": [
        "83"
       ]
      }
     ],
     "prompt_number": 47
    },
    {
     "cell_type": "code",
     "collapsed": false,
     "input": [
      "n_valid_batches"
     ],
     "language": "python",
     "metadata": {},
     "outputs": [
      {
       "metadata": {},
       "output_type": "pyout",
       "prompt_number": 48,
       "text": [
        "16"
       ]
      }
     ],
     "prompt_number": 48
    },
    {
     "cell_type": "code",
     "collapsed": false,
     "input": [
      "index = T.lscalar()"
     ],
     "language": "python",
     "metadata": {},
     "outputs": [],
     "prompt_number": 53
    },
    {
     "cell_type": "code",
     "collapsed": false,
     "input": [
      "x = T.matrix('x')\n",
      "y = T.ivector('y')"
     ],
     "language": "python",
     "metadata": {},
     "outputs": [],
     "prompt_number": 55
    },
    {
     "cell_type": "code",
     "collapsed": false,
     "input": [
      "classifier = LogisticRegression(input=x, n_in=28 * 28, n_out=10)"
     ],
     "language": "python",
     "metadata": {},
     "outputs": [],
     "prompt_number": 59
    },
    {
     "cell_type": "code",
     "collapsed": false,
     "input": [
      "cost = classifier.negative_log_likelihood(y)"
     ],
     "language": "python",
     "metadata": {},
     "outputs": [],
     "prompt_number": 66
    },
    {
     "cell_type": "code",
     "collapsed": false,
     "input": [
      "test_model = theano.function(\n",
      "    inputs=[index],\n",
      "    outputs=classifier.errors(y),\n",
      "    givens={\n",
      "        x: test_set_x[index * batch_size: (index + 1) * batch_size],\n",
      "        y: test_set_y[index * batch_size: (index + 1) * batch_size]\n",
      "    }\n",
      ")\n"
     ],
     "language": "python",
     "metadata": {},
     "outputs": [],
     "prompt_number": 67
    },
    {
     "cell_type": "code",
     "collapsed": false,
     "input": [
      "test_model"
     ],
     "language": "python",
     "metadata": {},
     "outputs": [
      {
       "metadata": {},
       "output_type": "pyout",
       "prompt_number": 68,
       "text": [
        "<theano.compile.function_module.Function at 0x10f8478d0>"
       ]
      }
     ],
     "prompt_number": 68
    },
    {
     "cell_type": "code",
     "collapsed": false,
     "input": [
      "validate_model = theano.function(\n",
      "    inputs=[index],\n",
      "    outputs=classifier.errors(y),\n",
      "    givens={\n",
      "        x: valid_set_x[index * batch_size: (index + 1) * batch_size],\n",
      "        y: valid_set_y[index * batch_size: (index + 1) * batch_size]\n",
      "    }\n",
      ")\n"
     ],
     "language": "python",
     "metadata": {},
     "outputs": [],
     "prompt_number": 69
    },
    {
     "cell_type": "code",
     "collapsed": false,
     "input": [
      "g_W = T.grad(cost=cost, wrt=classifier.W)\n",
      "g_b = T.grad(cost=cost, wrt=classifier.b)"
     ],
     "language": "python",
     "metadata": {},
     "outputs": [],
     "prompt_number": 70
    },
    {
     "cell_type": "code",
     "collapsed": false,
     "input": [
      "updates = [(classifier.W, classifier.W - learning_rate * g_W),\n",
      "           (classifier.b, classifier.b - learning_rate * g_b)]\n"
     ],
     "language": "python",
     "metadata": {},
     "outputs": [],
     "prompt_number": 74
    },
    {
     "cell_type": "code",
     "collapsed": false,
     "input": [
      "train_model = theano.function(\n",
      "    inputs=[index],\n",
      "    outputs=cost,\n",
      "    updates=updates,\n",
      "    givens={\n",
      "        x: train_set_x[index * batch_size: (index + 1) * batch_size],\n",
      "        y: train_set_y[index * batch_size: (index + 1) * batch_size]\n",
      "    }\n",
      ")"
     ],
     "language": "python",
     "metadata": {},
     "outputs": [],
     "prompt_number": 75
    },
    {
     "cell_type": "code",
     "collapsed": false,
     "input": [
      "patience = 5000  # look as this many examples regardless\n",
      "patience_increase = 2  # wait this much longer when a new best is\n",
      "                              # found\n",
      "improvement_threshold = 0.995  # a relative improvement of this much is\n",
      "                              # considered significant\n",
      "validation_frequency = min(n_train_batches, patience / 2)\n",
      "                              # go through this many\n",
      "                              # minibatche before checking the network\n",
      "                              # on the validation set; in this case we\n",
      "                              # check every epoch\n",
      "\n",
      "best_validation_loss = numpy.inf\n",
      "test_score = 0.\n",
      "start_time = time.clock()\n",
      "\n",
      "done_looping = False\n",
      "epoch = 0"
     ],
     "language": "python",
     "metadata": {},
     "outputs": [],
     "prompt_number": 76
    },
    {
     "cell_type": "code",
     "collapsed": false,
     "input": [
      "while (epoch < n_epochs) and (not done_looping):\n",
      "    epoch = epoch + 1\n",
      "    for minibatch_index in xrange(n_train_batches):\n",
      "\n",
      "        minibatch_avg_cost = train_model(minibatch_index)\n",
      "        # iteration number\n",
      "        iter = (epoch - 1) * n_train_batches + minibatch_index\n",
      "\n",
      "        if (iter + 1) % validation_frequency == 0:\n",
      "            # compute zero-one loss on validation set\n",
      "            validation_losses = [validate_model(i)\n",
      "                                 for i in xrange(n_valid_batches)]\n",
      "            this_validation_loss = numpy.mean(validation_losses)\n",
      "\n",
      "            print(\n",
      "                'epoch %i, minibatch %i/%i, validation error %f %%' %\n",
      "                (\n",
      "                    epoch,\n",
      "                    minibatch_index + 1,\n",
      "                    n_train_batches,\n",
      "                    this_validation_loss * 100.\n",
      "                )\n",
      "            )\n",
      "\n",
      "            # if we got the best validation score until now\n",
      "            if this_validation_loss < best_validation_loss:\n",
      "                #improve patience if loss improvement is good enough\n",
      "                if this_validation_loss < best_validation_loss *  \\\n",
      "                   improvement_threshold:\n",
      "                    patience = max(patience, iter * patience_increase)\n",
      "\n",
      "                best_validation_loss = this_validation_loss\n",
      "                # test it on the test set\n",
      "\n",
      "                test_losses = [test_model(i)\n",
      "                               for i in xrange(n_test_batches)]\n",
      "                test_score = numpy.mean(test_losses)\n",
      "\n",
      "                print(\n",
      "                    (\n",
      "                        '     epoch %i, minibatch %i/%i, test error of'\n",
      "                        ' best model %f %%'\n",
      "                    ) %\n",
      "                    (\n",
      "                        epoch,\n",
      "                        minibatch_index + 1,\n",
      "                        n_train_batches,\n",
      "                        test_score * 100.\n",
      "                    )\n",
      "                )\n",
      "\n",
      "        if patience <= iter:\n",
      "            done_looping = True\n",
      "            break\n",
      "\n",
      "end_time = time.clock()\n",
      "print(\n",
      "    (\n",
      "        'Optimization complete with best validation score of %f %%,'\n",
      "        'with test performance %f %%'\n",
      "    )\n",
      "    % (best_validation_loss * 100., test_score * 100.)\n",
      ")\n",
      "print 'The code run for %d epochs, with %f epochs/sec' % (\n",
      "    epoch, 1. * epoch / (end_time - start_time))\n",
      "print >> sys.stderr, ('The code for file ' +\n",
      "                      os.path.split(__file__)[1] +\n",
      "                      ' ran for %.1fs' % ((end_time - start_time)))\n"
     ],
     "language": "python",
     "metadata": {},
     "outputs": []
    }
   ],
   "metadata": {}
  }
 ]
}