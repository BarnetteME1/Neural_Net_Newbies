{
 "metadata": {
  "name": "",
  "signature": "sha256:b3441e92f924f3c708ace0febae1dfbf2b871ef11fdc87241c5046cadc08f366"
 },
 "nbformat": 3,
 "nbformat_minor": 0,
 "worksheets": [
  {
   "cells": [
    {
     "cell_type": "markdown",
     "metadata": {},
     "source": [
      "##Graphlab Example"
     ]
    },
    {
     "cell_type": "markdown",
     "metadata": {},
     "source": [
      "### Manual Run"
     ]
    },
    {
     "cell_type": "code",
     "collapsed": false,
     "input": [
      "import graphlab"
     ],
     "language": "python",
     "metadata": {},
     "outputs": [
      {
       "output_type": "stream",
       "stream": "stderr",
       "text": [
        "/Library/Python/2.7/site-packages/pandas/io/excel.py:626: UserWarning: Installed openpyxl is not supported at this time. Use >=1.6.1 and <2.0.0.\n",
        "  .format(openpyxl_compat.start_ver, openpyxl_compat.stop_ver))\n"
       ]
      }
     ],
     "prompt_number": 1
    },
    {
     "cell_type": "code",
     "collapsed": false,
     "input": [
      "train_data = graphlab.SFrame('http://s3.amazonaws.com/GraphLab-Datasets/mnist/sframe/train')\n",
      "test_data = graphlab.SFrame('http://s3.amazonaws.com/GraphLab-Datasets/mnist/sframe/test')"
     ],
     "language": "python",
     "metadata": {},
     "outputs": [
      {
       "output_type": "stream",
       "stream": "stderr",
       "text": [
        "[INFO] Start server at: ipc:///tmp/graphlab_server-3900 - Server binary: /usr/local/lib/python2.7/site-packages/graphlab/unity_server - Server log: /tmp/graphlab_server_1427672424.log\n"
       ]
      },
      {
       "output_type": "stream",
       "stream": "stderr",
       "text": [
        "[INFO] GraphLab Server Version: 1.3.0\n"
       ]
      },
      {
       "html": [
        "<pre>PROGRESS: Downloading http://s3.amazonaws.com/GraphLab-Datasets/mnist/sframe/train/dir_archive.ini to /var/tmp/graphlab-mwarrick/3900/000000.ini</pre>"
       ],
       "metadata": {},
       "output_type": "display_data",
       "text": [
        "PROGRESS: Downloading http://s3.amazonaws.com/GraphLab-Datasets/mnist/sframe/train/dir_archive.ini to /var/tmp/graphlab-mwarrick/3900/000000.ini"
       ]
      },
      {
       "html": [
        "<pre>PROGRESS: Downloading http://s3.amazonaws.com/GraphLab-Datasets/mnist/sframe/train/objects.bin to /var/tmp/graphlab-mwarrick/3900/000001.bin</pre>"
       ],
       "metadata": {},
       "output_type": "display_data",
       "text": [
        "PROGRESS: Downloading http://s3.amazonaws.com/GraphLab-Datasets/mnist/sframe/train/objects.bin to /var/tmp/graphlab-mwarrick/3900/000001.bin"
       ]
      },
      {
       "html": [
        "<pre>PROGRESS: Downloading http://s3.amazonaws.com/GraphLab-Datasets/mnist/sframe/train/m_4558118e.frame_idx to /var/tmp/graphlab-mwarrick/3900/000002.frame_idx</pre>"
       ],
       "metadata": {},
       "output_type": "display_data",
       "text": [
        "PROGRESS: Downloading http://s3.amazonaws.com/GraphLab-Datasets/mnist/sframe/train/m_4558118e.frame_idx to /var/tmp/graphlab-mwarrick/3900/000002.frame_idx"
       ]
      },
      {
       "html": [
        "<pre>PROGRESS: Downloading http://s3.amazonaws.com/GraphLab-Datasets/mnist/sframe/train/m_4558118e.sidx to /var/tmp/graphlab-mwarrick/3900/000003.sidx</pre>"
       ],
       "metadata": {},
       "output_type": "display_data",
       "text": [
        "PROGRESS: Downloading http://s3.amazonaws.com/GraphLab-Datasets/mnist/sframe/train/m_4558118e.sidx to /var/tmp/graphlab-mwarrick/3900/000003.sidx"
       ]
      },
      {
       "html": [
        "<pre>PROGRESS: Downloading http://s3.amazonaws.com/GraphLab-Datasets/mnist/sframe/train/m_4558118e.0000 to /var/tmp/graphlab-mwarrick/3900/000004.0000</pre>"
       ],
       "metadata": {},
       "output_type": "display_data",
       "text": [
        "PROGRESS: Downloading http://s3.amazonaws.com/GraphLab-Datasets/mnist/sframe/train/m_4558118e.0000 to /var/tmp/graphlab-mwarrick/3900/000004.0000"
       ]
      },
      {
       "html": [
        "<pre>PROGRESS: Downloading http://s3.amazonaws.com/GraphLab-Datasets/mnist/sframe/train/m_4558118e.0001 to /var/tmp/graphlab-mwarrick/3900/000005.0001</pre>"
       ],
       "metadata": {},
       "output_type": "display_data",
       "text": [
        "PROGRESS: Downloading http://s3.amazonaws.com/GraphLab-Datasets/mnist/sframe/train/m_4558118e.0001 to /var/tmp/graphlab-mwarrick/3900/000005.0001"
       ]
      },
      {
       "html": [
        "<pre>PROGRESS: Downloading http://s3.amazonaws.com/GraphLab-Datasets/mnist/sframe/train/m_4558118e.0002 to /var/tmp/graphlab-mwarrick/3900/000006.0002</pre>"
       ],
       "metadata": {},
       "output_type": "display_data",
       "text": [
        "PROGRESS: Downloading http://s3.amazonaws.com/GraphLab-Datasets/mnist/sframe/train/m_4558118e.0002 to /var/tmp/graphlab-mwarrick/3900/000006.0002"
       ]
      },
      {
       "html": [
        "<pre>PROGRESS: Downloading http://s3.amazonaws.com/GraphLab-Datasets/mnist/sframe/train/m_4558118e.0003 to /var/tmp/graphlab-mwarrick/3900/000007.0003</pre>"
       ],
       "metadata": {},
       "output_type": "display_data",
       "text": [
        "PROGRESS: Downloading http://s3.amazonaws.com/GraphLab-Datasets/mnist/sframe/train/m_4558118e.0003 to /var/tmp/graphlab-mwarrick/3900/000007.0003"
       ]
      },
      {
       "html": [
        "<pre>PROGRESS: Downloading http://s3.amazonaws.com/GraphLab-Datasets/mnist/sframe/train/m_4558118e.0004 to /var/tmp/graphlab-mwarrick/3900/000008.0004</pre>"
       ],
       "metadata": {},
       "output_type": "display_data",
       "text": [
        "PROGRESS: Downloading http://s3.amazonaws.com/GraphLab-Datasets/mnist/sframe/train/m_4558118e.0004 to /var/tmp/graphlab-mwarrick/3900/000008.0004"
       ]
      },
      {
       "html": [
        "<pre>PROGRESS: Downloading http://s3.amazonaws.com/GraphLab-Datasets/mnist/sframe/train/m_4558118e.0005 to /var/tmp/graphlab-mwarrick/3900/000009.0005</pre>"
       ],
       "metadata": {},
       "output_type": "display_data",
       "text": [
        "PROGRESS: Downloading http://s3.amazonaws.com/GraphLab-Datasets/mnist/sframe/train/m_4558118e.0005 to /var/tmp/graphlab-mwarrick/3900/000009.0005"
       ]
      },
      {
       "html": [
        "<pre>PROGRESS: Downloading http://s3.amazonaws.com/GraphLab-Datasets/mnist/sframe/train/m_4558118e.0006 to /var/tmp/graphlab-mwarrick/3900/000010.0006</pre>"
       ],
       "metadata": {},
       "output_type": "display_data",
       "text": [
        "PROGRESS: Downloading http://s3.amazonaws.com/GraphLab-Datasets/mnist/sframe/train/m_4558118e.0006 to /var/tmp/graphlab-mwarrick/3900/000010.0006"
       ]
      },
      {
       "html": [
        "<pre>PROGRESS: Downloading http://s3.amazonaws.com/GraphLab-Datasets/mnist/sframe/train/m_4558118e.0007 to /var/tmp/graphlab-mwarrick/3900/000011.0007</pre>"
       ],
       "metadata": {},
       "output_type": "display_data",
       "text": [
        "PROGRESS: Downloading http://s3.amazonaws.com/GraphLab-Datasets/mnist/sframe/train/m_4558118e.0007 to /var/tmp/graphlab-mwarrick/3900/000011.0007"
       ]
      },
      {
       "html": [
        "<pre>PROGRESS: Downloading http://s3.amazonaws.com/GraphLab-Datasets/mnist/sframe/test/dir_archive.ini to /var/tmp/graphlab-mwarrick/3900/000012.ini</pre>"
       ],
       "metadata": {},
       "output_type": "display_data",
       "text": [
        "PROGRESS: Downloading http://s3.amazonaws.com/GraphLab-Datasets/mnist/sframe/test/dir_archive.ini to /var/tmp/graphlab-mwarrick/3900/000012.ini"
       ]
      },
      {
       "html": [
        "<pre>PROGRESS: Downloading http://s3.amazonaws.com/GraphLab-Datasets/mnist/sframe/test/objects.bin to /var/tmp/graphlab-mwarrick/3900/000013.bin</pre>"
       ],
       "metadata": {},
       "output_type": "display_data",
       "text": [
        "PROGRESS: Downloading http://s3.amazonaws.com/GraphLab-Datasets/mnist/sframe/test/objects.bin to /var/tmp/graphlab-mwarrick/3900/000013.bin"
       ]
      },
      {
       "html": [
        "<pre>PROGRESS: Downloading http://s3.amazonaws.com/GraphLab-Datasets/mnist/sframe/test/m_310c50b3.frame_idx to /var/tmp/graphlab-mwarrick/3900/000014.frame_idx</pre>"
       ],
       "metadata": {},
       "output_type": "display_data",
       "text": [
        "PROGRESS: Downloading http://s3.amazonaws.com/GraphLab-Datasets/mnist/sframe/test/m_310c50b3.frame_idx to /var/tmp/graphlab-mwarrick/3900/000014.frame_idx"
       ]
      },
      {
       "html": [
        "<pre>PROGRESS: Downloading http://s3.amazonaws.com/GraphLab-Datasets/mnist/sframe/test/m_310c50b3.sidx to /var/tmp/graphlab-mwarrick/3900/000015.sidx</pre>"
       ],
       "metadata": {},
       "output_type": "display_data",
       "text": [
        "PROGRESS: Downloading http://s3.amazonaws.com/GraphLab-Datasets/mnist/sframe/test/m_310c50b3.sidx to /var/tmp/graphlab-mwarrick/3900/000015.sidx"
       ]
      },
      {
       "html": [
        "<pre>PROGRESS: Downloading http://s3.amazonaws.com/GraphLab-Datasets/mnist/sframe/test/m_310c50b3.0000 to /var/tmp/graphlab-mwarrick/3900/000016.0000</pre>"
       ],
       "metadata": {},
       "output_type": "display_data",
       "text": [
        "PROGRESS: Downloading http://s3.amazonaws.com/GraphLab-Datasets/mnist/sframe/test/m_310c50b3.0000 to /var/tmp/graphlab-mwarrick/3900/000016.0000"
       ]
      },
      {
       "html": [
        "<pre>PROGRESS: Downloading http://s3.amazonaws.com/GraphLab-Datasets/mnist/sframe/test/m_310c50b3.0001 to /var/tmp/graphlab-mwarrick/3900/000017.0001</pre>"
       ],
       "metadata": {},
       "output_type": "display_data",
       "text": [
        "PROGRESS: Downloading http://s3.amazonaws.com/GraphLab-Datasets/mnist/sframe/test/m_310c50b3.0001 to /var/tmp/graphlab-mwarrick/3900/000017.0001"
       ]
      },
      {
       "html": [
        "<pre>PROGRESS: Downloading http://s3.amazonaws.com/GraphLab-Datasets/mnist/sframe/test/m_310c50b3.0002 to /var/tmp/graphlab-mwarrick/3900/000018.0002</pre>"
       ],
       "metadata": {},
       "output_type": "display_data",
       "text": [
        "PROGRESS: Downloading http://s3.amazonaws.com/GraphLab-Datasets/mnist/sframe/test/m_310c50b3.0002 to /var/tmp/graphlab-mwarrick/3900/000018.0002"
       ]
      },
      {
       "html": [
        "<pre>PROGRESS: Downloading http://s3.amazonaws.com/GraphLab-Datasets/mnist/sframe/test/m_310c50b3.0003 to /var/tmp/graphlab-mwarrick/3900/000019.0003</pre>"
       ],
       "metadata": {},
       "output_type": "display_data",
       "text": [
        "PROGRESS: Downloading http://s3.amazonaws.com/GraphLab-Datasets/mnist/sframe/test/m_310c50b3.0003 to /var/tmp/graphlab-mwarrick/3900/000019.0003"
       ]
      },
      {
       "html": [
        "<pre>PROGRESS: Downloading http://s3.amazonaws.com/GraphLab-Datasets/mnist/sframe/test/m_310c50b3.0004 to /var/tmp/graphlab-mwarrick/3900/000020.0004</pre>"
       ],
       "metadata": {},
       "output_type": "display_data",
       "text": [
        "PROGRESS: Downloading http://s3.amazonaws.com/GraphLab-Datasets/mnist/sframe/test/m_310c50b3.0004 to /var/tmp/graphlab-mwarrick/3900/000020.0004"
       ]
      },
      {
       "html": [
        "<pre>PROGRESS: Downloading http://s3.amazonaws.com/GraphLab-Datasets/mnist/sframe/test/m_310c50b3.0005 to /var/tmp/graphlab-mwarrick/3900/000021.0005</pre>"
       ],
       "metadata": {},
       "output_type": "display_data",
       "text": [
        "PROGRESS: Downloading http://s3.amazonaws.com/GraphLab-Datasets/mnist/sframe/test/m_310c50b3.0005 to /var/tmp/graphlab-mwarrick/3900/000021.0005"
       ]
      },
      {
       "html": [
        "<pre>PROGRESS: Downloading http://s3.amazonaws.com/GraphLab-Datasets/mnist/sframe/test/m_310c50b3.0006 to /var/tmp/graphlab-mwarrick/3900/000022.0006</pre>"
       ],
       "metadata": {},
       "output_type": "display_data",
       "text": [
        "PROGRESS: Downloading http://s3.amazonaws.com/GraphLab-Datasets/mnist/sframe/test/m_310c50b3.0006 to /var/tmp/graphlab-mwarrick/3900/000022.0006"
       ]
      },
      {
       "html": [
        "<pre>PROGRESS: Downloading http://s3.amazonaws.com/GraphLab-Datasets/mnist/sframe/test/m_310c50b3.0007 to /var/tmp/graphlab-mwarrick/3900/000023.0007</pre>"
       ],
       "metadata": {},
       "output_type": "display_data",
       "text": [
        "PROGRESS: Downloading http://s3.amazonaws.com/GraphLab-Datasets/mnist/sframe/test/m_310c50b3.0007 to /var/tmp/graphlab-mwarrick/3900/000023.0007"
       ]
      }
     ],
     "prompt_number": 2
    },
    {
     "cell_type": "code",
     "collapsed": false,
     "input": [
      "print train_data.shape"
     ],
     "language": "python",
     "metadata": {},
     "outputs": [
      {
       "output_type": "stream",
       "stream": "stdout",
       "text": [
        "(60000, 2)\n"
       ]
      }
     ],
     "prompt_number": 3
    },
    {
     "cell_type": "markdown",
     "metadata": {},
     "source": [
      "*Sample image data & label data - show structure*"
     ]
    },
    {
     "cell_type": "code",
     "collapsed": false,
     "input": [
      "print train_data['image'][0]\n",
      "print train_data['label'][0]"
     ],
     "language": "python",
     "metadata": {},
     "outputs": [
      {
       "output_type": "stream",
       "stream": "stdout",
       "text": [
        "Height: 28px\n",
        "Width: 28px\n",
        "Channels: 1\n",
        "\n",
        "5"
       ]
      },
      {
       "output_type": "stream",
       "stream": "stdout",
       "text": [
        "\n"
       ]
      }
     ],
     "prompt_number": 4
    },
    {
     "cell_type": "code",
     "collapsed": false,
     "input": [
      "model = graphlab.neuralnet_classifier.create(train_data, target='label', max_iterations=3)"
     ],
     "language": "python",
     "metadata": {},
     "outputs": [
      {
       "html": [
        "<pre>PROGRESS: Computing mean image...</pre>"
       ],
       "metadata": {},
       "output_type": "display_data",
       "text": [
        "PROGRESS: Computing mean image..."
       ]
      },
      {
       "html": [
        "<pre>PROGRESS: Done computing mean image.</pre>"
       ],
       "metadata": {},
       "output_type": "display_data",
       "text": [
        "PROGRESS: Done computing mean image."
       ]
      },
      {
       "html": [
        "<pre>PROGRESS: Creating neuralnet using device = cpu</pre>"
       ],
       "metadata": {},
       "output_type": "display_data",
       "text": [
        "PROGRESS: Creating neuralnet using device = cpu"
       ]
      },
      {
       "html": [
        "<pre>PROGRESS: +-----------+----------+--------------+-------------------+---------------------+-----------------+</pre>"
       ],
       "metadata": {},
       "output_type": "display_data",
       "text": [
        "PROGRESS: +-----------+----------+--------------+-------------------+---------------------+-----------------+"
       ]
      },
      {
       "html": [
        "<pre>PROGRESS: | Iteration | Examples | Elapsed Time | Training-accuracy | Validation-accuracy | Examples/second |</pre>"
       ],
       "metadata": {},
       "output_type": "display_data",
       "text": [
        "PROGRESS: | Iteration | Examples | Elapsed Time | Training-accuracy | Validation-accuracy | Examples/second |"
       ]
      },
      {
       "html": [
        "<pre>PROGRESS: +-----------+----------+--------------+-------------------+---------------------+-----------------+</pre>"
       ],
       "metadata": {},
       "output_type": "display_data",
       "text": [
        "PROGRESS: +-----------+----------+--------------+-------------------+---------------------+-----------------+"
       ]
      },
      {
       "html": [
        "<pre>PROGRESS: | 1         | 29200    | 10.020997    | 0.700103          |                     | 2913.883057     |</pre>"
       ],
       "metadata": {},
       "output_type": "display_data",
       "text": [
        "PROGRESS: | 1         | 29200    | 10.020997    | 0.700103          |                     | 2913.883057     |"
       ]
      },
      {
       "html": [
        "<pre>PROGRESS: | 1         | 57100    | 20.254615    | 0.791384          | 0.943333            | 2726.308105     |</pre>"
       ],
       "metadata": {},
       "output_type": "display_data",
       "text": [
        "PROGRESS: | 1         | 57100    | 20.254615    | 0.791384          | 0.943333            | 2726.308105     |"
       ]
      },
      {
       "html": [
        "<pre>PROGRESS: | 2         | 28300    | 30.276667    | 0.910636          |                     | 2823.829590     |</pre>"
       ],
       "metadata": {},
       "output_type": "display_data",
       "text": [
        "PROGRESS: | 2         | 28300    | 30.276667    | 0.910636          |                     | 2823.829590     |"
       ]
      },
      {
       "html": [
        "<pre>PROGRESS: | 2         | 57000    | 40.527586    | 0.915316          | 0.957333            | 2799.746826     |</pre>"
       ],
       "metadata": {},
       "output_type": "display_data",
       "text": [
        "PROGRESS: | 2         | 57000    | 40.527586    | 0.915316          | 0.957333            | 2799.746826     |"
       ]
      },
      {
       "html": [
        "<pre>PROGRESS: | 3         | 30500    | 50.548510    | 0.928951          |                     | 3043.704102     |</pre>"
       ],
       "metadata": {},
       "output_type": "display_data",
       "text": [
        "PROGRESS: | 3         | 30500    | 50.548510    | 0.928951          |                     | 3043.704102     |"
       ]
      },
      {
       "html": [
        "<pre>PROGRESS: | 3         | 57000    | 60.089661    | 0.931614          | 0.957333            | 2777.440674     |</pre>"
       ],
       "metadata": {},
       "output_type": "display_data",
       "text": [
        "PROGRESS: | 3         | 57000    | 60.089661    | 0.931614          | 0.957333            | 2777.440674     |"
       ]
      },
      {
       "html": [
        "<pre>PROGRESS: +-----------+----------+--------------+-------------------+---------------------+-----------------+</pre>"
       ],
       "metadata": {},
       "output_type": "display_data",
       "text": [
        "PROGRESS: +-----------+----------+--------------+-------------------+---------------------+-----------------+"
       ]
      },
      {
       "output_type": "stream",
       "stream": "stdout",
       "text": [
        "Using network:\n",
        "\n",
        "### network layers ###\n",
        "layer[0]: ConvolutionLayer\n",
        "  init_random = gaussian\n",
        "  padding = 0\n",
        "  stride = 2\n",
        "  num_channels = 10\n",
        "  num_groups = 1\n",
        "  kernel_size = 3\n",
        "layer[1]: MaxPoolingLayer\n",
        "  padding = 0\n",
        "  stride = 2\n",
        "  kernel_size = 3\n",
        "layer[2]: FlattenLayer\n",
        "layer[3]: FullConnectionLayer\n",
        "  init_sigma = 0.01\n",
        "  init_random = gaussian\n",
        "  init_bias = 0\n",
        "  num_hidden_units = 100\n",
        "layer[4]: RectifiedLinearLayer\n",
        "layer[5]: DropoutLayer\n",
        "  threshold = 0.5\n",
        "layer[6]: FullConnectionLayer\n",
        "  init_sigma = 0.01\n",
        "  init_random = gaussian\n",
        "  init_bias = 0\n",
        "  num_hidden_units = 10\n",
        "layer[7]: SoftmaxLayer\n",
        "### end network layers ###\n",
        "\n",
        "### network parameters ###\n",
        "learning_rate = 0.001\n",
        "momentum = 0.9\n",
        "### end network parameters ###\n",
        "\n",
        "PROGRESS: Creating a validation set from 5 percent of training data. This may take a while.\n",
        "          You can set ``validation_set=None`` to disable validation tracking.\n",
        "\n"
       ]
      }
     ],
     "prompt_number": 5
    },
    {
     "cell_type": "code",
     "collapsed": false,
     "input": [
      "eval_ = model.evaluate(test_data, metric=['accuracy', 'confusion_matrix'])"
     ],
     "language": "python",
     "metadata": {},
     "outputs": [],
     "prompt_number": 8
    },
    {
     "cell_type": "code",
     "collapsed": false,
     "input": [
      "eval_"
     ],
     "language": "python",
     "metadata": {},
     "outputs": [
      {
       "metadata": {},
       "output_type": "pyout",
       "prompt_number": 9,
       "text": [
        "{'accuracy': 0.97079998254776, 'confusion_matrix': Columns:\n",
        " \ttarget_label\tint\n",
        " \tpredicted_label\tint\n",
        " \tcount\tint\n",
        " \n",
        " Rows: 73\n",
        " \n",
        " Data:\n",
        " +--------------+-----------------+-------+\n",
        " | target_label | predicted_label | count |\n",
        " +--------------+-----------------+-------+\n",
        " |      6       |        6        |  923  |\n",
        " |      8       |        6        |   4   |\n",
        " |      0       |        6        |   3   |\n",
        " |      5       |        6        |   3   |\n",
        " |      4       |        6        |   2   |\n",
        " |      1       |        6        |   2   |\n",
        " |      6       |        8        |   2   |\n",
        " |      8       |        8        |  926  |\n",
        " |      0       |        8        |   2   |\n",
        " |      3       |        8        |   3   |\n",
        " |     ...      |       ...       |  ...  |\n",
        " +--------------+-----------------+-------+\n",
        " [73 rows x 3 columns]\n",
        " Note: Only the head of the SFrame is printed.\n",
        " You can use print_rows(num_rows=m, num_columns=n) to print more rows and columns.}"
       ]
      }
     ],
     "prompt_number": 9
    },
    {
     "cell_type": "code",
     "collapsed": false,
     "input": [
      "cf_mat = eval_['confusion_matrix']"
     ],
     "language": "python",
     "metadata": {},
     "outputs": [],
     "prompt_number": 10
    },
    {
     "cell_type": "code",
     "collapsed": false,
     "input": [
      "cf_mat"
     ],
     "language": "python",
     "metadata": {},
     "outputs": [
      {
       "html": [
        "<div style=\"max-height:1000px;max-width:1500px;overflow:auto;\"><table frame=\"box\" rules=\"cols\">\n",
        "    <tr>\n",
        "        <th style=\"padding-left: 1em; padding-right: 1em; text-align: center\">target_label</th>\n",
        "        <th style=\"padding-left: 1em; padding-right: 1em; text-align: center\">predicted_label</th>\n",
        "        <th style=\"padding-left: 1em; padding-right: 1em; text-align: center\">count</th>\n",
        "    </tr>\n",
        "    <tr>\n",
        "        <td style=\"padding-left: 1em; padding-right: 1em; text-align: center; vertical-align: top\">6</td>\n",
        "        <td style=\"padding-left: 1em; padding-right: 1em; text-align: center; vertical-align: top\">6</td>\n",
        "        <td style=\"padding-left: 1em; padding-right: 1em; text-align: center; vertical-align: top\">923</td>\n",
        "    </tr>\n",
        "    <tr>\n",
        "        <td style=\"padding-left: 1em; padding-right: 1em; text-align: center; vertical-align: top\">8</td>\n",
        "        <td style=\"padding-left: 1em; padding-right: 1em; text-align: center; vertical-align: top\">6</td>\n",
        "        <td style=\"padding-left: 1em; padding-right: 1em; text-align: center; vertical-align: top\">4</td>\n",
        "    </tr>\n",
        "    <tr>\n",
        "        <td style=\"padding-left: 1em; padding-right: 1em; text-align: center; vertical-align: top\">0</td>\n",
        "        <td style=\"padding-left: 1em; padding-right: 1em; text-align: center; vertical-align: top\">6</td>\n",
        "        <td style=\"padding-left: 1em; padding-right: 1em; text-align: center; vertical-align: top\">3</td>\n",
        "    </tr>\n",
        "    <tr>\n",
        "        <td style=\"padding-left: 1em; padding-right: 1em; text-align: center; vertical-align: top\">5</td>\n",
        "        <td style=\"padding-left: 1em; padding-right: 1em; text-align: center; vertical-align: top\">6</td>\n",
        "        <td style=\"padding-left: 1em; padding-right: 1em; text-align: center; vertical-align: top\">3</td>\n",
        "    </tr>\n",
        "    <tr>\n",
        "        <td style=\"padding-left: 1em; padding-right: 1em; text-align: center; vertical-align: top\">4</td>\n",
        "        <td style=\"padding-left: 1em; padding-right: 1em; text-align: center; vertical-align: top\">6</td>\n",
        "        <td style=\"padding-left: 1em; padding-right: 1em; text-align: center; vertical-align: top\">2</td>\n",
        "    </tr>\n",
        "    <tr>\n",
        "        <td style=\"padding-left: 1em; padding-right: 1em; text-align: center; vertical-align: top\">1</td>\n",
        "        <td style=\"padding-left: 1em; padding-right: 1em; text-align: center; vertical-align: top\">6</td>\n",
        "        <td style=\"padding-left: 1em; padding-right: 1em; text-align: center; vertical-align: top\">2</td>\n",
        "    </tr>\n",
        "    <tr>\n",
        "        <td style=\"padding-left: 1em; padding-right: 1em; text-align: center; vertical-align: top\">6</td>\n",
        "        <td style=\"padding-left: 1em; padding-right: 1em; text-align: center; vertical-align: top\">8</td>\n",
        "        <td style=\"padding-left: 1em; padding-right: 1em; text-align: center; vertical-align: top\">2</td>\n",
        "    </tr>\n",
        "    <tr>\n",
        "        <td style=\"padding-left: 1em; padding-right: 1em; text-align: center; vertical-align: top\">8</td>\n",
        "        <td style=\"padding-left: 1em; padding-right: 1em; text-align: center; vertical-align: top\">8</td>\n",
        "        <td style=\"padding-left: 1em; padding-right: 1em; text-align: center; vertical-align: top\">926</td>\n",
        "    </tr>\n",
        "    <tr>\n",
        "        <td style=\"padding-left: 1em; padding-right: 1em; text-align: center; vertical-align: top\">0</td>\n",
        "        <td style=\"padding-left: 1em; padding-right: 1em; text-align: center; vertical-align: top\">8</td>\n",
        "        <td style=\"padding-left: 1em; padding-right: 1em; text-align: center; vertical-align: top\">2</td>\n",
        "    </tr>\n",
        "    <tr>\n",
        "        <td style=\"padding-left: 1em; padding-right: 1em; text-align: center; vertical-align: top\">3</td>\n",
        "        <td style=\"padding-left: 1em; padding-right: 1em; text-align: center; vertical-align: top\">8</td>\n",
        "        <td style=\"padding-left: 1em; padding-right: 1em; text-align: center; vertical-align: top\">3</td>\n",
        "    </tr>\n",
        "    <tr>\n",
        "        <td style=\"padding-left: 1em; padding-right: 1em; text-align: center; vertical-align: top\">...</td>\n",
        "        <td style=\"padding-left: 1em; padding-right: 1em; text-align: center; vertical-align: top\">...</td>\n",
        "        <td style=\"padding-left: 1em; padding-right: 1em; text-align: center; vertical-align: top\">...</td>\n",
        "    </tr>\n",
        "</table>\n",
        "[73 rows x 3 columns]<br/>Note: Only the head of the SFrame is printed.<br/>You can use print_rows(num_rows=m, num_columns=n) to print more rows and columns.\n",
        "</div>"
       ],
       "metadata": {},
       "output_type": "pyout",
       "prompt_number": 11,
       "text": [
        "Columns:\n",
        "\ttarget_label\tint\n",
        "\tpredicted_label\tint\n",
        "\tcount\tint\n",
        "\n",
        "Rows: 73\n",
        "\n",
        "Data:\n",
        "+--------------+-----------------+-------+\n",
        "| target_label | predicted_label | count |\n",
        "+--------------+-----------------+-------+\n",
        "|      6       |        6        |  923  |\n",
        "|      8       |        6        |   4   |\n",
        "|      0       |        6        |   3   |\n",
        "|      5       |        6        |   3   |\n",
        "|      4       |        6        |   2   |\n",
        "|      1       |        6        |   2   |\n",
        "|      6       |        8        |   2   |\n",
        "|      8       |        8        |  926  |\n",
        "|      0       |        8        |   2   |\n",
        "|      3       |        8        |   3   |\n",
        "|     ...      |       ...       |  ...  |\n",
        "+--------------+-----------------+-------+\n",
        "[73 rows x 3 columns]\n",
        "Note: Only the head of the SFrame is printed.\n",
        "You can use print_rows(num_rows=m, num_columns=n) to print more rows and columns."
       ]
      }
     ],
     "prompt_number": 11
    },
    {
     "cell_type": "markdown",
     "metadata": {},
     "source": [
      "*Confusion Matrix Correct Predictions*"
     ]
    },
    {
     "cell_type": "code",
     "collapsed": false,
     "input": [
      "cf_mat[cf_mat['target_label'] == cf_mat['predicted_label']].groupby('target_label', graphlab.aggregate.SUM('count')).sort('target_label')"
     ],
     "language": "python",
     "metadata": {},
     "outputs": [
      {
       "html": [
        "<div style=\"max-height:1000px;max-width:1500px;overflow:auto;\"><table frame=\"box\" rules=\"cols\">\n",
        "    <tr>\n",
        "        <th style=\"padding-left: 1em; padding-right: 1em; text-align: center\">target_label</th>\n",
        "        <th style=\"padding-left: 1em; padding-right: 1em; text-align: center\">Sum of count</th>\n",
        "    </tr>\n",
        "    <tr>\n",
        "        <td style=\"padding-left: 1em; padding-right: 1em; text-align: center; vertical-align: top\">0</td>\n",
        "        <td style=\"padding-left: 1em; padding-right: 1em; text-align: center; vertical-align: top\">970</td>\n",
        "    </tr>\n",
        "    <tr>\n",
        "        <td style=\"padding-left: 1em; padding-right: 1em; text-align: center; vertical-align: top\">1</td>\n",
        "        <td style=\"padding-left: 1em; padding-right: 1em; text-align: center; vertical-align: top\">1126</td>\n",
        "    </tr>\n",
        "    <tr>\n",
        "        <td style=\"padding-left: 1em; padding-right: 1em; text-align: center; vertical-align: top\">2</td>\n",
        "        <td style=\"padding-left: 1em; padding-right: 1em; text-align: center; vertical-align: top\">995</td>\n",
        "    </tr>\n",
        "    <tr>\n",
        "        <td style=\"padding-left: 1em; padding-right: 1em; text-align: center; vertical-align: top\">3</td>\n",
        "        <td style=\"padding-left: 1em; padding-right: 1em; text-align: center; vertical-align: top\">990</td>\n",
        "    </tr>\n",
        "    <tr>\n",
        "        <td style=\"padding-left: 1em; padding-right: 1em; text-align: center; vertical-align: top\">4</td>\n",
        "        <td style=\"padding-left: 1em; padding-right: 1em; text-align: center; vertical-align: top\">970</td>\n",
        "    </tr>\n",
        "    <tr>\n",
        "        <td style=\"padding-left: 1em; padding-right: 1em; text-align: center; vertical-align: top\">5</td>\n",
        "        <td style=\"padding-left: 1em; padding-right: 1em; text-align: center; vertical-align: top\">870</td>\n",
        "    </tr>\n",
        "    <tr>\n",
        "        <td style=\"padding-left: 1em; padding-right: 1em; text-align: center; vertical-align: top\">6</td>\n",
        "        <td style=\"padding-left: 1em; padding-right: 1em; text-align: center; vertical-align: top\">923</td>\n",
        "    </tr>\n",
        "    <tr>\n",
        "        <td style=\"padding-left: 1em; padding-right: 1em; text-align: center; vertical-align: top\">7</td>\n",
        "        <td style=\"padding-left: 1em; padding-right: 1em; text-align: center; vertical-align: top\">997</td>\n",
        "    </tr>\n",
        "    <tr>\n",
        "        <td style=\"padding-left: 1em; padding-right: 1em; text-align: center; vertical-align: top\">8</td>\n",
        "        <td style=\"padding-left: 1em; padding-right: 1em; text-align: center; vertical-align: top\">926</td>\n",
        "    </tr>\n",
        "    <tr>\n",
        "        <td style=\"padding-left: 1em; padding-right: 1em; text-align: center; vertical-align: top\">9</td>\n",
        "        <td style=\"padding-left: 1em; padding-right: 1em; text-align: center; vertical-align: top\">941</td>\n",
        "    </tr>\n",
        "</table>\n",
        "[10 rows x 2 columns]<br/>\n",
        "</div>"
       ],
       "metadata": {},
       "output_type": "pyout",
       "prompt_number": 14,
       "text": [
        "Columns:\n",
        "\ttarget_label\tint\n",
        "\tSum of count\tint\n",
        "\n",
        "Rows: 10\n",
        "\n",
        "Data:\n",
        "+--------------+--------------+\n",
        "| target_label | Sum of count |\n",
        "+--------------+--------------+\n",
        "|      0       |     970      |\n",
        "|      1       |     1126     |\n",
        "|      2       |     995      |\n",
        "|      3       |     990      |\n",
        "|      4       |     970      |\n",
        "|      5       |     870      |\n",
        "|      6       |     923      |\n",
        "|      7       |     997      |\n",
        "|      8       |     926      |\n",
        "|      9       |     941      |\n",
        "+--------------+--------------+\n",
        "[10 rows x 2 columns]"
       ]
      }
     ],
     "prompt_number": 14
    },
    {
     "cell_type": "markdown",
     "metadata": {},
     "source": [
      "*Confusion Matrix Prediction Mistakes*"
     ]
    },
    {
     "cell_type": "code",
     "collapsed": false,
     "input": [
      "cf_mat[cf_mat['target_label'] != cf_mat['predicted_label']].groupby('target_label', graphlab.aggregate.SUM('count')).sort('target_label')"
     ],
     "language": "python",
     "metadata": {},
     "outputs": [
      {
       "html": [
        "<div style=\"max-height:1000px;max-width:1500px;overflow:auto;\"><table frame=\"box\" rules=\"cols\">\n",
        "    <tr>\n",
        "        <th style=\"padding-left: 1em; padding-right: 1em; text-align: center\">target_label</th>\n",
        "        <th style=\"padding-left: 1em; padding-right: 1em; text-align: center\">Sum of count</th>\n",
        "    </tr>\n",
        "    <tr>\n",
        "        <td style=\"padding-left: 1em; padding-right: 1em; text-align: center; vertical-align: top\">0</td>\n",
        "        <td style=\"padding-left: 1em; padding-right: 1em; text-align: center; vertical-align: top\">10</td>\n",
        "    </tr>\n",
        "    <tr>\n",
        "        <td style=\"padding-left: 1em; padding-right: 1em; text-align: center; vertical-align: top\">1</td>\n",
        "        <td style=\"padding-left: 1em; padding-right: 1em; text-align: center; vertical-align: top\">9</td>\n",
        "    </tr>\n",
        "    <tr>\n",
        "        <td style=\"padding-left: 1em; padding-right: 1em; text-align: center; vertical-align: top\">2</td>\n",
        "        <td style=\"padding-left: 1em; padding-right: 1em; text-align: center; vertical-align: top\">37</td>\n",
        "    </tr>\n",
        "    <tr>\n",
        "        <td style=\"padding-left: 1em; padding-right: 1em; text-align: center; vertical-align: top\">3</td>\n",
        "        <td style=\"padding-left: 1em; padding-right: 1em; text-align: center; vertical-align: top\">20</td>\n",
        "    </tr>\n",
        "    <tr>\n",
        "        <td style=\"padding-left: 1em; padding-right: 1em; text-align: center; vertical-align: top\">4</td>\n",
        "        <td style=\"padding-left: 1em; padding-right: 1em; text-align: center; vertical-align: top\">12</td>\n",
        "    </tr>\n",
        "    <tr>\n",
        "        <td style=\"padding-left: 1em; padding-right: 1em; text-align: center; vertical-align: top\">5</td>\n",
        "        <td style=\"padding-left: 1em; padding-right: 1em; text-align: center; vertical-align: top\">22</td>\n",
        "    </tr>\n",
        "    <tr>\n",
        "        <td style=\"padding-left: 1em; padding-right: 1em; text-align: center; vertical-align: top\">6</td>\n",
        "        <td style=\"padding-left: 1em; padding-right: 1em; text-align: center; vertical-align: top\">35</td>\n",
        "    </tr>\n",
        "    <tr>\n",
        "        <td style=\"padding-left: 1em; padding-right: 1em; text-align: center; vertical-align: top\">7</td>\n",
        "        <td style=\"padding-left: 1em; padding-right: 1em; text-align: center; vertical-align: top\">31</td>\n",
        "    </tr>\n",
        "    <tr>\n",
        "        <td style=\"padding-left: 1em; padding-right: 1em; text-align: center; vertical-align: top\">8</td>\n",
        "        <td style=\"padding-left: 1em; padding-right: 1em; text-align: center; vertical-align: top\">48</td>\n",
        "    </tr>\n",
        "    <tr>\n",
        "        <td style=\"padding-left: 1em; padding-right: 1em; text-align: center; vertical-align: top\">9</td>\n",
        "        <td style=\"padding-left: 1em; padding-right: 1em; text-align: center; vertical-align: top\">68</td>\n",
        "    </tr>\n",
        "</table>\n",
        "[10 rows x 2 columns]<br/>\n",
        "</div>"
       ],
       "metadata": {},
       "output_type": "pyout",
       "prompt_number": 13,
       "text": [
        "Columns:\n",
        "\ttarget_label\tint\n",
        "\tSum of count\tint\n",
        "\n",
        "Rows: 10\n",
        "\n",
        "Data:\n",
        "+--------------+--------------+\n",
        "| target_label | Sum of count |\n",
        "+--------------+--------------+\n",
        "|      0       |      10      |\n",
        "|      1       |      9       |\n",
        "|      2       |      37      |\n",
        "|      3       |      20      |\n",
        "|      4       |      12      |\n",
        "|      5       |      22      |\n",
        "|      6       |      35      |\n",
        "|      7       |      31      |\n",
        "|      8       |      48      |\n",
        "|      9       |      68      |\n",
        "+--------------+--------------+\n",
        "[10 rows x 2 columns]"
       ]
      }
     ],
     "prompt_number": 13
    },
    {
     "cell_type": "markdown",
     "metadata": {},
     "source": [
      "### Script Run"
     ]
    },
    {
     "cell_type": "code",
     "collapsed": false,
     "input": [
      "%load_ext autoreload"
     ],
     "language": "python",
     "metadata": {},
     "outputs": [],
     "prompt_number": 1
    },
    {
     "cell_type": "code",
     "collapsed": false,
     "input": [
      "%autoreload 2"
     ],
     "language": "python",
     "metadata": {},
     "outputs": [],
     "prompt_number": 2
    },
    {
     "cell_type": "code",
     "collapsed": false,
     "input": [
      "import lib.graphlab_mnist as gl_mnist"
     ],
     "language": "python",
     "metadata": {},
     "outputs": [],
     "prompt_number": 5
    },
    {
     "cell_type": "code",
     "collapsed": false,
     "input": [
      "gl_mnist.main()"
     ],
     "language": "python",
     "metadata": {},
     "outputs": [
      {
       "output_type": "stream",
       "stream": "stdout",
       "text": [
        "NN layer details:  layer[0]: ConvolutionLayer\n",
        "  init_random = gaussian\n",
        "  random_type = xavier\n",
        "  padding = 1\n",
        "  stride = 2\n",
        "  num_channels = 32\n",
        "  num_groups = 1\n",
        "  kernel_size = 3\n",
        "layer[1]: MaxPoolingLayer\n",
        "  padding = 0\n",
        "  stride = 2\n",
        "  kernel_size = 3\n",
        "layer[2]: FlattenLayer\n",
        "layer[3]: DropoutLayer\n",
        "  threshold = 0.5\n",
        "layer[4]: FullConnectionLayer\n",
        "  init_sigma = 0.01\n",
        "  init_random = gaussian\n",
        "  init_bias = 0\n",
        "  num_hidden_units = 100\n",
        "layer[5]: SigmoidLayer\n",
        "layer[6]: FullConnectionLayer\n",
        "  init_sigma = 0.01\n",
        "  init_random = gaussian\n",
        "  init_bias = 0\n",
        "  num_hidden_units = 10\n",
        "layer[7]: SoftmaxLayer\n",
        "NN hyper parameters summary:  {'init_random': 'gaussian', 'learning_rate': 0.1, 'input_shape': '1,28,28', 'batch_size': 100, 'divideby': 255, 'l2_regularization': 0.0, 'momentum': 0.9}\n",
        "Using network:\n",
        "\n",
        "### network layers ###\n",
        "layer[0]: ConvolutionLayer\n",
        "  init_random = gaussian\n",
        "  padding = 0\n",
        "  stride = 2\n",
        "  num_channels = 10\n",
        "  num_groups = 1\n",
        "  kernel_size = 3\n",
        "layer[1]: MaxPoolingLayer\n",
        "  padding = 0\n",
        "  stride = 2\n",
        "  kernel_size = 3\n",
        "layer[2]: FlattenLayer\n",
        "layer[3]: FullConnectionLayer\n",
        "  init_sigma = 0.01\n",
        "  init_random = gaussian\n",
        "  init_bias = 0\n",
        "  num_hidden_units = 100\n",
        "layer[4]: RectifiedLinearLayer\n",
        "layer[5]: DropoutLayer\n",
        "  threshold = 0.5\n",
        "layer[6]: FullConnectionLayer\n",
        "  init_sigma = 0.01\n",
        "  init_random = gaussian\n",
        "  init_bias = 0\n",
        "  num_hidden_units = 10\n",
        "layer[7]: SoftmaxLayer\n",
        "### end network layers ###\n",
        "\n",
        "### network parameters ###\n",
        "learning_rate = 0.001\n",
        "momentum = 0.9\n",
        "### end network parameters ###\n"
       ]
      },
      {
       "html": [
        "<pre>PROGRESS: Computing mean image...</pre>"
       ],
       "metadata": {},
       "output_type": "display_data",
       "text": [
        "PROGRESS: Computing mean image..."
       ]
      },
      {
       "html": [
        "<pre>PROGRESS: Done computing mean image.</pre>"
       ],
       "metadata": {},
       "output_type": "display_data",
       "text": [
        "PROGRESS: Done computing mean image."
       ]
      },
      {
       "html": [
        "<pre>PROGRESS: Creating neuralnet using device = cpu</pre>"
       ],
       "metadata": {},
       "output_type": "display_data",
       "text": [
        "PROGRESS: Creating neuralnet using device = cpu"
       ]
      },
      {
       "html": [
        "<pre>PROGRESS: +-----------+----------+--------------+-------------------+---------------------+-----------------+</pre>"
       ],
       "metadata": {},
       "output_type": "display_data",
       "text": [
        "PROGRESS: +-----------+----------+--------------+-------------------+---------------------+-----------------+"
       ]
      },
      {
       "html": [
        "<pre>PROGRESS: | Iteration | Examples | Elapsed Time | Training-accuracy | Validation-accuracy | Examples/second |</pre>"
       ],
       "metadata": {},
       "output_type": "display_data",
       "text": [
        "PROGRESS: | Iteration | Examples | Elapsed Time | Training-accuracy | Validation-accuracy | Examples/second |"
       ]
      },
      {
       "html": [
        "<pre>PROGRESS: +-----------+----------+--------------+-------------------+---------------------+-----------------+</pre>"
       ],
       "metadata": {},
       "output_type": "display_data",
       "text": [
        "PROGRESS: +-----------+----------+--------------+-------------------+---------------------+-----------------+"
       ]
      },
      {
       "html": [
        "<pre>PROGRESS: | 1         | 28700    | 10.007397    | 0.696516          |                     | 2867.880127     |</pre>"
       ],
       "metadata": {},
       "output_type": "display_data",
       "text": [
        "PROGRESS: | 1         | 28700    | 10.007397    | 0.696516          |                     | 2867.880127     |"
       ]
      },
      {
       "html": [
        "<pre>PROGRESS: | 1         | 57000    | 19.907098    | 0.803035          | 0.959677            | 2858.670654     |</pre>"
       ],
       "metadata": {},
       "output_type": "display_data",
       "text": [
        "PROGRESS: | 1         | 57000    | 19.907098    | 0.803035          | 0.959677            | 2858.670654     |"
       ]
      },
      {
       "html": [
        "<pre>PROGRESS: | 2         | 30000    | 29.910762    | 0.928900          |                     | 2998.957764     |</pre>"
       ],
       "metadata": {},
       "output_type": "display_data",
       "text": [
        "PROGRESS: | 2         | 30000    | 29.910762    | 0.928900          |                     | 2998.957764     |"
       ]
      },
      {
       "html": [
        "<pre>PROGRESS: | 2         | 57000    | 39.190411    | 0.934105          | 0.966000            | 2909.590820     |</pre>"
       ],
       "metadata": {},
       "output_type": "display_data",
       "text": [
        "PROGRESS: | 2         | 57000    | 39.190411    | 0.934105          | 0.966000            | 2909.590820     |"
       ]
      },
      {
       "html": [
        "<pre>PROGRESS: | 3         | 30100    | 49.197977    | 0.944219          |                     | 3007.786621     |</pre>"
       ],
       "metadata": {},
       "output_type": "display_data",
       "text": [
        "PROGRESS: | 3         | 30100    | 49.197977    | 0.944219          |                     | 3007.786621     |"
       ]
      },
      {
       "html": [
        "<pre>PROGRESS: | 3         | 57000    | 58.482153    | 0.947526          | 0.972667            | 2897.399902     |</pre>"
       ],
       "metadata": {},
       "output_type": "display_data",
       "text": [
        "PROGRESS: | 3         | 57000    | 58.482153    | 0.947526          | 0.972667            | 2897.399902     |"
       ]
      },
      {
       "html": [
        "<pre>PROGRESS: +-----------+----------+--------------+-------------------+---------------------+-----------------+</pre>"
       ],
       "metadata": {},
       "output_type": "display_data",
       "text": [
        "PROGRESS: +-----------+----------+--------------+-------------------+---------------------+-----------------+"
       ]
      },
      {
       "output_type": "stream",
       "stream": "stdout",
       "text": [
        "\n",
        "PROGRESS: Creating a validation set from 5 percent of training data. This may take a while.\n",
        "          You can set ``validation_set=None`` to disable validation tracking.\n",
        "\n",
        "Accuracy: "
       ]
      },
      {
       "output_type": "stream",
       "stream": "stdout",
       "text": [
        " 0.975000023842\n",
        "Confusion Matrix Correct Predictions\n",
        "+--------------+--------------+\n",
        "| target_label | Sum of count |\n",
        "+--------------+--------------+\n",
        "|      0       |     973      |\n",
        "|      1       |     1123     |\n",
        "|      2       |     1004     |\n",
        "|      3       |     985      |\n",
        "|      4       |     964      |\n",
        "|      5       |     878      |\n",
        "|      6       |     940      |\n",
        "|      7       |     994      |\n",
        "|      8       |     938      |\n",
        "|      9       |     951      |\n",
        "+--------------+--------------+\n",
        "[10 rows x 2 columns]\n"
       ]
      },
      {
       "output_type": "stream",
       "stream": "stdout",
       "text": [
        "\n",
        "Confusion Matrix Prediction Mistakes\n",
        "+--------------+--------------+\n",
        "| target_label | Sum of count |\n",
        "+--------------+--------------+\n",
        "|      0       |      7       |\n",
        "|      1       |      12      |\n",
        "|      2       |      28      |\n",
        "|      3       |      25      |\n",
        "|      4       |      18      |\n",
        "|      5       |      14      |\n",
        "|      6       |      18      |\n",
        "|      7       |      34      |\n",
        "|      8       |      36      |\n",
        "|      9       |      58      |\n",
        "+--------------+--------------+\n",
        "[10 rows x 2 columns]\n"
       ]
      },
      {
       "output_type": "stream",
       "stream": "stdout",
       "text": [
        "\n",
        "Evaluation completed\n"
       ]
      }
     ],
     "prompt_number": 6
    },
    {
     "cell_type": "code",
     "collapsed": false,
     "input": [],
     "language": "python",
     "metadata": {},
     "outputs": []
    }
   ],
   "metadata": {}
  }
 ]
}