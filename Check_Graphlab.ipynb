{
 "metadata": {
  "name": "",
  "signature": "sha256:e7e0d649f7d19145e3b856f435c5f3ee51009b7f966355abc30a489bb1cdbfa9"
 },
 "nbformat": 3,
 "nbformat_minor": 0,
 "worksheets": [
  {
   "cells": [
    {
     "cell_type": "markdown",
     "metadata": {},
     "source": [
      "###Graphlab Example"
     ]
    },
    {
     "cell_type": "code",
     "collapsed": false,
     "input": [
      "import graphlab"
     ],
     "language": "python",
     "metadata": {},
     "outputs": [],
     "prompt_number": 2
    },
    {
     "cell_type": "code",
     "collapsed": false,
     "input": [
      "train_data = graphlab.SFrame('http://s3.amazonaws.com/GraphLab-Datasets/mnist/sframe/train')\n",
      "test_data = graphlab.SFrame('http://s3.amazonaws.com/GraphLab-Datasets/mnist/sframe/test')"
     ],
     "language": "python",
     "metadata": {},
     "outputs": [
      {
       "output_type": "stream",
       "stream": "stderr",
       "text": [
        "[INFO] Start server at: ipc:///tmp/graphlab_server-34416 - Server binary: /usr/local/lib/python2.7/site-packages/graphlab/unity_server - Server log: /tmp/graphlab_server_1427082162.log\n"
       ]
      },
      {
       "output_type": "stream",
       "stream": "stderr",
       "text": [
        "[INFO] GraphLab Server Version: 1.3.0\n"
       ]
      },
      {
       "html": [
        "<pre>PROGRESS: Downloading http://s3.amazonaws.com/GraphLab-Datasets/mnist/sframe/train/dir_archive.ini to /var/tmp/graphlab-mwarrick/34416/000000.ini</pre>"
       ],
       "metadata": {},
       "output_type": "display_data",
       "text": [
        "PROGRESS: Downloading http://s3.amazonaws.com/GraphLab-Datasets/mnist/sframe/train/dir_archive.ini to /var/tmp/graphlab-mwarrick/34416/000000.ini"
       ]
      },
      {
       "html": [
        "<pre>PROGRESS: Downloading http://s3.amazonaws.com/GraphLab-Datasets/mnist/sframe/train/objects.bin to /var/tmp/graphlab-mwarrick/34416/000001.bin</pre>"
       ],
       "metadata": {},
       "output_type": "display_data",
       "text": [
        "PROGRESS: Downloading http://s3.amazonaws.com/GraphLab-Datasets/mnist/sframe/train/objects.bin to /var/tmp/graphlab-mwarrick/34416/000001.bin"
       ]
      },
      {
       "html": [
        "<pre>PROGRESS: Downloading http://s3.amazonaws.com/GraphLab-Datasets/mnist/sframe/train/m_4558118e.frame_idx to /var/tmp/graphlab-mwarrick/34416/000002.frame_idx</pre>"
       ],
       "metadata": {},
       "output_type": "display_data",
       "text": [
        "PROGRESS: Downloading http://s3.amazonaws.com/GraphLab-Datasets/mnist/sframe/train/m_4558118e.frame_idx to /var/tmp/graphlab-mwarrick/34416/000002.frame_idx"
       ]
      },
      {
       "html": [
        "<pre>PROGRESS: Downloading http://s3.amazonaws.com/GraphLab-Datasets/mnist/sframe/train/m_4558118e.sidx to /var/tmp/graphlab-mwarrick/34416/000003.sidx</pre>"
       ],
       "metadata": {},
       "output_type": "display_data",
       "text": [
        "PROGRESS: Downloading http://s3.amazonaws.com/GraphLab-Datasets/mnist/sframe/train/m_4558118e.sidx to /var/tmp/graphlab-mwarrick/34416/000003.sidx"
       ]
      },
      {
       "html": [
        "<pre>PROGRESS: Downloading http://s3.amazonaws.com/GraphLab-Datasets/mnist/sframe/train/m_4558118e.0000 to /var/tmp/graphlab-mwarrick/34416/000004.0000</pre>"
       ],
       "metadata": {},
       "output_type": "display_data",
       "text": [
        "PROGRESS: Downloading http://s3.amazonaws.com/GraphLab-Datasets/mnist/sframe/train/m_4558118e.0000 to /var/tmp/graphlab-mwarrick/34416/000004.0000"
       ]
      },
      {
       "html": [
        "<pre>PROGRESS: Downloading http://s3.amazonaws.com/GraphLab-Datasets/mnist/sframe/train/m_4558118e.0001 to /var/tmp/graphlab-mwarrick/34416/000005.0001</pre>"
       ],
       "metadata": {},
       "output_type": "display_data",
       "text": [
        "PROGRESS: Downloading http://s3.amazonaws.com/GraphLab-Datasets/mnist/sframe/train/m_4558118e.0001 to /var/tmp/graphlab-mwarrick/34416/000005.0001"
       ]
      },
      {
       "html": [
        "<pre>PROGRESS: Downloading http://s3.amazonaws.com/GraphLab-Datasets/mnist/sframe/train/m_4558118e.0002 to /var/tmp/graphlab-mwarrick/34416/000006.0002</pre>"
       ],
       "metadata": {},
       "output_type": "display_data",
       "text": [
        "PROGRESS: Downloading http://s3.amazonaws.com/GraphLab-Datasets/mnist/sframe/train/m_4558118e.0002 to /var/tmp/graphlab-mwarrick/34416/000006.0002"
       ]
      },
      {
       "html": [
        "<pre>PROGRESS: Downloading http://s3.amazonaws.com/GraphLab-Datasets/mnist/sframe/train/m_4558118e.0003 to /var/tmp/graphlab-mwarrick/34416/000007.0003</pre>"
       ],
       "metadata": {},
       "output_type": "display_data",
       "text": [
        "PROGRESS: Downloading http://s3.amazonaws.com/GraphLab-Datasets/mnist/sframe/train/m_4558118e.0003 to /var/tmp/graphlab-mwarrick/34416/000007.0003"
       ]
      },
      {
       "html": [
        "<pre>PROGRESS: Downloading http://s3.amazonaws.com/GraphLab-Datasets/mnist/sframe/train/m_4558118e.0004 to /var/tmp/graphlab-mwarrick/34416/000008.0004</pre>"
       ],
       "metadata": {},
       "output_type": "display_data",
       "text": [
        "PROGRESS: Downloading http://s3.amazonaws.com/GraphLab-Datasets/mnist/sframe/train/m_4558118e.0004 to /var/tmp/graphlab-mwarrick/34416/000008.0004"
       ]
      },
      {
       "html": [
        "<pre>PROGRESS: Downloading http://s3.amazonaws.com/GraphLab-Datasets/mnist/sframe/train/m_4558118e.0005 to /var/tmp/graphlab-mwarrick/34416/000009.0005</pre>"
       ],
       "metadata": {},
       "output_type": "display_data",
       "text": [
        "PROGRESS: Downloading http://s3.amazonaws.com/GraphLab-Datasets/mnist/sframe/train/m_4558118e.0005 to /var/tmp/graphlab-mwarrick/34416/000009.0005"
       ]
      },
      {
       "html": [
        "<pre>PROGRESS: Downloading http://s3.amazonaws.com/GraphLab-Datasets/mnist/sframe/train/m_4558118e.0006 to /var/tmp/graphlab-mwarrick/34416/000010.0006</pre>"
       ],
       "metadata": {},
       "output_type": "display_data",
       "text": [
        "PROGRESS: Downloading http://s3.amazonaws.com/GraphLab-Datasets/mnist/sframe/train/m_4558118e.0006 to /var/tmp/graphlab-mwarrick/34416/000010.0006"
       ]
      },
      {
       "html": [
        "<pre>PROGRESS: Downloading http://s3.amazonaws.com/GraphLab-Datasets/mnist/sframe/train/m_4558118e.0007 to /var/tmp/graphlab-mwarrick/34416/000011.0007</pre>"
       ],
       "metadata": {},
       "output_type": "display_data",
       "text": [
        "PROGRESS: Downloading http://s3.amazonaws.com/GraphLab-Datasets/mnist/sframe/train/m_4558118e.0007 to /var/tmp/graphlab-mwarrick/34416/000011.0007"
       ]
      },
      {
       "html": [
        "<pre>PROGRESS: Downloading http://s3.amazonaws.com/GraphLab-Datasets/mnist/sframe/test/dir_archive.ini to /var/tmp/graphlab-mwarrick/34416/000012.ini</pre>"
       ],
       "metadata": {},
       "output_type": "display_data",
       "text": [
        "PROGRESS: Downloading http://s3.amazonaws.com/GraphLab-Datasets/mnist/sframe/test/dir_archive.ini to /var/tmp/graphlab-mwarrick/34416/000012.ini"
       ]
      },
      {
       "html": [
        "<pre>PROGRESS: Downloading http://s3.amazonaws.com/GraphLab-Datasets/mnist/sframe/test/objects.bin to /var/tmp/graphlab-mwarrick/34416/000013.bin</pre>"
       ],
       "metadata": {},
       "output_type": "display_data",
       "text": [
        "PROGRESS: Downloading http://s3.amazonaws.com/GraphLab-Datasets/mnist/sframe/test/objects.bin to /var/tmp/graphlab-mwarrick/34416/000013.bin"
       ]
      },
      {
       "html": [
        "<pre>PROGRESS: Downloading http://s3.amazonaws.com/GraphLab-Datasets/mnist/sframe/test/m_310c50b3.frame_idx to /var/tmp/graphlab-mwarrick/34416/000014.frame_idx</pre>"
       ],
       "metadata": {},
       "output_type": "display_data",
       "text": [
        "PROGRESS: Downloading http://s3.amazonaws.com/GraphLab-Datasets/mnist/sframe/test/m_310c50b3.frame_idx to /var/tmp/graphlab-mwarrick/34416/000014.frame_idx"
       ]
      },
      {
       "html": [
        "<pre>PROGRESS: Downloading http://s3.amazonaws.com/GraphLab-Datasets/mnist/sframe/test/m_310c50b3.sidx to /var/tmp/graphlab-mwarrick/34416/000015.sidx</pre>"
       ],
       "metadata": {},
       "output_type": "display_data",
       "text": [
        "PROGRESS: Downloading http://s3.amazonaws.com/GraphLab-Datasets/mnist/sframe/test/m_310c50b3.sidx to /var/tmp/graphlab-mwarrick/34416/000015.sidx"
       ]
      },
      {
       "html": [
        "<pre>PROGRESS: Downloading http://s3.amazonaws.com/GraphLab-Datasets/mnist/sframe/test/m_310c50b3.0000 to /var/tmp/graphlab-mwarrick/34416/000016.0000</pre>"
       ],
       "metadata": {},
       "output_type": "display_data",
       "text": [
        "PROGRESS: Downloading http://s3.amazonaws.com/GraphLab-Datasets/mnist/sframe/test/m_310c50b3.0000 to /var/tmp/graphlab-mwarrick/34416/000016.0000"
       ]
      },
      {
       "html": [
        "<pre>PROGRESS: Downloading http://s3.amazonaws.com/GraphLab-Datasets/mnist/sframe/test/m_310c50b3.0001 to /var/tmp/graphlab-mwarrick/34416/000017.0001</pre>"
       ],
       "metadata": {},
       "output_type": "display_data",
       "text": [
        "PROGRESS: Downloading http://s3.amazonaws.com/GraphLab-Datasets/mnist/sframe/test/m_310c50b3.0001 to /var/tmp/graphlab-mwarrick/34416/000017.0001"
       ]
      },
      {
       "html": [
        "<pre>PROGRESS: Downloading http://s3.amazonaws.com/GraphLab-Datasets/mnist/sframe/test/m_310c50b3.0002 to /var/tmp/graphlab-mwarrick/34416/000018.0002</pre>"
       ],
       "metadata": {},
       "output_type": "display_data",
       "text": [
        "PROGRESS: Downloading http://s3.amazonaws.com/GraphLab-Datasets/mnist/sframe/test/m_310c50b3.0002 to /var/tmp/graphlab-mwarrick/34416/000018.0002"
       ]
      },
      {
       "html": [
        "<pre>PROGRESS: Downloading http://s3.amazonaws.com/GraphLab-Datasets/mnist/sframe/test/m_310c50b3.0003 to /var/tmp/graphlab-mwarrick/34416/000019.0003</pre>"
       ],
       "metadata": {},
       "output_type": "display_data",
       "text": [
        "PROGRESS: Downloading http://s3.amazonaws.com/GraphLab-Datasets/mnist/sframe/test/m_310c50b3.0003 to /var/tmp/graphlab-mwarrick/34416/000019.0003"
       ]
      },
      {
       "html": [
        "<pre>PROGRESS: Downloading http://s3.amazonaws.com/GraphLab-Datasets/mnist/sframe/test/m_310c50b3.0004 to /var/tmp/graphlab-mwarrick/34416/000020.0004</pre>"
       ],
       "metadata": {},
       "output_type": "display_data",
       "text": [
        "PROGRESS: Downloading http://s3.amazonaws.com/GraphLab-Datasets/mnist/sframe/test/m_310c50b3.0004 to /var/tmp/graphlab-mwarrick/34416/000020.0004"
       ]
      },
      {
       "html": [
        "<pre>PROGRESS: Downloading http://s3.amazonaws.com/GraphLab-Datasets/mnist/sframe/test/m_310c50b3.0005 to /var/tmp/graphlab-mwarrick/34416/000021.0005</pre>"
       ],
       "metadata": {},
       "output_type": "display_data",
       "text": [
        "PROGRESS: Downloading http://s3.amazonaws.com/GraphLab-Datasets/mnist/sframe/test/m_310c50b3.0005 to /var/tmp/graphlab-mwarrick/34416/000021.0005"
       ]
      },
      {
       "html": [
        "<pre>PROGRESS: Downloading http://s3.amazonaws.com/GraphLab-Datasets/mnist/sframe/test/m_310c50b3.0006 to /var/tmp/graphlab-mwarrick/34416/000022.0006</pre>"
       ],
       "metadata": {},
       "output_type": "display_data",
       "text": [
        "PROGRESS: Downloading http://s3.amazonaws.com/GraphLab-Datasets/mnist/sframe/test/m_310c50b3.0006 to /var/tmp/graphlab-mwarrick/34416/000022.0006"
       ]
      },
      {
       "html": [
        "<pre>PROGRESS: Downloading http://s3.amazonaws.com/GraphLab-Datasets/mnist/sframe/test/m_310c50b3.0007 to /var/tmp/graphlab-mwarrick/34416/000023.0007</pre>"
       ],
       "metadata": {},
       "output_type": "display_data",
       "text": [
        "PROGRESS: Downloading http://s3.amazonaws.com/GraphLab-Datasets/mnist/sframe/test/m_310c50b3.0007 to /var/tmp/graphlab-mwarrick/34416/000023.0007"
       ]
      }
     ],
     "prompt_number": 3
    },
    {
     "cell_type": "code",
     "collapsed": false,
     "input": [
      "train_data['image'][0]"
     ],
     "language": "python",
     "metadata": {},
     "outputs": [
      {
       "metadata": {},
       "output_type": "pyout",
       "prompt_number": 4,
       "text": [
        "Height: 28px\n",
        "Width: 28px\n",
        "Channels: 1"
       ]
      }
     ],
     "prompt_number": 4
    },
    {
     "cell_type": "code",
     "collapsed": false,
     "input": [
      "model = graphlab.neuralnet_classifier.create(train_data, target='label', max_iterations=3)"
     ],
     "language": "python",
     "metadata": {},
     "outputs": [
      {
       "html": [
        "<pre>PROGRESS: Computing mean image...</pre>"
       ],
       "metadata": {},
       "output_type": "display_data",
       "text": [
        "PROGRESS: Computing mean image..."
       ]
      },
      {
       "html": [
        "<pre>PROGRESS: Done computing mean image.</pre>"
       ],
       "metadata": {},
       "output_type": "display_data",
       "text": [
        "PROGRESS: Done computing mean image."
       ]
      },
      {
       "html": [
        "<pre>PROGRESS: Creating neuralnet using device = cpu</pre>"
       ],
       "metadata": {},
       "output_type": "display_data",
       "text": [
        "PROGRESS: Creating neuralnet using device = cpu"
       ]
      },
      {
       "html": [
        "<pre>PROGRESS: +-----------+----------+--------------+-------------------+---------------------+-----------------+</pre>"
       ],
       "metadata": {},
       "output_type": "display_data",
       "text": [
        "PROGRESS: +-----------+----------+--------------+-------------------+---------------------+-----------------+"
       ]
      },
      {
       "html": [
        "<pre>PROGRESS: | Iteration | Examples | Elapsed Time | Training-accuracy | Validation-accuracy | Examples/second |</pre>"
       ],
       "metadata": {},
       "output_type": "display_data",
       "text": [
        "PROGRESS: | Iteration | Examples | Elapsed Time | Training-accuracy | Validation-accuracy | Examples/second |"
       ]
      },
      {
       "html": [
        "<pre>PROGRESS: +-----------+----------+--------------+-------------------+---------------------+-----------------+</pre>"
       ],
       "metadata": {},
       "output_type": "display_data",
       "text": [
        "PROGRESS: +-----------+----------+--------------+-------------------+---------------------+-----------------+"
       ]
      },
      {
       "html": [
        "<pre>PROGRESS: | 1         | 32200    | 10.019913    | 0.739596          |                     | 3213.602783     |</pre>"
       ],
       "metadata": {},
       "output_type": "display_data",
       "text": [
        "PROGRESS: | 1         | 32200    | 10.019913    | 0.739596          |                     | 3213.602783     |"
       ]
      },
      {
       "html": [
        "<pre>PROGRESS: | 1         | 57000    | 18.231370    | 0.809018          | 0.950323            | 3020.337402     |</pre>"
       ],
       "metadata": {},
       "output_type": "display_data",
       "text": [
        "PROGRESS: | 1         | 57000    | 18.231370    | 0.809018          | 0.950323            | 3020.337402     |"
       ]
      },
      {
       "html": [
        "<pre>PROGRESS: | 2         | 32800    | 28.241301    | 0.922226          |                     | 3276.971680     |</pre>"
       ],
       "metadata": {},
       "output_type": "display_data",
       "text": [
        "PROGRESS: | 2         | 32800    | 28.241301    | 0.922226          |                     | 3276.971680     |"
       ]
      },
      {
       "html": [
        "<pre>PROGRESS: | 2         | 57000    | 36.057994    | 0.925509          | 0.968667            | 3095.935303     |</pre>"
       ],
       "metadata": {},
       "output_type": "display_data",
       "text": [
        "PROGRESS: | 2         | 57000    | 36.057994    | 0.925509          | 0.968667            | 3095.935303     |"
       ]
      },
      {
       "html": [
        "<pre>PROGRESS: | 3         | 33500    | 46.075899    | 0.938716          |                     | 3344.222168     |</pre>"
       ],
       "metadata": {},
       "output_type": "display_data",
       "text": [
        "PROGRESS: | 3         | 33500    | 46.075899    | 0.938716          |                     | 3344.222168     |"
       ]
      },
      {
       "html": [
        "<pre>PROGRESS: | 3         | 56900    | 53.713762    | 0.940650          | 0.963871            | 3063.682129     |</pre>"
       ],
       "metadata": {},
       "output_type": "display_data",
       "text": [
        "PROGRESS: | 3         | 56900    | 53.713762    | 0.940650          | 0.963871            | 3063.682129     |"
       ]
      },
      {
       "html": [
        "<pre>PROGRESS: +-----------+----------+--------------+-------------------+---------------------+-----------------+</pre>"
       ],
       "metadata": {},
       "output_type": "display_data",
       "text": [
        "PROGRESS: +-----------+----------+--------------+-------------------+---------------------+-----------------+"
       ]
      },
      {
       "output_type": "stream",
       "stream": "stdout",
       "text": [
        "Using network:\n",
        "\n",
        "### network layers ###\n",
        "layer[0]: ConvolutionLayer\n",
        "  init_random = gaussian\n",
        "  padding = 0\n",
        "  stride = 2\n",
        "  num_channels = 10\n",
        "  num_groups = 1\n",
        "  kernel_size = 3\n",
        "layer[1]: MaxPoolingLayer\n",
        "  padding = 0\n",
        "  stride = 2\n",
        "  kernel_size = 3\n",
        "layer[2]: FlattenLayer\n",
        "layer[3]: FullConnectionLayer\n",
        "  init_sigma = 0.01\n",
        "  init_random = gaussian\n",
        "  init_bias = 0\n",
        "  num_hidden_units = 100\n",
        "layer[4]: RectifiedLinearLayer\n",
        "layer[5]: DropoutLayer\n",
        "  threshold = 0.5\n",
        "layer[6]: FullConnectionLayer\n",
        "  init_sigma = 0.01\n",
        "  init_random = gaussian\n",
        "  init_bias = 0\n",
        "  num_hidden_units = 10\n",
        "layer[7]: SoftmaxLayer\n",
        "### end network layers ###\n",
        "\n",
        "### network parameters ###\n",
        "learning_rate = 0.001\n",
        "momentum = 0.9\n",
        "### end network parameters ###\n",
        "\n",
        "PROGRESS: Creating a validation set from 5 percent of training data. This may take a while.\n",
        "          You can set ``validation_set=None`` to disable validation tracking.\n",
        "\n"
       ]
      }
     ],
     "prompt_number": 8
    },
    {
     "cell_type": "code",
     "collapsed": false,
     "input": [
      "eval_ = model.evaluate(test_data, metric=['accuracy', 'confusion_matrix'])"
     ],
     "language": "python",
     "metadata": {},
     "outputs": [],
     "prompt_number": 9
    },
    {
     "cell_type": "code",
     "collapsed": false,
     "input": [
      "eval_"
     ],
     "language": "python",
     "metadata": {},
     "outputs": [
      {
       "metadata": {},
       "output_type": "pyout",
       "prompt_number": 10,
       "text": [
        "{'accuracy': 0.9686999917030334, 'confusion_matrix': Columns:\n",
        " \ttarget_label\tint\n",
        " \tpredicted_label\tint\n",
        " \tcount\tint\n",
        " \n",
        " Rows: 71\n",
        " \n",
        " Data:\n",
        " +--------------+-----------------+-------+\n",
        " | target_label | predicted_label | count |\n",
        " +--------------+-----------------+-------+\n",
        " |      9       |        9        |  956  |\n",
        " |      4       |        9        |   14  |\n",
        " |      2       |        9        |   1   |\n",
        " |      8       |        9        |   8   |\n",
        " |      7       |        9        |   10  |\n",
        " |      9       |        4        |   9   |\n",
        " |      4       |        4        |  964  |\n",
        " |      2       |        4        |   3   |\n",
        " |      5       |        4        |   2   |\n",
        " |      6       |        4        |   10  |\n",
        " |     ...      |       ...       |  ...  |\n",
        " +--------------+-----------------+-------+\n",
        " [71 rows x 3 columns]\n",
        " Note: Only the head of the SFrame is printed.\n",
        " You can use print_rows(num_rows=m, num_columns=n) to print more rows and columns.}"
       ]
      }
     ],
     "prompt_number": 10
    },
    {
     "cell_type": "code",
     "collapsed": false,
     "input": [
      "cf_mat = eval_['confusion_matrix']"
     ],
     "language": "python",
     "metadata": {},
     "outputs": [],
     "prompt_number": 11
    },
    {
     "cell_type": "code",
     "collapsed": false,
     "input": [
      "cf_mat"
     ],
     "language": "python",
     "metadata": {},
     "outputs": [
      {
       "html": [
        "<div style=\"max-height:1000px;max-width:1500px;overflow:auto;\"><table frame=\"box\" rules=\"cols\">\n",
        "    <tr>\n",
        "        <th style=\"padding-left: 1em; padding-right: 1em; text-align: center\">target_label</th>\n",
        "        <th style=\"padding-left: 1em; padding-right: 1em; text-align: center\">predicted_label</th>\n",
        "        <th style=\"padding-left: 1em; padding-right: 1em; text-align: center\">count</th>\n",
        "    </tr>\n",
        "    <tr>\n",
        "        <td style=\"padding-left: 1em; padding-right: 1em; text-align: center; vertical-align: top\">9</td>\n",
        "        <td style=\"padding-left: 1em; padding-right: 1em; text-align: center; vertical-align: top\">9</td>\n",
        "        <td style=\"padding-left: 1em; padding-right: 1em; text-align: center; vertical-align: top\">956</td>\n",
        "    </tr>\n",
        "    <tr>\n",
        "        <td style=\"padding-left: 1em; padding-right: 1em; text-align: center; vertical-align: top\">4</td>\n",
        "        <td style=\"padding-left: 1em; padding-right: 1em; text-align: center; vertical-align: top\">9</td>\n",
        "        <td style=\"padding-left: 1em; padding-right: 1em; text-align: center; vertical-align: top\">14</td>\n",
        "    </tr>\n",
        "    <tr>\n",
        "        <td style=\"padding-left: 1em; padding-right: 1em; text-align: center; vertical-align: top\">2</td>\n",
        "        <td style=\"padding-left: 1em; padding-right: 1em; text-align: center; vertical-align: top\">9</td>\n",
        "        <td style=\"padding-left: 1em; padding-right: 1em; text-align: center; vertical-align: top\">1</td>\n",
        "    </tr>\n",
        "    <tr>\n",
        "        <td style=\"padding-left: 1em; padding-right: 1em; text-align: center; vertical-align: top\">8</td>\n",
        "        <td style=\"padding-left: 1em; padding-right: 1em; text-align: center; vertical-align: top\">9</td>\n",
        "        <td style=\"padding-left: 1em; padding-right: 1em; text-align: center; vertical-align: top\">8</td>\n",
        "    </tr>\n",
        "    <tr>\n",
        "        <td style=\"padding-left: 1em; padding-right: 1em; text-align: center; vertical-align: top\">7</td>\n",
        "        <td style=\"padding-left: 1em; padding-right: 1em; text-align: center; vertical-align: top\">9</td>\n",
        "        <td style=\"padding-left: 1em; padding-right: 1em; text-align: center; vertical-align: top\">10</td>\n",
        "    </tr>\n",
        "    <tr>\n",
        "        <td style=\"padding-left: 1em; padding-right: 1em; text-align: center; vertical-align: top\">9</td>\n",
        "        <td style=\"padding-left: 1em; padding-right: 1em; text-align: center; vertical-align: top\">4</td>\n",
        "        <td style=\"padding-left: 1em; padding-right: 1em; text-align: center; vertical-align: top\">9</td>\n",
        "    </tr>\n",
        "    <tr>\n",
        "        <td style=\"padding-left: 1em; padding-right: 1em; text-align: center; vertical-align: top\">4</td>\n",
        "        <td style=\"padding-left: 1em; padding-right: 1em; text-align: center; vertical-align: top\">4</td>\n",
        "        <td style=\"padding-left: 1em; padding-right: 1em; text-align: center; vertical-align: top\">964</td>\n",
        "    </tr>\n",
        "    <tr>\n",
        "        <td style=\"padding-left: 1em; padding-right: 1em; text-align: center; vertical-align: top\">2</td>\n",
        "        <td style=\"padding-left: 1em; padding-right: 1em; text-align: center; vertical-align: top\">4</td>\n",
        "        <td style=\"padding-left: 1em; padding-right: 1em; text-align: center; vertical-align: top\">3</td>\n",
        "    </tr>\n",
        "    <tr>\n",
        "        <td style=\"padding-left: 1em; padding-right: 1em; text-align: center; vertical-align: top\">5</td>\n",
        "        <td style=\"padding-left: 1em; padding-right: 1em; text-align: center; vertical-align: top\">4</td>\n",
        "        <td style=\"padding-left: 1em; padding-right: 1em; text-align: center; vertical-align: top\">2</td>\n",
        "    </tr>\n",
        "    <tr>\n",
        "        <td style=\"padding-left: 1em; padding-right: 1em; text-align: center; vertical-align: top\">6</td>\n",
        "        <td style=\"padding-left: 1em; padding-right: 1em; text-align: center; vertical-align: top\">4</td>\n",
        "        <td style=\"padding-left: 1em; padding-right: 1em; text-align: center; vertical-align: top\">10</td>\n",
        "    </tr>\n",
        "    <tr>\n",
        "        <td style=\"padding-left: 1em; padding-right: 1em; text-align: center; vertical-align: top\">...</td>\n",
        "        <td style=\"padding-left: 1em; padding-right: 1em; text-align: center; vertical-align: top\">...</td>\n",
        "        <td style=\"padding-left: 1em; padding-right: 1em; text-align: center; vertical-align: top\">...</td>\n",
        "    </tr>\n",
        "</table>\n",
        "[71 rows x 3 columns]<br/>Note: Only the head of the SFrame is printed.<br/>You can use print_rows(num_rows=m, num_columns=n) to print more rows and columns.\n",
        "</div>"
       ],
       "metadata": {},
       "output_type": "pyout",
       "prompt_number": 12,
       "text": [
        "Columns:\n",
        "\ttarget_label\tint\n",
        "\tpredicted_label\tint\n",
        "\tcount\tint\n",
        "\n",
        "Rows: 71\n",
        "\n",
        "Data:\n",
        "+--------------+-----------------+-------+\n",
        "| target_label | predicted_label | count |\n",
        "+--------------+-----------------+-------+\n",
        "|      9       |        9        |  956  |\n",
        "|      4       |        9        |   14  |\n",
        "|      2       |        9        |   1   |\n",
        "|      8       |        9        |   8   |\n",
        "|      7       |        9        |   10  |\n",
        "|      9       |        4        |   9   |\n",
        "|      4       |        4        |  964  |\n",
        "|      2       |        4        |   3   |\n",
        "|      5       |        4        |   2   |\n",
        "|      6       |        4        |   10  |\n",
        "|     ...      |       ...       |  ...  |\n",
        "+--------------+-----------------+-------+\n",
        "[71 rows x 3 columns]\n",
        "Note: Only the head of the SFrame is printed.\n",
        "You can use print_rows(num_rows=m, num_columns=n) to print more rows and columns."
       ]
      }
     ],
     "prompt_number": 12
    },
    {
     "cell_type": "code",
     "collapsed": false,
     "input": [
      "cf_mat[cf_mat['target_label'] != cf_mat['predicted_label']].groupby('target_label', graphlab.aggregate.SUM('count'))"
     ],
     "language": "python",
     "metadata": {},
     "outputs": [
      {
       "html": [
        "<div style=\"max-height:1000px;max-width:1500px;overflow:auto;\"><table frame=\"box\" rules=\"cols\">\n",
        "    <tr>\n",
        "        <th style=\"padding-left: 1em; padding-right: 1em; text-align: center\">target_label</th>\n",
        "        <th style=\"padding-left: 1em; padding-right: 1em; text-align: center\">Sum of count</th>\n",
        "    </tr>\n",
        "    <tr>\n",
        "        <td style=\"padding-left: 1em; padding-right: 1em; text-align: center; vertical-align: top\">2</td>\n",
        "        <td style=\"padding-left: 1em; padding-right: 1em; text-align: center; vertical-align: top\">29</td>\n",
        "    </tr>\n",
        "    <tr>\n",
        "        <td style=\"padding-left: 1em; padding-right: 1em; text-align: center; vertical-align: top\">8</td>\n",
        "        <td style=\"padding-left: 1em; padding-right: 1em; text-align: center; vertical-align: top\">47</td>\n",
        "    </tr>\n",
        "    <tr>\n",
        "        <td style=\"padding-left: 1em; padding-right: 1em; text-align: center; vertical-align: top\">0</td>\n",
        "        <td style=\"padding-left: 1em; padding-right: 1em; text-align: center; vertical-align: top\">10</td>\n",
        "    </tr>\n",
        "    <tr>\n",
        "        <td style=\"padding-left: 1em; padding-right: 1em; text-align: center; vertical-align: top\">5</td>\n",
        "        <td style=\"padding-left: 1em; padding-right: 1em; text-align: center; vertical-align: top\">26</td>\n",
        "    </tr>\n",
        "    <tr>\n",
        "        <td style=\"padding-left: 1em; padding-right: 1em; text-align: center; vertical-align: top\">4</td>\n",
        "        <td style=\"padding-left: 1em; padding-right: 1em; text-align: center; vertical-align: top\">38</td>\n",
        "    </tr>\n",
        "    <tr>\n",
        "        <td style=\"padding-left: 1em; padding-right: 1em; text-align: center; vertical-align: top\">3</td>\n",
        "        <td style=\"padding-left: 1em; padding-right: 1em; text-align: center; vertical-align: top\">23</td>\n",
        "    </tr>\n",
        "    <tr>\n",
        "        <td style=\"padding-left: 1em; padding-right: 1em; text-align: center; vertical-align: top\">1</td>\n",
        "        <td style=\"padding-left: 1em; padding-right: 1em; text-align: center; vertical-align: top\">15</td>\n",
        "    </tr>\n",
        "    <tr>\n",
        "        <td style=\"padding-left: 1em; padding-right: 1em; text-align: center; vertical-align: top\">9</td>\n",
        "        <td style=\"padding-left: 1em; padding-right: 1em; text-align: center; vertical-align: top\">43</td>\n",
        "    </tr>\n",
        "    <tr>\n",
        "        <td style=\"padding-left: 1em; padding-right: 1em; text-align: center; vertical-align: top\">7</td>\n",
        "        <td style=\"padding-left: 1em; padding-right: 1em; text-align: center; vertical-align: top\">38</td>\n",
        "    </tr>\n",
        "    <tr>\n",
        "        <td style=\"padding-left: 1em; padding-right: 1em; text-align: center; vertical-align: top\">6</td>\n",
        "        <td style=\"padding-left: 1em; padding-right: 1em; text-align: center; vertical-align: top\">25</td>\n",
        "    </tr>\n",
        "</table>\n",
        "[10 rows x 2 columns]<br/>\n",
        "</div>"
       ],
       "metadata": {},
       "output_type": "pyout",
       "prompt_number": 34,
       "text": [
        "Columns:\n",
        "\ttarget_label\tint\n",
        "\tSum of count\tint\n",
        "\n",
        "Rows: 10\n",
        "\n",
        "Data:\n",
        "+--------------+--------------+\n",
        "| target_label | Sum of count |\n",
        "+--------------+--------------+\n",
        "|      2       |      29      |\n",
        "|      8       |      47      |\n",
        "|      0       |      10      |\n",
        "|      5       |      26      |\n",
        "|      4       |      38      |\n",
        "|      3       |      23      |\n",
        "|      1       |      15      |\n",
        "|      9       |      43      |\n",
        "|      7       |      38      |\n",
        "|      6       |      25      |\n",
        "+--------------+--------------+\n",
        "[10 rows x 2 columns]"
       ]
      }
     ],
     "prompt_number": 34
    },
    {
     "cell_type": "code",
     "collapsed": false,
     "input": [
      "cf_mat[cf_mat['target_label'] == cf_mat['predicted_label']].groupby('target_label', graphlab.aggregate.SUM('count'))"
     ],
     "language": "python",
     "metadata": {},
     "outputs": [
      {
       "html": [
        "<div style=\"max-height:1000px;max-width:1500px;overflow:auto;\"><table frame=\"box\" rules=\"cols\">\n",
        "    <tr>\n",
        "        <th style=\"padding-left: 1em; padding-right: 1em; text-align: center\">target_label</th>\n",
        "        <th style=\"padding-left: 1em; padding-right: 1em; text-align: center\">Sum of count</th>\n",
        "    </tr>\n",
        "    <tr>\n",
        "        <td style=\"padding-left: 1em; padding-right: 1em; text-align: center; vertical-align: top\">2</td>\n",
        "        <td style=\"padding-left: 1em; padding-right: 1em; text-align: center; vertical-align: top\">1001</td>\n",
        "    </tr>\n",
        "    <tr>\n",
        "        <td style=\"padding-left: 1em; padding-right: 1em; text-align: center; vertical-align: top\">8</td>\n",
        "        <td style=\"padding-left: 1em; padding-right: 1em; text-align: center; vertical-align: top\">938</td>\n",
        "    </tr>\n",
        "    <tr>\n",
        "        <td style=\"padding-left: 1em; padding-right: 1em; text-align: center; vertical-align: top\">0</td>\n",
        "        <td style=\"padding-left: 1em; padding-right: 1em; text-align: center; vertical-align: top\">962</td>\n",
        "    </tr>\n",
        "    <tr>\n",
        "        <td style=\"padding-left: 1em; padding-right: 1em; text-align: center; vertical-align: top\">5</td>\n",
        "        <td style=\"padding-left: 1em; padding-right: 1em; text-align: center; vertical-align: top\">857</td>\n",
        "    </tr>\n",
        "    <tr>\n",
        "        <td style=\"padding-left: 1em; padding-right: 1em; text-align: center; vertical-align: top\">4</td>\n",
        "        <td style=\"padding-left: 1em; padding-right: 1em; text-align: center; vertical-align: top\">964</td>\n",
        "    </tr>\n",
        "    <tr>\n",
        "        <td style=\"padding-left: 1em; padding-right: 1em; text-align: center; vertical-align: top\">3</td>\n",
        "        <td style=\"padding-left: 1em; padding-right: 1em; text-align: center; vertical-align: top\">998</td>\n",
        "    </tr>\n",
        "    <tr>\n",
        "        <td style=\"padding-left: 1em; padding-right: 1em; text-align: center; vertical-align: top\">1</td>\n",
        "        <td style=\"padding-left: 1em; padding-right: 1em; text-align: center; vertical-align: top\">1121</td>\n",
        "    </tr>\n",
        "    <tr>\n",
        "        <td style=\"padding-left: 1em; padding-right: 1em; text-align: center; vertical-align: top\">9</td>\n",
        "        <td style=\"padding-left: 1em; padding-right: 1em; text-align: center; vertical-align: top\">956</td>\n",
        "    </tr>\n",
        "    <tr>\n",
        "        <td style=\"padding-left: 1em; padding-right: 1em; text-align: center; vertical-align: top\">7</td>\n",
        "        <td style=\"padding-left: 1em; padding-right: 1em; text-align: center; vertical-align: top\">968</td>\n",
        "    </tr>\n",
        "    <tr>\n",
        "        <td style=\"padding-left: 1em; padding-right: 1em; text-align: center; vertical-align: top\">6</td>\n",
        "        <td style=\"padding-left: 1em; padding-right: 1em; text-align: center; vertical-align: top\">922</td>\n",
        "    </tr>\n",
        "</table>\n",
        "[10 rows x 2 columns]<br/>\n",
        "</div>"
       ],
       "metadata": {},
       "output_type": "pyout",
       "prompt_number": 13,
       "text": [
        "Columns:\n",
        "\ttarget_label\tint\n",
        "\tSum of count\tint\n",
        "\n",
        "Rows: 10\n",
        "\n",
        "Data:\n",
        "+--------------+--------------+\n",
        "| target_label | Sum of count |\n",
        "+--------------+--------------+\n",
        "|      2       |     1001     |\n",
        "|      8       |     938      |\n",
        "|      0       |     962      |\n",
        "|      5       |     857      |\n",
        "|      4       |     964      |\n",
        "|      3       |     998      |\n",
        "|      1       |     1121     |\n",
        "|      9       |     956      |\n",
        "|      7       |     968      |\n",
        "|      6       |     922      |\n",
        "+--------------+--------------+\n",
        "[10 rows x 2 columns]"
       ]
      }
     ],
     "prompt_number": 13
    },
    {
     "cell_type": "code",
     "collapsed": false,
     "input": [
      "cf_mat[cf_mat['target_label'] != cf_mat['predicted_label']].groupby('target_label', graphlab.aggregate.SUM('count')).sort('target_label')"
     ],
     "language": "python",
     "metadata": {},
     "outputs": [
      {
       "html": [
        "<div style=\"max-height:1000px;max-width:1500px;overflow:auto;\"><table frame=\"box\" rules=\"cols\">\n",
        "    <tr>\n",
        "        <th style=\"padding-left: 1em; padding-right: 1em; text-align: center\">target_label</th>\n",
        "        <th style=\"padding-left: 1em; padding-right: 1em; text-align: center\">Sum of count</th>\n",
        "    </tr>\n",
        "    <tr>\n",
        "        <td style=\"padding-left: 1em; padding-right: 1em; text-align: center; vertical-align: top\">0</td>\n",
        "        <td style=\"padding-left: 1em; padding-right: 1em; text-align: center; vertical-align: top\">18</td>\n",
        "    </tr>\n",
        "    <tr>\n",
        "        <td style=\"padding-left: 1em; padding-right: 1em; text-align: center; vertical-align: top\">1</td>\n",
        "        <td style=\"padding-left: 1em; padding-right: 1em; text-align: center; vertical-align: top\">14</td>\n",
        "    </tr>\n",
        "    <tr>\n",
        "        <td style=\"padding-left: 1em; padding-right: 1em; text-align: center; vertical-align: top\">2</td>\n",
        "        <td style=\"padding-left: 1em; padding-right: 1em; text-align: center; vertical-align: top\">31</td>\n",
        "    </tr>\n",
        "    <tr>\n",
        "        <td style=\"padding-left: 1em; padding-right: 1em; text-align: center; vertical-align: top\">3</td>\n",
        "        <td style=\"padding-left: 1em; padding-right: 1em; text-align: center; vertical-align: top\">12</td>\n",
        "    </tr>\n",
        "    <tr>\n",
        "        <td style=\"padding-left: 1em; padding-right: 1em; text-align: center; vertical-align: top\">4</td>\n",
        "        <td style=\"padding-left: 1em; padding-right: 1em; text-align: center; vertical-align: top\">18</td>\n",
        "    </tr>\n",
        "    <tr>\n",
        "        <td style=\"padding-left: 1em; padding-right: 1em; text-align: center; vertical-align: top\">5</td>\n",
        "        <td style=\"padding-left: 1em; padding-right: 1em; text-align: center; vertical-align: top\">35</td>\n",
        "    </tr>\n",
        "    <tr>\n",
        "        <td style=\"padding-left: 1em; padding-right: 1em; text-align: center; vertical-align: top\">6</td>\n",
        "        <td style=\"padding-left: 1em; padding-right: 1em; text-align: center; vertical-align: top\">36</td>\n",
        "    </tr>\n",
        "    <tr>\n",
        "        <td style=\"padding-left: 1em; padding-right: 1em; text-align: center; vertical-align: top\">7</td>\n",
        "        <td style=\"padding-left: 1em; padding-right: 1em; text-align: center; vertical-align: top\">60</td>\n",
        "    </tr>\n",
        "    <tr>\n",
        "        <td style=\"padding-left: 1em; padding-right: 1em; text-align: center; vertical-align: top\">8</td>\n",
        "        <td style=\"padding-left: 1em; padding-right: 1em; text-align: center; vertical-align: top\">36</td>\n",
        "    </tr>\n",
        "    <tr>\n",
        "        <td style=\"padding-left: 1em; padding-right: 1em; text-align: center; vertical-align: top\">9</td>\n",
        "        <td style=\"padding-left: 1em; padding-right: 1em; text-align: center; vertical-align: top\">53</td>\n",
        "    </tr>\n",
        "</table>\n",
        "[10 rows x 2 columns]<br/>\n",
        "</div>"
       ],
       "metadata": {},
       "output_type": "pyout",
       "prompt_number": 21,
       "text": [
        "Columns:\n",
        "\ttarget_label\tint\n",
        "\tSum of count\tint\n",
        "\n",
        "Rows: 10\n",
        "\n",
        "Data:\n",
        "+--------------+--------------+\n",
        "| target_label | Sum of count |\n",
        "+--------------+--------------+\n",
        "|      0       |      18      |\n",
        "|      1       |      14      |\n",
        "|      2       |      31      |\n",
        "|      3       |      12      |\n",
        "|      4       |      18      |\n",
        "|      5       |      35      |\n",
        "|      6       |      36      |\n",
        "|      7       |      60      |\n",
        "|      8       |      36      |\n",
        "|      9       |      53      |\n",
        "+--------------+--------------+\n",
        "[10 rows x 2 columns]"
       ]
      }
     ],
     "prompt_number": 21
    },
    {
     "cell_type": "code",
     "collapsed": false,
     "input": [
      "import lib.graphlab_tutorial as gl_tutorial"
     ],
     "language": "python",
     "metadata": {},
     "outputs": [],
     "prompt_number": 25
    },
    {
     "cell_type": "code",
     "collapsed": false,
     "input": [
      "gl_tutorial.main()"
     ],
     "language": "python",
     "metadata": {},
     "outputs": [
      {
       "output_type": "stream",
       "stream": "stdout",
       "text": [
        "layer[0]: ConvolutionLayer\n",
        "  init_random = gaussian\n",
        "  random_type = xavier\n",
        "  padding = 1\n",
        "  stride = 2\n",
        "  num_channels = 32\n",
        "  num_groups = 1\n",
        "  kernel_size = 3\n",
        "layer[1]: MaxPoolingLayer\n",
        "  padding = 0\n",
        "  stride = 2\n",
        "  kernel_size = 3\n",
        "layer[2]: FlattenLayer\n",
        "layer[3]: DropoutLayer\n",
        "  threshold = 0.5\n",
        "layer[4]: FullConnectionLayer\n",
        "  init_sigma = 0.01\n",
        "  init_random = gaussian\n",
        "  init_bias = 0\n",
        "  num_hidden_units = 100\n",
        "layer[5]: SigmoidLayer\n",
        "layer[6]: FullConnectionLayer\n",
        "  init_sigma = 0.01\n",
        "  init_random = gaussian\n",
        "  init_bias = 0\n",
        "  num_hidden_units = 10\n",
        "layer[7]: SoftmaxLayer\n",
        "{'init_random': 'gaussian', 'learning_rate': 0.1, 'input_shape': '1,28,28', 'batch_size': 100, 'divideby': 255, 'l2_regularization': 0.0, 'momentum': 0.9}\n",
        "Using network:\n",
        "\n",
        "### network layers ###\n",
        "layer[0]: ConvolutionLayer\n",
        "  init_random = gaussian\n",
        "  random_type = xavier\n",
        "  padding = 1\n",
        "  stride = 2\n",
        "  num_channels = 32\n",
        "  num_groups = 1\n",
        "  kernel_size = 3\n",
        "layer[1]: MaxPoolingLayer\n",
        "  padding = 0\n",
        "  stride = 2\n",
        "  kernel_size = 3\n",
        "layer[2]: FlattenLayer\n",
        "layer[3]: DropoutLayer\n",
        "  threshold = 0.5\n",
        "layer[4]: FullConnectionLayer\n",
        "  init_sigma = 0.01\n",
        "  init_random = gaussian\n",
        "  init_bias = 0\n",
        "  num_hidden_units = 100\n",
        "layer[5]: SigmoidLayer\n",
        "layer[6]: FullConnectionLayer\n",
        "  init_sigma = 0.01\n",
        "  init_random = gaussian\n",
        "  init_bias = 0\n",
        "  num_hidden_units = 10\n",
        "layer[7]: SoftmaxLayer\n",
        "### end network layers ###\n",
        "\n",
        "### network parameters ###\n",
        "init_random = gaussian\n",
        "learning_rate = 0.1\n",
        "input_shape = 1,28,28\n",
        "batch_size = 100\n",
        "divideby = 255\n",
        "l2_regularization = 0.0\n",
        "momentum = 0.9\n",
        "### end network parameters ###\n"
       ]
      },
      {
       "html": [
        "<pre>PROGRESS: Computing mean image...</pre>"
       ],
       "metadata": {},
       "output_type": "display_data",
       "text": [
        "PROGRESS: Computing mean image..."
       ]
      },
      {
       "html": [
        "<pre>PROGRESS: Done computing mean image.</pre>"
       ],
       "metadata": {},
       "output_type": "display_data",
       "text": [
        "PROGRESS: Done computing mean image."
       ]
      },
      {
       "html": [
        "<pre>PROGRESS: Creating neuralnet using device = cpu</pre>"
       ],
       "metadata": {},
       "output_type": "display_data",
       "text": [
        "PROGRESS: Creating neuralnet using device = cpu"
       ]
      },
      {
       "html": [
        "<pre>PROGRESS: +-----------+----------+--------------+-------------------+---------------------+-----------------+</pre>"
       ],
       "metadata": {},
       "output_type": "display_data",
       "text": [
        "PROGRESS: +-----------+----------+--------------+-------------------+---------------------+-----------------+"
       ]
      },
      {
       "html": [
        "<pre>PROGRESS: | Iteration | Examples | Elapsed Time | Training-accuracy | Validation-accuracy | Examples/second |</pre>"
       ],
       "metadata": {},
       "output_type": "display_data",
       "text": [
        "PROGRESS: | Iteration | Examples | Elapsed Time | Training-accuracy | Validation-accuracy | Examples/second |"
       ]
      },
      {
       "html": [
        "<pre>PROGRESS: +-----------+----------+--------------+-------------------+---------------------+-----------------+</pre>"
       ],
       "metadata": {},
       "output_type": "display_data",
       "text": [
        "PROGRESS: +-----------+----------+--------------+-------------------+---------------------+-----------------+"
       ]
      },
      {
       "html": [
        "<pre>PROGRESS: | 1         | 8700     | 10.109585    | 0.288046          |                     | 860.569885      |</pre>"
       ],
       "metadata": {},
       "output_type": "display_data",
       "text": [
        "PROGRESS: | 1         | 8700     | 10.109585    | 0.288046          |                     | 860.569885      |"
       ]
      },
      {
       "html": [
        "<pre>PROGRESS: | 1         | 16800    | 20.226526    | 0.532500          |                     | 800.637451      |</pre>"
       ],
       "metadata": {},
       "output_type": "display_data",
       "text": [
        "PROGRESS: | 1         | 16800    | 20.226526    | 0.532500          |                     | 800.637451      |"
       ]
      },
      {
       "html": [
        "<pre>PROGRESS: | 1         | 25300    | 30.292226    | 0.653360          |                     | 844.451843      |</pre>"
       ],
       "metadata": {},
       "output_type": "display_data",
       "text": [
        "PROGRESS: | 1         | 25300    | 30.292226    | 0.653360          |                     | 844.451843      |"
       ]
      },
      {
       "html": [
        "<pre>PROGRESS: | 1         | 34100    | 40.336927    | 0.723988          |                     | 876.083984      |</pre>"
       ],
       "metadata": {},
       "output_type": "display_data",
       "text": [
        "PROGRESS: | 1         | 34100    | 40.336927    | 0.723988          |                     | 876.083984      |"
       ]
      },
      {
       "html": [
        "<pre>PROGRESS: | 1         | 42800    | 50.436416    | 0.767500          |                     | 861.429626      |</pre>"
       ],
       "metadata": {},
       "output_type": "display_data",
       "text": [
        "PROGRESS: | 1         | 42800    | 50.436416    | 0.767500          |                     | 861.429626      |"
       ]
      },
      {
       "html": [
        "<pre>PROGRESS: | 1         | 51100    | 60.478712    | 0.796086          |                     | 826.504211      |</pre>"
       ],
       "metadata": {},
       "output_type": "display_data",
       "text": [
        "PROGRESS: | 1         | 51100    | 60.478712    | 0.796086          |                     | 826.504211      |"
       ]
      },
      {
       "html": [
        "<pre>PROGRESS: | 1         | 57100    | 68.748828    | 0.811751          | 0.964000            | 725.503113      |</pre>"
       ],
       "metadata": {},
       "output_type": "display_data",
       "text": [
        "PROGRESS: | 1         | 57100    | 68.748828    | 0.811751          | 0.964000            | 725.503113      |"
       ]
      },
      {
       "html": [
        "<pre>PROGRESS: | 2         | 8700     | 78.770428    | 0.949425          |                     | 868.147888      |</pre>"
       ],
       "metadata": {},
       "output_type": "display_data",
       "text": [
        "PROGRESS: | 2         | 8700     | 78.770428    | 0.949425          |                     | 868.147888      |"
       ]
      },
      {
       "html": [
        "<pre>PROGRESS: | 2         | 17500    | 88.857098    | 0.952400          |                     | 872.438660      |</pre>"
       ],
       "metadata": {},
       "output_type": "display_data",
       "text": [
        "PROGRESS: | 2         | 17500    | 88.857098    | 0.952400          |                     | 872.438660      |"
       ]
      },
      {
       "html": [
        "<pre>PROGRESS: | 2         | 25900    | 98.997934    | 0.952741          |                     | 828.335876      |</pre>"
       ],
       "metadata": {},
       "output_type": "display_data",
       "text": [
        "PROGRESS: | 2         | 25900    | 98.997934    | 0.952741          |                     | 828.335876      |"
       ]
      },
      {
       "html": [
        "<pre>PROGRESS: | 2         | 33200    | 109.123734   | 0.954518          |                     | 720.929138      |</pre>"
       ],
       "metadata": {},
       "output_type": "display_data",
       "text": [
        "PROGRESS: | 2         | 33200    | 109.123734   | 0.954518          |                     | 720.929138      |"
       ]
      },
      {
       "html": [
        "<pre>PROGRESS: | 2         | 41500    | 119.123983   | 0.956145          |                     | 829.979553      |</pre>"
       ],
       "metadata": {},
       "output_type": "display_data",
       "text": [
        "PROGRESS: | 2         | 41500    | 119.123983   | 0.956145          |                     | 829.979553      |"
       ]
      },
      {
       "html": [
        "<pre>PROGRESS: | 2         | 50100    | 129.189047   | 0.956627          |                     | 854.440430      |</pre>"
       ],
       "metadata": {},
       "output_type": "display_data",
       "text": [
        "PROGRESS: | 2         | 50100    | 129.189047   | 0.956627          |                     | 854.440430      |"
       ]
      },
      {
       "html": [
        "<pre>PROGRESS: | 2         | 56600    | 139.405624   | 0.956908          |                     | 636.221008      |</pre>"
       ],
       "metadata": {},
       "output_type": "display_data",
       "text": [
        "PROGRESS: | 2         | 56600    | 139.405624   | 0.956908          |                     | 636.221008      |"
       ]
      },
      {
       "html": [
        "<pre>PROGRESS: | 2         | 57000    | 141.985854   | 0.956947          | 0.970000            | 155.024460      |</pre>"
       ],
       "metadata": {},
       "output_type": "display_data",
       "text": [
        "PROGRESS: | 2         | 57000    | 141.985854   | 0.956947          | 0.970000            | 155.024460      |"
       ]
      },
      {
       "html": [
        "<pre>PROGRESS: | 3         | 7000     | 152.058193   | 0.959714          |                     | 694.987732      |</pre>"
       ],
       "metadata": {},
       "output_type": "display_data",
       "text": [
        "PROGRESS: | 3         | 7000     | 152.058193   | 0.959714          |                     | 694.987732      |"
       ]
      },
      {
       "html": [
        "<pre>PROGRESS: | 3         | 14100    | 162.098466   | 0.961702          |                     | 707.152222      |</pre>"
       ],
       "metadata": {},
       "output_type": "display_data",
       "text": [
        "PROGRESS: | 3         | 14100    | 162.098466   | 0.961702          |                     | 707.152222      |"
       ]
      },
      {
       "html": [
        "<pre>PROGRESS: | 3         | 22600    | 172.099771   | 0.962611          |                     | 849.888855      |</pre>"
       ],
       "metadata": {},
       "output_type": "display_data",
       "text": [
        "PROGRESS: | 3         | 22600    | 172.099771   | 0.962611          |                     | 849.888855      |"
       ]
      },
      {
       "html": [
        "<pre>PROGRESS: | 3         | 31100    | 182.103267   | 0.963119          |                     | 849.703308      |</pre>"
       ],
       "metadata": {},
       "output_type": "display_data",
       "text": [
        "PROGRESS: | 3         | 31100    | 182.103267   | 0.963119          |                     | 849.703308      |"
       ]
      },
      {
       "html": [
        "<pre>PROGRESS: | 3         | 39700    | 192.181332   | 0.964055          |                     | 853.338318      |</pre>"
       ],
       "metadata": {},
       "output_type": "display_data",
       "text": [
        "PROGRESS: | 3         | 39700    | 192.181332   | 0.964055          |                     | 853.338318      |"
       ]
      },
      {
       "html": [
        "<pre>PROGRESS: | 3         | 47900    | 202.192271   | 0.963737          |                     | 819.104004      |</pre>"
       ],
       "metadata": {},
       "output_type": "display_data",
       "text": [
        "PROGRESS: | 3         | 47900    | 202.192271   | 0.963737          |                     | 819.104004      |"
       ]
      },
      {
       "html": [
        "<pre>PROGRESS: | 3         | 55500    | 212.291841   | 0.964180          |                     | 752.507141      |</pre>"
       ],
       "metadata": {},
       "output_type": "display_data",
       "text": [
        "PROGRESS: | 3         | 55500    | 212.291841   | 0.964180          |                     | 752.507141      |"
       ]
      },
      {
       "html": [
        "<pre>PROGRESS: | 3         | 57000    | 215.850333   | 0.964158          | 0.973000            | 421.526031      |</pre>"
       ],
       "metadata": {},
       "output_type": "display_data",
       "text": [
        "PROGRESS: | 3         | 57000    | 215.850333   | 0.964158          | 0.973000            | 421.526031      |"
       ]
      },
      {
       "html": [
        "<pre>PROGRESS: +-----------+----------+--------------+-------------------+---------------------+-----------------+</pre>"
       ],
       "metadata": {},
       "output_type": "display_data",
       "text": [
        "PROGRESS: +-----------+----------+--------------+-------------------+---------------------+-----------------+"
       ]
      },
      {
       "output_type": "stream",
       "stream": "stdout",
       "text": [
        "\n",
        "PROGRESS: Creating a validation set from 5 percent of training data. This may take a while.\n",
        "          You can set ``validation_set=None`` to disable validation tracking.\n",
        "\n",
        "None"
       ]
      },
      {
       "output_type": "stream",
       "stream": "stdout",
       "text": [
        "\n"
       ]
      }
     ],
     "prompt_number": 26
    },
    {
     "cell_type": "code",
     "collapsed": false,
     "input": [],
     "language": "python",
     "metadata": {},
     "outputs": []
    }
   ],
   "metadata": {}
  }
 ]
}