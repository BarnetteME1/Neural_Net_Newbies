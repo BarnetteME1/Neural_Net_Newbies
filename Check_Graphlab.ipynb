{
 "metadata": {
  "name": "",
  "signature": "sha256:c1ed4d3b5398f858799fcca6f0acee7248974c52509376bfa26bfd7c00e6fde8"
 },
 "nbformat": 3,
 "nbformat_minor": 0,
 "worksheets": [
  {
   "cells": [
    {
     "cell_type": "raw",
     "metadata": {},
     "source": [
      "Graphlab Example"
     ]
    },
    {
     "cell_type": "code",
     "collapsed": false,
     "input": [
      "import lib.graphlab_tutorial as gl"
     ],
     "language": "python",
     "metadata": {},
     "outputs": [
      {
       "output_type": "stream",
       "stream": "stderr",
       "text": [
        "/Library/Python/2.7/site-packages/pandas/io/excel.py:626: UserWarning: Installed openpyxl is not supported at this time. Use >=1.6.1 and <2.0.0.\n",
        "  .format(openpyxl_compat.start_ver, openpyxl_compat.stop_ver))\n"
       ]
      }
     ],
     "prompt_number": 1
    },
    {
     "cell_type": "code",
     "collapsed": false,
     "input": [
      "gl.main()"
     ],
     "language": "python",
     "metadata": {},
     "outputs": [
      {
       "output_type": "stream",
       "stream": "stderr",
       "text": [
        "[INFO] Start server at: ipc:///tmp/graphlab_server-41229 - Server binary: /usr/local/lib/python2.7/site-packages/graphlab/unity_server - Server log: /tmp/graphlab_server_1424582380.log\n"
       ]
      },
      {
       "output_type": "stream",
       "stream": "stderr",
       "text": [
        "[INFO] GraphLab Server Version: 1.3.0\n"
       ]
      },
      {
       "html": [
        "<pre>PROGRESS: Downloading http://s3.amazonaws.com/GraphLab-Datasets/mnist/sframe/train/dir_archive.ini to /var/tmp/graphlab-mwarrick/41229/000000.ini</pre>"
       ],
       "metadata": {},
       "output_type": "display_data",
       "text": [
        "PROGRESS: Downloading http://s3.amazonaws.com/GraphLab-Datasets/mnist/sframe/train/dir_archive.ini to /var/tmp/graphlab-mwarrick/41229/000000.ini"
       ]
      },
      {
       "html": [
        "<pre>PROGRESS: Downloading http://s3.amazonaws.com/GraphLab-Datasets/mnist/sframe/train/objects.bin to /var/tmp/graphlab-mwarrick/41229/000001.bin</pre>"
       ],
       "metadata": {},
       "output_type": "display_data",
       "text": [
        "PROGRESS: Downloading http://s3.amazonaws.com/GraphLab-Datasets/mnist/sframe/train/objects.bin to /var/tmp/graphlab-mwarrick/41229/000001.bin"
       ]
      },
      {
       "html": [
        "<pre>PROGRESS: Downloading http://s3.amazonaws.com/GraphLab-Datasets/mnist/sframe/train/m_4558118e.frame_idx to /var/tmp/graphlab-mwarrick/41229/000002.frame_idx</pre>"
       ],
       "metadata": {},
       "output_type": "display_data",
       "text": [
        "PROGRESS: Downloading http://s3.amazonaws.com/GraphLab-Datasets/mnist/sframe/train/m_4558118e.frame_idx to /var/tmp/graphlab-mwarrick/41229/000002.frame_idx"
       ]
      },
      {
       "html": [
        "<pre>PROGRESS: Downloading http://s3.amazonaws.com/GraphLab-Datasets/mnist/sframe/train/m_4558118e.sidx to /var/tmp/graphlab-mwarrick/41229/000003.sidx</pre>"
       ],
       "metadata": {},
       "output_type": "display_data",
       "text": [
        "PROGRESS: Downloading http://s3.amazonaws.com/GraphLab-Datasets/mnist/sframe/train/m_4558118e.sidx to /var/tmp/graphlab-mwarrick/41229/000003.sidx"
       ]
      },
      {
       "html": [
        "<pre>PROGRESS: Downloading http://s3.amazonaws.com/GraphLab-Datasets/mnist/sframe/train/m_4558118e.0000 to /var/tmp/graphlab-mwarrick/41229/000004.0000</pre>"
       ],
       "metadata": {},
       "output_type": "display_data",
       "text": [
        "PROGRESS: Downloading http://s3.amazonaws.com/GraphLab-Datasets/mnist/sframe/train/m_4558118e.0000 to /var/tmp/graphlab-mwarrick/41229/000004.0000"
       ]
      },
      {
       "html": [
        "<pre>PROGRESS: Downloading http://s3.amazonaws.com/GraphLab-Datasets/mnist/sframe/train/m_4558118e.0001 to /var/tmp/graphlab-mwarrick/41229/000005.0001</pre>"
       ],
       "metadata": {},
       "output_type": "display_data",
       "text": [
        "PROGRESS: Downloading http://s3.amazonaws.com/GraphLab-Datasets/mnist/sframe/train/m_4558118e.0001 to /var/tmp/graphlab-mwarrick/41229/000005.0001"
       ]
      },
      {
       "html": [
        "<pre>PROGRESS: Downloading http://s3.amazonaws.com/GraphLab-Datasets/mnist/sframe/train/m_4558118e.0002 to /var/tmp/graphlab-mwarrick/41229/000006.0002</pre>"
       ],
       "metadata": {},
       "output_type": "display_data",
       "text": [
        "PROGRESS: Downloading http://s3.amazonaws.com/GraphLab-Datasets/mnist/sframe/train/m_4558118e.0002 to /var/tmp/graphlab-mwarrick/41229/000006.0002"
       ]
      },
      {
       "html": [
        "<pre>PROGRESS: Downloading http://s3.amazonaws.com/GraphLab-Datasets/mnist/sframe/train/m_4558118e.0003 to /var/tmp/graphlab-mwarrick/41229/000007.0003</pre>"
       ],
       "metadata": {},
       "output_type": "display_data",
       "text": [
        "PROGRESS: Downloading http://s3.amazonaws.com/GraphLab-Datasets/mnist/sframe/train/m_4558118e.0003 to /var/tmp/graphlab-mwarrick/41229/000007.0003"
       ]
      },
      {
       "html": [
        "<pre>PROGRESS: Downloading http://s3.amazonaws.com/GraphLab-Datasets/mnist/sframe/train/m_4558118e.0004 to /var/tmp/graphlab-mwarrick/41229/000008.0004</pre>"
       ],
       "metadata": {},
       "output_type": "display_data",
       "text": [
        "PROGRESS: Downloading http://s3.amazonaws.com/GraphLab-Datasets/mnist/sframe/train/m_4558118e.0004 to /var/tmp/graphlab-mwarrick/41229/000008.0004"
       ]
      },
      {
       "html": [
        "<pre>PROGRESS: Downloading http://s3.amazonaws.com/GraphLab-Datasets/mnist/sframe/train/m_4558118e.0005 to /var/tmp/graphlab-mwarrick/41229/000009.0005</pre>"
       ],
       "metadata": {},
       "output_type": "display_data",
       "text": [
        "PROGRESS: Downloading http://s3.amazonaws.com/GraphLab-Datasets/mnist/sframe/train/m_4558118e.0005 to /var/tmp/graphlab-mwarrick/41229/000009.0005"
       ]
      },
      {
       "html": [
        "<pre>PROGRESS: Downloading http://s3.amazonaws.com/GraphLab-Datasets/mnist/sframe/train/m_4558118e.0006 to /var/tmp/graphlab-mwarrick/41229/000010.0006</pre>"
       ],
       "metadata": {},
       "output_type": "display_data",
       "text": [
        "PROGRESS: Downloading http://s3.amazonaws.com/GraphLab-Datasets/mnist/sframe/train/m_4558118e.0006 to /var/tmp/graphlab-mwarrick/41229/000010.0006"
       ]
      },
      {
       "html": [
        "<pre>PROGRESS: Downloading http://s3.amazonaws.com/GraphLab-Datasets/mnist/sframe/train/m_4558118e.0007 to /var/tmp/graphlab-mwarrick/41229/000011.0007</pre>"
       ],
       "metadata": {},
       "output_type": "display_data",
       "text": [
        "PROGRESS: Downloading http://s3.amazonaws.com/GraphLab-Datasets/mnist/sframe/train/m_4558118e.0007 to /var/tmp/graphlab-mwarrick/41229/000011.0007"
       ]
      },
      {
       "html": [
        "<pre>PROGRESS: Downloading http://s3.amazonaws.com/GraphLab-Datasets/mnist/sframe/test/dir_archive.ini to /var/tmp/graphlab-mwarrick/41229/000012.ini</pre>"
       ],
       "metadata": {},
       "output_type": "display_data",
       "text": [
        "PROGRESS: Downloading http://s3.amazonaws.com/GraphLab-Datasets/mnist/sframe/test/dir_archive.ini to /var/tmp/graphlab-mwarrick/41229/000012.ini"
       ]
      },
      {
       "html": [
        "<pre>PROGRESS: Downloading http://s3.amazonaws.com/GraphLab-Datasets/mnist/sframe/test/objects.bin to /var/tmp/graphlab-mwarrick/41229/000013.bin</pre>"
       ],
       "metadata": {},
       "output_type": "display_data",
       "text": [
        "PROGRESS: Downloading http://s3.amazonaws.com/GraphLab-Datasets/mnist/sframe/test/objects.bin to /var/tmp/graphlab-mwarrick/41229/000013.bin"
       ]
      },
      {
       "html": [
        "<pre>PROGRESS: Downloading http://s3.amazonaws.com/GraphLab-Datasets/mnist/sframe/test/m_310c50b3.frame_idx to /var/tmp/graphlab-mwarrick/41229/000014.frame_idx</pre>"
       ],
       "metadata": {},
       "output_type": "display_data",
       "text": [
        "PROGRESS: Downloading http://s3.amazonaws.com/GraphLab-Datasets/mnist/sframe/test/m_310c50b3.frame_idx to /var/tmp/graphlab-mwarrick/41229/000014.frame_idx"
       ]
      },
      {
       "html": [
        "<pre>PROGRESS: Downloading http://s3.amazonaws.com/GraphLab-Datasets/mnist/sframe/test/m_310c50b3.sidx to /var/tmp/graphlab-mwarrick/41229/000015.sidx</pre>"
       ],
       "metadata": {},
       "output_type": "display_data",
       "text": [
        "PROGRESS: Downloading http://s3.amazonaws.com/GraphLab-Datasets/mnist/sframe/test/m_310c50b3.sidx to /var/tmp/graphlab-mwarrick/41229/000015.sidx"
       ]
      },
      {
       "html": [
        "<pre>PROGRESS: Downloading http://s3.amazonaws.com/GraphLab-Datasets/mnist/sframe/test/m_310c50b3.0000 to /var/tmp/graphlab-mwarrick/41229/000016.0000</pre>"
       ],
       "metadata": {},
       "output_type": "display_data",
       "text": [
        "PROGRESS: Downloading http://s3.amazonaws.com/GraphLab-Datasets/mnist/sframe/test/m_310c50b3.0000 to /var/tmp/graphlab-mwarrick/41229/000016.0000"
       ]
      },
      {
       "html": [
        "<pre>PROGRESS: Downloading http://s3.amazonaws.com/GraphLab-Datasets/mnist/sframe/test/m_310c50b3.0001 to /var/tmp/graphlab-mwarrick/41229/000017.0001</pre>"
       ],
       "metadata": {},
       "output_type": "display_data",
       "text": [
        "PROGRESS: Downloading http://s3.amazonaws.com/GraphLab-Datasets/mnist/sframe/test/m_310c50b3.0001 to /var/tmp/graphlab-mwarrick/41229/000017.0001"
       ]
      },
      {
       "html": [
        "<pre>PROGRESS: Downloading http://s3.amazonaws.com/GraphLab-Datasets/mnist/sframe/test/m_310c50b3.0002 to /var/tmp/graphlab-mwarrick/41229/000018.0002</pre>"
       ],
       "metadata": {},
       "output_type": "display_data",
       "text": [
        "PROGRESS: Downloading http://s3.amazonaws.com/GraphLab-Datasets/mnist/sframe/test/m_310c50b3.0002 to /var/tmp/graphlab-mwarrick/41229/000018.0002"
       ]
      },
      {
       "html": [
        "<pre>PROGRESS: Downloading http://s3.amazonaws.com/GraphLab-Datasets/mnist/sframe/test/m_310c50b3.0003 to /var/tmp/graphlab-mwarrick/41229/000019.0003</pre>"
       ],
       "metadata": {},
       "output_type": "display_data",
       "text": [
        "PROGRESS: Downloading http://s3.amazonaws.com/GraphLab-Datasets/mnist/sframe/test/m_310c50b3.0003 to /var/tmp/graphlab-mwarrick/41229/000019.0003"
       ]
      },
      {
       "html": [
        "<pre>PROGRESS: Downloading http://s3.amazonaws.com/GraphLab-Datasets/mnist/sframe/test/m_310c50b3.0004 to /var/tmp/graphlab-mwarrick/41229/000020.0004</pre>"
       ],
       "metadata": {},
       "output_type": "display_data",
       "text": [
        "PROGRESS: Downloading http://s3.amazonaws.com/GraphLab-Datasets/mnist/sframe/test/m_310c50b3.0004 to /var/tmp/graphlab-mwarrick/41229/000020.0004"
       ]
      },
      {
       "html": [
        "<pre>PROGRESS: Downloading http://s3.amazonaws.com/GraphLab-Datasets/mnist/sframe/test/m_310c50b3.0005 to /var/tmp/graphlab-mwarrick/41229/000021.0005</pre>"
       ],
       "metadata": {},
       "output_type": "display_data",
       "text": [
        "PROGRESS: Downloading http://s3.amazonaws.com/GraphLab-Datasets/mnist/sframe/test/m_310c50b3.0005 to /var/tmp/graphlab-mwarrick/41229/000021.0005"
       ]
      },
      {
       "html": [
        "<pre>PROGRESS: Downloading http://s3.amazonaws.com/GraphLab-Datasets/mnist/sframe/test/m_310c50b3.0006 to /var/tmp/graphlab-mwarrick/41229/000022.0006</pre>"
       ],
       "metadata": {},
       "output_type": "display_data",
       "text": [
        "PROGRESS: Downloading http://s3.amazonaws.com/GraphLab-Datasets/mnist/sframe/test/m_310c50b3.0006 to /var/tmp/graphlab-mwarrick/41229/000022.0006"
       ]
      },
      {
       "html": [
        "<pre>PROGRESS: Downloading http://s3.amazonaws.com/GraphLab-Datasets/mnist/sframe/test/m_310c50b3.0007 to /var/tmp/graphlab-mwarrick/41229/000023.0007</pre>"
       ],
       "metadata": {},
       "output_type": "display_data",
       "text": [
        "PROGRESS: Downloading http://s3.amazonaws.com/GraphLab-Datasets/mnist/sframe/test/m_310c50b3.0007 to /var/tmp/graphlab-mwarrick/41229/000023.0007"
       ]
      },
      {
       "output_type": "stream",
       "stream": "stdout",
       "text": [
        "layer[0]: ConvolutionLayer\n",
        "  init_random = gaussian\n",
        "  random_type = xavier\n",
        "  padding = 1\n",
        "  stride = 2\n",
        "  num_channels = 32\n",
        "  num_groups = 1\n",
        "  kernel_size = 3\n",
        "layer[1]: MaxPoolingLayer\n",
        "  padding = 0\n",
        "  stride = 2\n",
        "  kernel_size = 3\n",
        "layer[2]: FlattenLayer\n",
        "layer[3]: DropoutLayer\n",
        "  threshold = 0.5\n",
        "layer[4]: FullConnectionLayer\n",
        "  init_sigma = 0.01\n",
        "  init_random = gaussian\n",
        "  init_bias = 0\n",
        "  num_hidden_units = 100\n",
        "layer[5]: SigmoidLayer\n",
        "layer[6]: FullConnectionLayer\n",
        "  init_sigma = 0.01\n",
        "  init_random = gaussian\n",
        "  init_bias = 0\n",
        "  num_hidden_units = 10\n",
        "layer[7]: SoftmaxLayer\n",
        "{'init_random': 'gaussian', 'learning_rate': 0.1, 'input_shape': '1,28,28', 'batch_size': 100, 'divideby': 255, 'l2_regularization': 0.0, 'momentum': 0.9}\n",
        "Using network:\n",
        "\n",
        "### network layers ###\n",
        "layer[0]: ConvolutionLayer\n",
        "  init_random = gaussian\n",
        "  random_type = xavier\n",
        "  padding = 1\n",
        "  stride = 2\n",
        "  num_channels = 32\n",
        "  num_groups = 1\n",
        "  kernel_size = 3\n",
        "layer[1]: MaxPoolingLayer\n",
        "  padding = 0\n",
        "  stride = 2\n",
        "  kernel_size = 3\n",
        "layer[2]: FlattenLayer\n",
        "layer[3]: DropoutLayer\n",
        "  threshold = 0.5\n",
        "layer[4]: FullConnectionLayer\n",
        "  init_sigma = 0.01\n",
        "  init_random = gaussian\n",
        "  init_bias = 0\n",
        "  num_hidden_units = 100\n",
        "layer[5]: SigmoidLayer\n",
        "layer[6]: FullConnectionLayer\n",
        "  init_sigma = 0.01\n",
        "  init_random = gaussian\n",
        "  init_bias = 0\n",
        "  num_hidden_units = 10\n",
        "layer[7]: SoftmaxLayer\n",
        "### end network layers ###\n",
        "\n",
        "### network parameters ###\n",
        "init_random = gaussian\n",
        "learning_rate = 0.1\n",
        "input_shape = 1,28,28\n",
        "batch_size = 100\n",
        "divideby = 255\n",
        "l2_regularization = 0.0\n",
        "momentum = 0.9\n",
        "### end network parameters ###\n"
       ]
      },
      {
       "html": [
        "<pre>PROGRESS: Computing mean image...</pre>"
       ],
       "metadata": {},
       "output_type": "display_data",
       "text": [
        "PROGRESS: Computing mean image..."
       ]
      },
      {
       "html": [
        "<pre>PROGRESS: Done computing mean image.</pre>"
       ],
       "metadata": {},
       "output_type": "display_data",
       "text": [
        "PROGRESS: Done computing mean image."
       ]
      },
      {
       "html": [
        "<pre>PROGRESS: Creating neuralnet using device = cpu</pre>"
       ],
       "metadata": {},
       "output_type": "display_data",
       "text": [
        "PROGRESS: Creating neuralnet using device = cpu"
       ]
      },
      {
       "html": [
        "<pre>PROGRESS: +-----------+----------+--------------+-------------------+---------------------+-----------------+</pre>"
       ],
       "metadata": {},
       "output_type": "display_data",
       "text": [
        "PROGRESS: +-----------+----------+--------------+-------------------+---------------------+-----------------+"
       ]
      },
      {
       "html": [
        "<pre>PROGRESS: | Iteration | Examples | Elapsed Time | Training-accuracy | Validation-accuracy | Examples/second |</pre>"
       ],
       "metadata": {},
       "output_type": "display_data",
       "text": [
        "PROGRESS: | Iteration | Examples | Elapsed Time | Training-accuracy | Validation-accuracy | Examples/second |"
       ]
      },
      {
       "html": [
        "<pre>PROGRESS: +-----------+----------+--------------+-------------------+---------------------+-----------------+</pre>"
       ],
       "metadata": {},
       "output_type": "display_data",
       "text": [
        "PROGRESS: +-----------+----------+--------------+-------------------+---------------------+-----------------+"
       ]
      },
      {
       "html": [
        "<pre>PROGRESS: | 1         | 7200     | 10.073504    | 0.219167          |                     | 714.746765      |</pre>"
       ],
       "metadata": {},
       "output_type": "display_data",
       "text": [
        "PROGRESS: | 1         | 7200     | 10.073504    | 0.219167          |                     | 714.746765      |"
       ]
      },
      {
       "html": [
        "<pre>PROGRESS: | 1         | 15200    | 20.193317    | 0.495592          |                     | 790.528625      |</pre>"
       ],
       "metadata": {},
       "output_type": "display_data",
       "text": [
        "PROGRESS: | 1         | 15200    | 20.193317    | 0.495592          |                     | 790.528625      |"
       ]
      },
      {
       "html": [
        "<pre>PROGRESS: | 1         | 23300    | 30.325783    | 0.630944          |                     | 799.410522      |</pre>"
       ],
       "metadata": {},
       "output_type": "display_data",
       "text": [
        "PROGRESS: | 1         | 23300    | 30.325783    | 0.630944          |                     | 799.410522      |"
       ]
      },
      {
       "html": [
        "<pre>PROGRESS: | 1         | 31100    | 40.365520    | 0.702540          |                     | 776.912781      |</pre>"
       ],
       "metadata": {},
       "output_type": "display_data",
       "text": [
        "PROGRESS: | 1         | 31100    | 40.365520    | 0.702540          |                     | 776.912781      |"
       ]
      },
      {
       "html": [
        "<pre>PROGRESS: | 1         | 38800    | 50.405191    | 0.748892          |                     | 766.957397      |</pre>"
       ],
       "metadata": {},
       "output_type": "display_data",
       "text": [
        "PROGRESS: | 1         | 38800    | 50.405191    | 0.748892          |                     | 766.957397      |"
       ]
      },
      {
       "html": [
        "<pre>PROGRESS: | 1         | 44500    | 60.473687    | 0.773236          |                     | 566.122375      |</pre>"
       ],
       "metadata": {},
       "output_type": "display_data",
       "text": [
        "PROGRESS: | 1         | 44500    | 60.473687    | 0.773236          |                     | 566.122375      |"
       ]
      },
      {
       "html": [
        "<pre>PROGRESS: | 1         | 51900    | 71.486580    | 0.797765          |                     | 671.941406      |</pre>"
       ],
       "metadata": {},
       "output_type": "display_data",
       "text": [
        "PROGRESS: | 1         | 51900    | 71.486580    | 0.797765          |                     | 671.941406      |"
       ]
      },
      {
       "html": [
        "<pre>PROGRESS: | 1         | 57000    | 82.861013    | 0.811333          | 0.968064            | 448.393860      |</pre>"
       ],
       "metadata": {},
       "output_type": "display_data",
       "text": [
        "PROGRESS: | 1         | 57000    | 82.861013    | 0.811333          | 0.968064            | 448.393860      |"
       ]
      },
      {
       "html": [
        "<pre>PROGRESS: | 2         | 8200     | 92.891415    | 0.953415          |                     | 817.596130      |</pre>"
       ],
       "metadata": {},
       "output_type": "display_data",
       "text": [
        "PROGRESS: | 2         | 8200     | 92.891415    | 0.953415          |                     | 817.596130      |"
       ]
      },
      {
       "html": [
        "<pre>PROGRESS: | 2         | 16300    | 102.983419   | 0.953006          |                     | 802.615601      |</pre>"
       ],
       "metadata": {},
       "output_type": "display_data",
       "text": [
        "PROGRESS: | 2         | 16300    | 102.983419   | 0.953006          |                     | 802.615601      |"
       ]
      },
      {
       "html": [
        "<pre>PROGRESS: | 2         | 24300    | 113.107027   | 0.952922          |                     | 790.231934      |</pre>"
       ],
       "metadata": {},
       "output_type": "display_data",
       "text": [
        "PROGRESS: | 2         | 24300    | 113.107027   | 0.952922          |                     | 790.231934      |"
       ]
      },
      {
       "html": [
        "<pre>PROGRESS: | 2         | 32100    | 123.233329   | 0.954143          |                     | 770.271484      |</pre>"
       ],
       "metadata": {},
       "output_type": "display_data",
       "text": [
        "PROGRESS: | 2         | 32100    | 123.233329   | 0.954143          |                     | 770.271484      |"
       ]
      },
      {
       "html": [
        "<pre>PROGRESS: | 2         | 39900    | 133.343258   | 0.955113          |                     | 771.518677      |</pre>"
       ],
       "metadata": {},
       "output_type": "display_data",
       "text": [
        "PROGRESS: | 2         | 39900    | 133.343258   | 0.955113          |                     | 771.518677      |"
       ]
      },
      {
       "html": [
        "<pre>PROGRESS: | 2         | 47600    | 143.351378   | 0.956261          |                     | 769.375244      |</pre>"
       ],
       "metadata": {},
       "output_type": "display_data",
       "text": [
        "PROGRESS: | 2         | 47600    | 143.351378   | 0.956261          |                     | 769.375244      |"
       ]
      },
      {
       "html": [
        "<pre>PROGRESS: | 2         | 55500    | 153.378553   | 0.956595          |                     | 787.858887      |</pre>"
       ],
       "metadata": {},
       "output_type": "display_data",
       "text": [
        "PROGRESS: | 2         | 55500    | 153.378553   | 0.956595          |                     | 787.858887      |"
       ]
      },
      {
       "html": [
        "<pre>PROGRESS: | 2         | 57000    | 156.921671   | 0.956596          | 0.976667            | 423.355194      |</pre>"
       ],
       "metadata": {},
       "output_type": "display_data",
       "text": [
        "PROGRESS: | 2         | 57000    | 156.921671   | 0.956596          | 0.976667            | 423.355194      |"
       ]
      },
      {
       "html": [
        "<pre>PROGRESS: | 3         | 8100     | 167.041814   | 0.963580          |                     | 800.400635      |</pre>"
       ],
       "metadata": {},
       "output_type": "display_data",
       "text": [
        "PROGRESS: | 3         | 8100     | 167.041814   | 0.963580          |                     | 800.400635      |"
       ]
      },
      {
       "html": [
        "<pre>PROGRESS: | 3         | 16000    | 177.120745   | 0.963750          |                     | 783.813354      |</pre>"
       ],
       "metadata": {},
       "output_type": "display_data",
       "text": [
        "PROGRESS: | 3         | 16000    | 177.120745   | 0.963750          |                     | 783.813354      |"
       ]
      },
      {
       "html": [
        "<pre>PROGRESS: | 3         | 23900    | 187.148019   | 0.963975          |                     | 787.851135      |</pre>"
       ],
       "metadata": {},
       "output_type": "display_data",
       "text": [
        "PROGRESS: | 3         | 23900    | 187.148019   | 0.963975          |                     | 787.851135      |"
       ]
      },
      {
       "html": [
        "<pre>PROGRESS: | 3         | 31300    | 197.206061   | 0.964888          |                     | 735.729675      |</pre>"
       ],
       "metadata": {},
       "output_type": "display_data",
       "text": [
        "PROGRESS: | 3         | 31300    | 197.206061   | 0.964888          |                     | 735.729675      |"
       ]
      },
      {
       "html": [
        "<pre>PROGRESS: | 3         | 39300    | 207.338434   | 0.965114          |                     | 789.548645      |</pre>"
       ],
       "metadata": {},
       "output_type": "display_data",
       "text": [
        "PROGRESS: | 3         | 39300    | 207.338434   | 0.965114          |                     | 789.548645      |"
       ]
      },
      {
       "html": [
        "<pre>PROGRESS: | 3         | 47400    | 217.447128   | 0.964641          |                     | 801.290283      |</pre>"
       ],
       "metadata": {},
       "output_type": "display_data",
       "text": [
        "PROGRESS: | 3         | 47400    | 217.447128   | 0.964641          |                     | 801.290283      |"
       ]
      },
      {
       "html": [
        "<pre>PROGRESS: | 3         | 55000    | 227.465023   | 0.965127          |                     | 758.642700      |</pre>"
       ],
       "metadata": {},
       "output_type": "display_data",
       "text": [
        "PROGRESS: | 3         | 55000    | 227.465023   | 0.965127          |                     | 758.642700      |"
       ]
      },
      {
       "html": [
        "<pre>PROGRESS: | 3         | 56900    | 231.745587   | 0.965202          | 0.979032            | 443.865509      |</pre>"
       ],
       "metadata": {},
       "output_type": "display_data",
       "text": [
        "PROGRESS: | 3         | 56900    | 231.745587   | 0.965202          | 0.979032            | 443.865509      |"
       ]
      },
      {
       "html": [
        "<pre>PROGRESS: +-----------+----------+--------------+-------------------+---------------------+-----------------+</pre>"
       ],
       "metadata": {},
       "output_type": "display_data",
       "text": [
        "PROGRESS: +-----------+----------+--------------+-------------------+---------------------+-----------------+"
       ]
      },
      {
       "output_type": "stream",
       "stream": "stdout",
       "text": [
        "\n",
        "PROGRESS: Creating a validation set from 5 percent of training data. This may take a while.\n",
        "          You can set ``validation_set=None`` to disable validation tracking.\n",
        "\n",
        "{'confusion_matrix': Columns:\n",
        "\ttarget_label\tint\n",
        "\tpredicted_label\tint\n",
        "\tcount\tint\n",
        "\n",
        "Rows: 65\n",
        "\n",
        "Data:\n",
        "+--------------+-----------------+-------+\n",
        "| target_label | predicted_label | count |\n",
        "+--------------+-----------------+-------+\n",
        "|      5       |        5        |  867  |\n",
        "|      8       |        5        |   3   |\n",
        "|      1       |        5        |   1   |\n",
        "|      0       |        5        |   2   |\n",
        "|      9       |        5        |   3   |\n",
        "|      6       |        5        |   7   |\n",
        "|      5       |        8        |   1   |\n",
        "|      8       |        8        |  944  |\n",
        "|      2       |        8        |   2   |\n",
        "|      7       |        8        |   2   |\n",
        "|     ...      |       ...       |  ...  |\n",
        "+--------------+-----------------+-------+\n",
        "[65 rows x 3 columns]\n",
        "Note: Only the head of the SFrame is printed.\n",
        "You can use print_rows(num_rows=m, num_columns=n) to print more rows and columns., 'accuracy': 0.9804999828338623}"
       ]
      },
      {
       "output_type": "stream",
       "stream": "stdout",
       "text": [
        "\n"
       ]
      }
     ],
     "prompt_number": 2
    },
    {
     "cell_type": "code",
     "collapsed": false,
     "input": [],
     "language": "python",
     "metadata": {},
     "outputs": []
    }
   ],
   "metadata": {}
  }
 ]
}