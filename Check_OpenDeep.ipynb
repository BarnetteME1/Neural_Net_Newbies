{
 "metadata": {
  "name": "",
  "signature": "sha256:28df6f87627cdf3c7d92eb45e5edad1e069ee7ea4ea55279243702452e075d57"
 },
 "nbformat": 3,
 "nbformat_minor": 0,
 "worksheets": [
  {
   "cells": [
    {
     "cell_type": "markdown",
     "metadata": {},
     "source": [
      "## OpenDeep Example"
     ]
    },
    {
     "cell_type": "markdown",
     "metadata": {},
     "source": [
      "### Manual Run"
     ]
    },
    {
     "cell_type": "code",
     "collapsed": false,
     "input": [
      "from opendeep.log.logger import config_root_logger\n",
      "from opendeep.models.container import Prototype\n",
      "from opendeep.models.single_layer.basic import BasicLayer, SoftmaxLayer\n",
      "from opendeep.optimization.stochastic_gradient_descent import SGD\n",
      "from opendeep.data.standard_datasets.image.mnist import MNIST\n",
      "\n",
      "config_root_logger()"
     ],
     "language": "python",
     "metadata": {},
     "outputs": [],
     "prompt_number": 1
    },
    {
     "cell_type": "code",
     "collapsed": false,
     "input": [
      "mlp = Prototype()\n",
      "mlp.add(BasicLayer(input_size=28*28, output_size=512, activation='rectifier', noise='dropout'))\n",
      "mlp.add(BasicLayer(output_size=512, activation='rectifier', noise='dropout'))\n",
      "mlp.add(SoftmaxLayer(output_size=10))"
     ],
     "language": "python",
     "metadata": {},
     "outputs": [
      {
       "output_type": "stream",
       "stream": "stdout",
       "text": [
        "2015-04-18 19:17:18,395 - opendeep.models.model - INFO - Creating a new instance of <class 'opendeep.models.container.Prototype'>\n"
       ]
      },
      {
       "output_type": "stream",
       "stream": "stdout",
       "text": [
        "2015-04-18 19:17:18,396 - opendeep.utils.config - DEBUG - Input to create_dictionary_like was None.\n"
       ]
      },
      {
       "output_type": "stream",
       "stream": "stdout",
       "text": [
        "2015-04-18 19:17:18,397 - opendeep.utils.config - DEBUG - Input to create_dictionary_like was None.\n"
       ]
      },
      {
       "output_type": "stream",
       "stream": "stdout",
       "text": [
        "2015-04-18 19:17:18,398 - opendeep.utils.config - WARNING - Both the config and defaults are None! Please supply at least one.\n"
       ]
      },
      {
       "output_type": "stream",
       "stream": "stdout",
       "text": [
        "2015-04-18 19:17:18,399 - opendeep.utils.file_ops - DEBUG - Attempting to make directory /Users/mwarrick/Documents/Neural_Net_Newbies/outputs/prototype\n"
       ]
      },
      {
       "output_type": "stream",
       "stream": "stdout",
       "text": [
        "2015-04-18 19:17:18,400 - opendeep.models.model - WARNING - Both input_size and inputs_hook are None! Make sure this is only happening in a Prototype! Setting input_size to 1 for convenience to the Prototype.\n"
       ]
      },
      {
       "output_type": "stream",
       "stream": "stdout",
       "text": [
        "2015-04-18 19:17:18,401 - opendeep.models.model - DEBUG - <class 'opendeep.models.container.Prototype'> self.args: {'output_size': None, 'params_hook': None, 'inputs_hook': None, 'input_size': 1, 'hiddens_hook': None, 'outdir': 'outputs/prototype/'}\n"
       ]
      },
      {
       "output_type": "stream",
       "stream": "stdout",
       "text": [
        "2015-04-18 19:17:18,402 - opendeep.models.model - DEBUG - Saving <class 'opendeep.models.container.Prototype'> configuration to /Users/mwarrick/Documents/Neural_Net_Newbies/outputs/prototype/config.pkl\n"
       ]
      },
      {
       "output_type": "stream",
       "stream": "stdout",
       "text": [
        "2015-04-18 19:17:18,403 - opendeep.models.model - INFO - Creating a new instance of <class 'opendeep.models.single_layer.basic.BasicLayer'>\n"
       ]
      },
      {
       "output_type": "stream",
       "stream": "stdout",
       "text": [
        "2015-04-18 19:17:18,404 - opendeep.utils.config - DEBUG - Input to create_dictionary_like was None.\n"
       ]
      },
      {
       "output_type": "stream",
       "stream": "stdout",
       "text": [
        "2015-04-18 19:17:18,405 - opendeep.utils.file_ops - DEBUG - Attempting to make directory /Users/mwarrick/Documents/Neural_Net_Newbies/outputs\n"
       ]
      },
      {
       "output_type": "stream",
       "stream": "stdout",
       "text": [
        "2015-04-18 19:17:18,406 - opendeep.utils.file_ops - DEBUG - Directory /Users/mwarrick/Documents/Neural_Net_Newbies/outputs already exists!\n"
       ]
      },
      {
       "output_type": "stream",
       "stream": "stdout",
       "text": [
        "2015-04-18 19:17:18,407 - opendeep.models.model - DEBUG - <class 'opendeep.models.single_layer.basic.BasicLayer'> self.args: {'noise': 'dropout', 'weights_init': 'uniform', 'noise_level': None, 'output_size': 512, 'params_hook': None, 'activation': 'rectifier', 'hiddens_hook': None, 'weights_std': 0.005, 'cost': 'mse', 'cost_args': {}, 'bias_init': 0.0, 'inputs_hook': None, 'weights_mean': 0, 'input_size': 784, 'mrg': <theano.sandbox.rng_mrg.MRG_RandomStreams object at 0x108c319d0>, 'weights_interval': 'montreal', 'outdir': 'outputs/'}\n"
       ]
      },
      {
       "output_type": "stream",
       "stream": "stdout",
       "text": [
        "2015-04-18 19:17:18,408 - opendeep.models.model - DEBUG - Saving <class 'opendeep.models.single_layer.basic.BasicLayer'> configuration to /Users/mwarrick/Documents/Neural_Net_Newbies/outputs/basiclayer_config.pkl\n"
       ]
      },
      {
       "output_type": "stream",
       "stream": "stdout",
       "text": [
        "2015-04-18 19:17:18,415 - opendeep.utils.nnet - DEBUG - Creating weights with shape (784, 512) from Uniform distribution with formula name: montreal\n"
       ]
      },
      {
       "output_type": "stream",
       "stream": "stdout",
       "text": [
        "2015-04-18 19:17:18,433 - opendeep.utils.nnet - DEBUG - Initializing bias variable with shape 512\n"
       ]
      },
      {
       "output_type": "stream",
       "stream": "stdout",
       "text": [
        "2015-04-18 19:17:18,450 - opendeep.models.single_layer.basic - DEBUG - Adding noise switch.\n"
       ]
      },
      {
       "output_type": "stream",
       "stream": "stdout",
       "text": [
        "2015-04-18 19:17:22,377 - opendeep.models.single_layer.basic - DEBUG - Initialized a basic fully-connected layer with shape (784, 512) and activation: rectifier\n"
       ]
      },
      {
       "output_type": "stream",
       "stream": "stdout",
       "text": [
        "2015-04-18 19:17:22,377 - opendeep.models.model - INFO - Creating a new instance of <class 'opendeep.models.single_layer.basic.BasicLayer'>\n"
       ]
      },
      {
       "output_type": "stream",
       "stream": "stdout",
       "text": [
        "2015-04-18 19:17:22,378 - opendeep.utils.config - DEBUG - Input to create_dictionary_like was None.\n"
       ]
      },
      {
       "output_type": "stream",
       "stream": "stdout",
       "text": [
        "2015-04-18 19:17:22,379 - opendeep.utils.file_ops - DEBUG - Attempting to make directory /Users/mwarrick/Documents/Neural_Net_Newbies/outputs\n"
       ]
      },
      {
       "output_type": "stream",
       "stream": "stdout",
       "text": [
        "2015-04-18 19:17:22,380 - opendeep.utils.file_ops - DEBUG - Directory /Users/mwarrick/Documents/Neural_Net_Newbies/outputs already exists!\n"
       ]
      },
      {
       "output_type": "stream",
       "stream": "stdout",
       "text": [
        "2015-04-18 19:17:22,380 - opendeep.models.model - WARNING - Both input_size and inputs_hook are None! Make sure this is only happening in a Prototype! Setting input_size to 1 for convenience to the Prototype.\n"
       ]
      },
      {
       "output_type": "stream",
       "stream": "stdout",
       "text": [
        "2015-04-18 19:17:22,381 - opendeep.models.model - DEBUG - <class 'opendeep.models.single_layer.basic.BasicLayer'> self.args: {'noise': 'dropout', 'weights_init': 'uniform', 'noise_level': None, 'output_size': 512, 'params_hook': None, 'activation': 'rectifier', 'hiddens_hook': None, 'weights_std': 0.005, 'cost': 'mse', 'cost_args': {}, 'bias_init': 0.0, 'inputs_hook': None, 'weights_mean': 0, 'input_size': 1, 'mrg': <theano.sandbox.rng_mrg.MRG_RandomStreams object at 0x1093fbf90>, 'weights_interval': 'montreal', 'outdir': 'outputs/'}\n"
       ]
      },
      {
       "output_type": "stream",
       "stream": "stdout",
       "text": [
        "2015-04-18 19:17:22,382 - opendeep.models.model - DEBUG - Saving <class 'opendeep.models.single_layer.basic.BasicLayer'> configuration to /Users/mwarrick/Documents/Neural_Net_Newbies/outputs/basiclayer_config.pkl\n"
       ]
      },
      {
       "output_type": "stream",
       "stream": "stdout",
       "text": [
        "2015-04-18 19:17:22,390 - opendeep.utils.nnet - DEBUG - Creating weights with shape (1, 512) from Uniform distribution with formula name: montreal\n"
       ]
      },
      {
       "output_type": "stream",
       "stream": "stdout",
       "text": [
        "2015-04-18 19:17:22,392 - opendeep.utils.nnet - DEBUG - Initializing bias variable with shape 512\n"
       ]
      },
      {
       "output_type": "stream",
       "stream": "stdout",
       "text": [
        "2015-04-18 19:17:22,397 - opendeep.models.single_layer.basic - DEBUG - Adding noise switch.\n"
       ]
      },
      {
       "output_type": "stream",
       "stream": "stdout",
       "text": [
        "2015-04-18 19:17:26,298 - opendeep.models.single_layer.basic - DEBUG - Initialized a basic fully-connected layer with shape (1, 512) and activation: rectifier\n"
       ]
      },
      {
       "output_type": "stream",
       "stream": "stdout",
       "text": [
        "2015-04-18 19:17:26,299 - opendeep.models.container - INFO - Overriding model <class 'opendeep.models.single_layer.basic.BasicLayer'> with new inputs_hook!\n"
       ]
      },
      {
       "output_type": "stream",
       "stream": "stdout",
       "text": [
        "2015-04-18 19:17:26,299 - opendeep.models.model - INFO - Creating a new instance of <class 'opendeep.models.single_layer.basic.BasicLayer'>\n"
       ]
      },
      {
       "output_type": "stream",
       "stream": "stdout",
       "text": [
        "2015-04-18 19:17:26,300 - opendeep.utils.config - DEBUG - Input to create_dictionary_like was None.\n"
       ]
      },
      {
       "output_type": "stream",
       "stream": "stdout",
       "text": [
        "2015-04-18 19:17:26,301 - opendeep.utils.file_ops - DEBUG - Attempting to make directory /Users/mwarrick/Documents/Neural_Net_Newbies/outputs\n"
       ]
      },
      {
       "output_type": "stream",
       "stream": "stdout",
       "text": [
        "2015-04-18 19:17:26,301 - opendeep.utils.file_ops - DEBUG - Directory /Users/mwarrick/Documents/Neural_Net_Newbies/outputs already exists!\n"
       ]
      },
      {
       "output_type": "stream",
       "stream": "stdout",
       "text": [
        "2015-04-18 19:17:26,302 - opendeep.models.model - DEBUG - <class 'opendeep.models.single_layer.basic.BasicLayer'> self.args: {'noise': 'dropout', 'weights_init': 'uniform', 'noise_level': None, 'output_size': 512, 'params_hook': None, 'activation': 'rectifier', 'hiddens_hook': None, 'weights_std': 0.005, 'cost': 'mse', 'cost_args': {}, 'bias_init': 0.0, 'inputs_hook': (512, Elemwise{switch,no_inplace}.0), 'weights_mean': 0, 'input_size': 1, 'mrg': <theano.sandbox.rng_mrg.MRG_RandomStreams object at 0x1093fbf90>, 'weights_interval': 'montreal', 'outdir': 'outputs/'}\n"
       ]
      },
      {
       "output_type": "stream",
       "stream": "stdout",
       "text": [
        "2015-04-18 19:17:26,302 - opendeep.models.model - DEBUG - Saving <class 'opendeep.models.single_layer.basic.BasicLayer'> configuration to /Users/mwarrick/Documents/Neural_Net_Newbies/outputs/basiclayer_config.pkl\n"
       ]
      },
      {
       "output_type": "stream",
       "stream": "stdout",
       "text": [
        "2015-04-18 19:17:26,334 - opendeep.utils.nnet - DEBUG - Creating weights with shape (512, 512) from Uniform distribution with formula name: montreal\n"
       ]
      },
      {
       "output_type": "stream",
       "stream": "stdout",
       "text": [
        "2015-04-18 19:17:26,344 - opendeep.utils.nnet - DEBUG - Initializing bias variable with shape 512\n"
       ]
      },
      {
       "output_type": "stream",
       "stream": "stdout",
       "text": [
        "2015-04-18 19:17:26,348 - opendeep.models.single_layer.basic - DEBUG - Adding noise switch.\n"
       ]
      },
      {
       "output_type": "stream",
       "stream": "stdout",
       "text": [
        "2015-04-18 19:17:29,928 - opendeep.models.single_layer.basic - DEBUG - Initialized a basic fully-connected layer with shape (512, 512) and activation: rectifier\n"
       ]
      },
      {
       "output_type": "stream",
       "stream": "stdout",
       "text": [
        "2015-04-18 19:17:29,928 - opendeep.models.model - INFO - Creating a new instance of <class 'opendeep.models.single_layer.basic.SoftmaxLayer'>\n"
       ]
      },
      {
       "output_type": "stream",
       "stream": "stdout",
       "text": [
        "2015-04-18 19:17:29,929 - opendeep.utils.config - DEBUG - Input to create_dictionary_like was None.\n"
       ]
      },
      {
       "output_type": "stream",
       "stream": "stdout",
       "text": [
        "2015-04-18 19:17:29,930 - opendeep.utils.file_ops - DEBUG - Attempting to make directory /Users/mwarrick/Documents/Neural_Net_Newbies/outputs\n"
       ]
      },
      {
       "output_type": "stream",
       "stream": "stdout",
       "text": [
        "2015-04-18 19:17:29,931 - opendeep.utils.file_ops - DEBUG - Directory /Users/mwarrick/Documents/Neural_Net_Newbies/outputs already exists!\n"
       ]
      },
      {
       "output_type": "stream",
       "stream": "stdout",
       "text": [
        "2015-04-18 19:17:29,931 - opendeep.models.model - WARNING - Both input_size and inputs_hook are None! Make sure this is only happening in a Prototype! Setting input_size to 1 for convenience to the Prototype.\n"
       ]
      },
      {
       "output_type": "stream",
       "stream": "stdout",
       "text": [
        "2015-04-18 19:17:29,932 - opendeep.models.model - DEBUG - <class 'opendeep.models.single_layer.basic.SoftmaxLayer'> self.args: {'noise': False, 'weights_init': 'uniform', 'noise_level': None, 'output_size': 10, 'params_hook': None, 'activation': 'softmax', 'hiddens_hook': None, 'out_as_probs': False, 'weights_std': 0.005, 'cost': 'nll', 'cost_args': {}, 'bias_init': 0.0, 'inputs_hook': None, 'weights_mean': 0, 'input_size': 1, 'mrg': <theano.sandbox.rng_mrg.MRG_RandomStreams object at 0x109441fd0>, 'weights_interval': 'montreal', 'outdir': 'outputs/'}\n"
       ]
      },
      {
       "output_type": "stream",
       "stream": "stdout",
       "text": [
        "2015-04-18 19:17:29,932 - opendeep.models.model - DEBUG - Saving <class 'opendeep.models.single_layer.basic.SoftmaxLayer'> configuration to /Users/mwarrick/Documents/Neural_Net_Newbies/outputs/softmax_config.pkl\n"
       ]
      },
      {
       "output_type": "stream",
       "stream": "stdout",
       "text": [
        "2015-04-18 19:17:29,941 - opendeep.utils.nnet - DEBUG - Creating weights with shape (1, 10) from Uniform distribution with formula name: montreal\n"
       ]
      },
      {
       "output_type": "stream",
       "stream": "stdout",
       "text": [
        "2015-04-18 19:17:29,943 - opendeep.utils.nnet - DEBUG - Initializing bias variable with shape 10\n"
       ]
      },
      {
       "output_type": "stream",
       "stream": "stdout",
       "text": [
        "2015-04-18 19:17:29,951 - opendeep.models.single_layer.basic - DEBUG - Initialized a basic fully-connected layer with shape (1, 10) and activation: softmax\n"
       ]
      },
      {
       "output_type": "stream",
       "stream": "stdout",
       "text": [
        "2015-04-18 19:17:29,954 - opendeep.models.single_layer.basic - DEBUG - Using softmax negative log-likelihood cost!!\n"
       ]
      },
      {
       "output_type": "stream",
       "stream": "stdout",
       "text": [
        "2015-04-18 19:17:29,958 - opendeep.models.container - INFO - Overriding model <class 'opendeep.models.single_layer.basic.SoftmaxLayer'> with new inputs_hook!\n"
       ]
      },
      {
       "output_type": "stream",
       "stream": "stdout",
       "text": [
        "2015-04-18 19:17:29,959 - opendeep.models.model - INFO - Creating a new instance of <class 'opendeep.models.single_layer.basic.SoftmaxLayer'>\n"
       ]
      },
      {
       "output_type": "stream",
       "stream": "stdout",
       "text": [
        "2015-04-18 19:17:29,960 - opendeep.utils.config - DEBUG - Input to create_dictionary_like was None.\n"
       ]
      },
      {
       "output_type": "stream",
       "stream": "stdout",
       "text": [
        "2015-04-18 19:17:29,961 - opendeep.utils.file_ops - DEBUG - Attempting to make directory /Users/mwarrick/Documents/Neural_Net_Newbies/outputs\n"
       ]
      },
      {
       "output_type": "stream",
       "stream": "stdout",
       "text": [
        "2015-04-18 19:17:29,962 - opendeep.utils.file_ops - DEBUG - Directory /Users/mwarrick/Documents/Neural_Net_Newbies/outputs already exists!\n"
       ]
      },
      {
       "output_type": "stream",
       "stream": "stdout",
       "text": [
        "2015-04-18 19:17:29,963 - opendeep.models.model - DEBUG - <class 'opendeep.models.single_layer.basic.SoftmaxLayer'> self.args: {'noise': False, 'weights_init': 'uniform', 'noise_level': None, 'output_size': 10, 'params_hook': None, 'activation': 'softmax', 'hiddens_hook': None, 'out_as_probs': False, 'weights_std': 0.005, 'cost': 'nll', 'cost_args': {}, 'bias_init': 0.0, 'inputs_hook': (512, Elemwise{switch,no_inplace}.0), 'weights_mean': 0, 'input_size': 1, 'mrg': <theano.sandbox.rng_mrg.MRG_RandomStreams object at 0x10988c510>, 'weights_interval': 'montreal', 'outdir': 'outputs/'}\n"
       ]
      },
      {
       "output_type": "stream",
       "stream": "stdout",
       "text": [
        "2015-04-18 19:17:29,963 - opendeep.models.model - DEBUG - Saving <class 'opendeep.models.single_layer.basic.SoftmaxLayer'> configuration to /Users/mwarrick/Documents/Neural_Net_Newbies/outputs/softmax_config.pkl\n"
       ]
      },
      {
       "output_type": "stream",
       "stream": "stdout",
       "text": [
        "2015-04-18 19:17:29,998 - opendeep.utils.nnet - DEBUG - Creating weights with shape (512, 10) from Uniform distribution with formula name: montreal\n"
       ]
      },
      {
       "output_type": "stream",
       "stream": "stdout",
       "text": [
        "2015-04-18 19:17:29,999 - opendeep.utils.nnet - DEBUG - Initializing bias variable with shape 10\n"
       ]
      },
      {
       "output_type": "stream",
       "stream": "stdout",
       "text": [
        "2015-04-18 19:17:30,004 - opendeep.models.single_layer.basic - DEBUG - Initialized a basic fully-connected layer with shape (512, 10) and activation: softmax\n"
       ]
      },
      {
       "output_type": "stream",
       "stream": "stdout",
       "text": [
        "2015-04-18 19:17:30,005 - opendeep.models.single_layer.basic - DEBUG - Using softmax negative log-likelihood cost!!\n"
       ]
      },
      {
       "output_type": "stream",
       "stream": "stderr",
       "text": [
        "/usr/local/lib/python2.7/site-packages/theano/sandbox/rng_mrg.py:768: UserWarning: MRG_RandomStreams Can't determine #streams from size (Shape.0), guessing 60*256\n",
        "  nstreams = self.n_streams(size)\n"
       ]
      }
     ],
     "prompt_number": 2
    },
    {
     "cell_type": "code",
     "collapsed": false,
     "input": [
      "mnist_dataset = MNIST(concat_train_valid=False)\n",
      "\n",
      "optimizer = SGD(model=mlp,\n",
      "                dataset=mnist_dataset,\n",
      "                n_epoch=500,\n",
      "                batch_size=600,\n",
      "                learning_rate=.01,\n",
      "                momentum=.9,\n",
      "                nesterov_momentum=True,\n",
      "                save_frequency=500)\n",
      "optimizer.train()"
     ],
     "language": "python",
     "metadata": {},
     "outputs": [
      {
       "output_type": "stream",
       "stream": "stdout",
       "text": [
        "2015-04-18 19:18:25,423 - opendeep.data.standard_datasets.image.mnist - INFO - Loading MNIST with binary=False and one_hot=False\n"
       ]
      },
      {
       "output_type": "stream",
       "stream": "stdout",
       "text": [
        "2015-04-18 19:18:25,424 - opendeep.data.dataset - INFO - Installing dataset mnist.pkl.gz\n"
       ]
      },
      {
       "output_type": "stream",
       "stream": "stdout",
       "text": [
        "2015-04-18 19:18:25,425 - opendeep.utils.file_ops - DEBUG - Attempting to make directory /Users/mwarrick/Documents/opendeep/datasets\n"
       ]
      },
      {
       "output_type": "stream",
       "stream": "stdout",
       "text": [
        "2015-04-18 19:18:25,433 - opendeep.utils.file_ops - DEBUG - File /Users/mwarrick/Documents/opendeep/datasets/mnist.pkl doesn't exist!\n"
       ]
      },
      {
       "output_type": "stream",
       "stream": "stdout",
       "text": [
        "2015-04-18 19:18:25,434 - opendeep.utils.file_ops - DEBUG - File /Users/mwarrick/Documents/opendeep/datasets/mnist.pkl.gz doesn't exist!\n"
       ]
      },
      {
       "output_type": "stream",
       "stream": "stdout",
       "text": [
        "2015-04-18 19:18:25,434 - opendeep.utils.file_ops - DEBUG - Downloading data from http://www.iro.umontreal.ca/~lisa/deep/data/mnist/mnist.pkl.gz to /Users/mwarrick/Documents/opendeep/datasets/mnist.pkl.gz\n"
       ]
      },
      {
       "output_type": "stream",
       "stream": "stdout",
       "text": [
        "2015-04-18 19:18:49,577 - opendeep.data.dataset - INFO - Installation complete. Yay!\n"
       ]
      },
      {
       "output_type": "stream",
       "stream": "stdout",
       "text": [
        "2015-04-18 19:18:51,430 - opendeep.data.standard_datasets.image.mnist - DEBUG - Sequencing MNIST with sequence 0\n"
       ]
      },
      {
       "output_type": "stream",
       "stream": "stdout",
       "text": [
        "2015-04-18 19:18:51,431 - opendeep.data.standard_datasets.image.mnist - DEBUG - Train shape is: (50000, 784)\n"
       ]
      },
      {
       "output_type": "stream",
       "stream": "stdout",
       "text": [
        "2015-04-18 19:18:51,432 - opendeep.data.standard_datasets.image.mnist - DEBUG - Valid shape is: (10000, 784)\n"
       ]
      },
      {
       "output_type": "stream",
       "stream": "stdout",
       "text": [
        "2015-04-18 19:18:51,433 - opendeep.data.standard_datasets.image.mnist - DEBUG - Test shape is: (10000, 784)\n"
       ]
      },
      {
       "output_type": "stream",
       "stream": "stdout",
       "text": [
        "2015-04-18 19:18:51,433 - opendeep.data.standard_datasets.image.mnist - DEBUG - loading datasets into shared variables\n"
       ]
      },
      {
       "output_type": "stream",
       "stream": "stdout",
       "text": [
        "2015-04-18 19:18:51,915 - opendeep.optimization.optimizer - DEBUG - Initializing optimizer <class 'opendeep.optimization.stochastic_gradient_descent.SGD'>\n"
       ]
      },
      {
       "output_type": "stream",
       "stream": "stdout",
       "text": [
        "2015-04-18 19:18:51,915 - opendeep.utils.config - DEBUG - Input to create_dictionary_like was None.\n"
       ]
      },
      {
       "output_type": "stream",
       "stream": "stdout",
       "text": [
        "2015-04-18 19:18:51,916 - opendeep.optimization.optimizer - DEBUG - optimizer config args: {'momentum_decay': 'linear', 'early_stop_length': 30, 'save_frequency': 500, 'nesterov_momentum': True, 'minimum_batch_size': 1, 'learning_rate': 0.01, 'batch_size': 600, 'lr_factor': 0.995, 'momentum_factor': 0, 'n_epoch': 500, 'early_stop_threshold': 0.9995, 'lr_decay': 'exponential', 'momentum': 0.9}\n"
       ]
      },
      {
       "ename": "AttributeError",
       "evalue": "'module' object has no attribute 'subgraph_grad'",
       "output_type": "pyerr",
       "traceback": [
        "\u001b[0;31m---------------------------------------------------------------------------\u001b[0m\n\u001b[0;31mAttributeError\u001b[0m                            Traceback (most recent call last)",
        "\u001b[0;32m<ipython-input-3-e00ec51b390b>\u001b[0m in \u001b[0;36m<module>\u001b[0;34m()\u001b[0m\n\u001b[1;32m      8\u001b[0m                 \u001b[0mmomentum\u001b[0m\u001b[0;34m=\u001b[0m\u001b[0;36m.9\u001b[0m\u001b[0;34m,\u001b[0m\u001b[0;34m\u001b[0m\u001b[0m\n\u001b[1;32m      9\u001b[0m                 \u001b[0mnesterov_momentum\u001b[0m\u001b[0;34m=\u001b[0m\u001b[0mTrue\u001b[0m\u001b[0;34m,\u001b[0m\u001b[0;34m\u001b[0m\u001b[0m\n\u001b[0;32m---> 10\u001b[0;31m                 save_frequency=500)\n\u001b[0m\u001b[1;32m     11\u001b[0m \u001b[0moptimizer\u001b[0m\u001b[0;34m.\u001b[0m\u001b[0mtrain\u001b[0m\u001b[0;34m(\u001b[0m\u001b[0;34m)\u001b[0m\u001b[0;34m\u001b[0m\u001b[0m\n",
        "\u001b[0;32m/Users/mwarrick/Documents/opendeep/opendeep/optimization/stochastic_gradient_descent.py\u001b[0m in \u001b[0;36m__init__\u001b[0;34m(self, model, dataset, config, defaults, n_epoch, batch_size, minimum_batch_size, save_frequency, early_stop_threshold, early_stop_length, learning_rate, lr_decay, lr_factor, momentum, momentum_decay, momentum_factor, nesterov_momentum)\u001b[0m\n\u001b[1;32m     51\u001b[0m                                   \u001b[0mlr_decay\u001b[0m\u001b[0;34m=\u001b[0m\u001b[0mlr_decay\u001b[0m\u001b[0;34m,\u001b[0m \u001b[0mlr_factor\u001b[0m\u001b[0;34m=\u001b[0m\u001b[0mlr_factor\u001b[0m\u001b[0;34m,\u001b[0m \u001b[0mmomentum\u001b[0m\u001b[0;34m=\u001b[0m\u001b[0mmomentum\u001b[0m\u001b[0;34m,\u001b[0m\u001b[0;34m\u001b[0m\u001b[0m\n\u001b[1;32m     52\u001b[0m                                   \u001b[0mmomentum_decay\u001b[0m\u001b[0;34m=\u001b[0m\u001b[0mmomentum_decay\u001b[0m\u001b[0;34m,\u001b[0m \u001b[0mmomentum_factor\u001b[0m\u001b[0;34m=\u001b[0m\u001b[0mmomentum_factor\u001b[0m\u001b[0;34m,\u001b[0m\u001b[0;34m\u001b[0m\u001b[0m\n\u001b[0;32m---> 53\u001b[0;31m                                   nesterov_momentum=nesterov_momentum)\n\u001b[0m\u001b[1;32m     54\u001b[0m         \u001b[0;31m# everything is in self! yay!\u001b[0m\u001b[0;34m\u001b[0m\u001b[0;34m\u001b[0m\u001b[0m\n\u001b[1;32m     55\u001b[0m \u001b[0;34m\u001b[0m\u001b[0m\n",
        "\u001b[0;32m/Users/mwarrick/Documents/opendeep/opendeep/optimization/optimizer.py\u001b[0m in \u001b[0;36m__init__\u001b[0;34m(self, model, dataset, config, defaults, n_epoch, batch_size, minimum_batch_size, save_frequency, early_stop_threshold, early_stop_length, learning_rate, lr_decay, lr_factor, **kwargs)\u001b[0m\n\u001b[1;32m    184\u001b[0m             \u001b[0;31m# Now create the training cost function for the model to use while training - update parameters\u001b[0m\u001b[0;34m\u001b[0m\u001b[0;34m\u001b[0m\u001b[0m\n\u001b[1;32m    185\u001b[0m             \u001b[0;31m# gradient!\u001b[0m\u001b[0;34m\u001b[0m\u001b[0;34m\u001b[0m\u001b[0m\n\u001b[0;32m--> 186\u001b[0;31m             \u001b[0mgradients\u001b[0m\u001b[0;34m,\u001b[0m \u001b[0m_\u001b[0m \u001b[0;34m=\u001b[0m \u001b[0mself\u001b[0m\u001b[0;34m.\u001b[0m\u001b[0mmodel\u001b[0m\u001b[0;34m.\u001b[0m\u001b[0mget_gradient\u001b[0m\u001b[0;34m(\u001b[0m\u001b[0mcost\u001b[0m\u001b[0;34m=\u001b[0m\u001b[0mtrain_cost\u001b[0m\u001b[0;34m)\u001b[0m\u001b[0;34m\u001b[0m\u001b[0m\n\u001b[0m\u001b[1;32m    187\u001b[0m             \u001b[0mself\u001b[0m\u001b[0;34m.\u001b[0m\u001b[0mgradients\u001b[0m\u001b[0;34m.\u001b[0m\u001b[0mappend\u001b[0m\u001b[0;34m(\u001b[0m\u001b[0mgradients\u001b[0m\u001b[0;34m)\u001b[0m\u001b[0;34m\u001b[0m\u001b[0m\n\u001b[1;32m    188\u001b[0m \u001b[0;34m\u001b[0m\u001b[0m\n",
        "\u001b[0;32m/Users/mwarrick/Documents/opendeep/opendeep/models/container.py\u001b[0m in \u001b[0;36mget_gradient\u001b[0;34m(self, starting_gradient, cost, additional_cost)\u001b[0m\n\u001b[1;32m    248\u001b[0m         \"\"\"\n\u001b[1;32m    249\u001b[0m         \u001b[0;31m# for now just use the Model's get_gradient method.\u001b[0m\u001b[0;34m\u001b[0m\u001b[0;34m\u001b[0m\u001b[0m\n\u001b[0;32m--> 250\u001b[0;31m         \u001b[0;32mreturn\u001b[0m \u001b[0msuper\u001b[0m\u001b[0;34m(\u001b[0m\u001b[0mPrototype\u001b[0m\u001b[0;34m,\u001b[0m \u001b[0mself\u001b[0m\u001b[0;34m)\u001b[0m\u001b[0;34m.\u001b[0m\u001b[0mget_gradient\u001b[0m\u001b[0;34m(\u001b[0m\u001b[0mstarting_gradient\u001b[0m\u001b[0;34m,\u001b[0m \u001b[0mcost\u001b[0m\u001b[0;34m,\u001b[0m \u001b[0madditional_cost\u001b[0m\u001b[0;34m)\u001b[0m\u001b[0;34m\u001b[0m\u001b[0m\n\u001b[0m\u001b[1;32m    251\u001b[0m \u001b[0;34m\u001b[0m\u001b[0m\n\u001b[1;32m    252\u001b[0m     \u001b[0;32mdef\u001b[0m \u001b[0mget_updates\u001b[0m\u001b[0;34m(\u001b[0m\u001b[0mself\u001b[0m\u001b[0;34m)\u001b[0m\u001b[0;34m:\u001b[0m\u001b[0;34m\u001b[0m\u001b[0m\n",
        "\u001b[0;32m/Users/mwarrick/Documents/opendeep/opendeep/models/model.py\u001b[0m in \u001b[0;36mget_gradient\u001b[0;34m(self, starting_gradient, cost, additional_cost)\u001b[0m\n\u001b[1;32m    367\u001b[0m             \u001b[0;32mif\u001b[0m \u001b[0madditional_cost\u001b[0m \u001b[0;32mis\u001b[0m \u001b[0;32mnot\u001b[0m \u001b[0mNone\u001b[0m\u001b[0;34m:\u001b[0m\u001b[0;34m\u001b[0m\u001b[0m\n\u001b[1;32m    368\u001b[0m                 \u001b[0mcost\u001b[0m \u001b[0;34m=\u001b[0m \u001b[0mT\u001b[0m\u001b[0;34m.\u001b[0m\u001b[0msum\u001b[0m\u001b[0;34m(\u001b[0m\u001b[0mcost\u001b[0m\u001b[0;34m,\u001b[0m \u001b[0madditional_cost\u001b[0m\u001b[0;34m)\u001b[0m\u001b[0;34m\u001b[0m\u001b[0m\n\u001b[0;32m--> 369\u001b[0;31m             params_grad, next_starting_grad = theano.subgraph_grad(wrt=self.get_params(),\n\u001b[0m\u001b[1;32m    370\u001b[0m                                                                    \u001b[0mend\u001b[0m\u001b[0;34m=\u001b[0m\u001b[0mraise_to_list\u001b[0m\u001b[0;34m(\u001b[0m\u001b[0mself\u001b[0m\u001b[0;34m.\u001b[0m\u001b[0mget_inputs\u001b[0m\u001b[0;34m(\u001b[0m\u001b[0;34m)\u001b[0m\u001b[0;34m)\u001b[0m\u001b[0;34m,\u001b[0m\u001b[0;34m\u001b[0m\u001b[0m\n\u001b[1;32m    371\u001b[0m                                                                    \u001b[0mcost\u001b[0m\u001b[0;34m=\u001b[0m\u001b[0mcost\u001b[0m\u001b[0;34m,\u001b[0m\u001b[0;34m\u001b[0m\u001b[0m\n",
        "\u001b[0;31mAttributeError\u001b[0m: 'module' object has no attribute 'subgraph_grad'"
       ]
      }
     ],
     "prompt_number": 3
    },
    {
     "cell_type": "markdown",
     "metadata": {},
     "source": [
      "### Script Run"
     ]
    },
    {
     "cell_type": "code",
     "collapsed": false,
     "input": [
      "%load_ext autoreload"
     ],
     "language": "python",
     "metadata": {},
     "outputs": [],
     "prompt_number": 4
    },
    {
     "cell_type": "code",
     "collapsed": false,
     "input": [
      "%autoreload 2"
     ],
     "language": "python",
     "metadata": {},
     "outputs": [],
     "prompt_number": 5
    },
    {
     "cell_type": "code",
     "collapsed": false,
     "input": [
      "import lib.opendeep_mnist as opendeep_mnist"
     ],
     "language": "python",
     "metadata": {},
     "outputs": [
      {
       "output_type": "stream",
       "stream": "stdout",
       "text": [
        "2015-04-18 19:30:58,894 - opendeep.utils.file_ops - DEBUG - Attempting to make directory /Users/mwarrick/Documents/opendeep/opendeep/log/logs/error\n"
       ]
      },
      {
       "output_type": "stream",
       "stream": "stdout",
       "text": [
        "2015-04-18 19:30:58,896 - opendeep.utils.file_ops - DEBUG - Directory /Users/mwarrick/Documents/opendeep/opendeep/log/logs/error already exists!\n"
       ]
      },
      {
       "output_type": "stream",
       "stream": "stdout",
       "text": [
        "2015-04-18 19:30:58,897 - opendeep.utils.file_ops - DEBUG - Attempting to make directory /Users/mwarrick/Documents/opendeep/opendeep/log/logs/info\n"
       ]
      },
      {
       "output_type": "stream",
       "stream": "stdout",
       "text": [
        "2015-04-18 19:30:58,898 - opendeep.utils.file_ops - DEBUG - Directory /Users/mwarrick/Documents/opendeep/opendeep/log/logs/info already exists!\n"
       ]
      }
     ],
     "prompt_number": 6
    },
    {
     "cell_type": "code",
     "collapsed": false,
     "input": [
      "opendeep_mnist.main()"
     ],
     "language": "python",
     "metadata": {},
     "outputs": [
      {
       "output_type": "stream",
       "stream": "stdout",
       "text": [
        "... load and setup data\n",
        "2015-04-18 19:31:11,068 - opendeep.data.standard_datasets.image.mnist - INFO - Loading MNIST with binary=False and one_hot=False\n"
       ]
      },
      {
       "output_type": "stream",
       "stream": "stdout",
       "text": [
        "2015-04-18 19:31:11,069 - opendeep.data.dataset - INFO - Installing dataset mnist.pkl.gz\n"
       ]
      },
      {
       "output_type": "stream",
       "stream": "stdout",
       "text": [
        "2015-04-18 19:31:11,070 - opendeep.utils.file_ops - DEBUG - Attempting to make directory /Users/mwarrick/Documents/opendeep/datasets\n"
       ]
      },
      {
       "output_type": "stream",
       "stream": "stdout",
       "text": [
        "2015-04-18 19:31:11,071 - opendeep.utils.file_ops - DEBUG - Directory /Users/mwarrick/Documents/opendeep/datasets already exists!\n"
       ]
      },
      {
       "output_type": "stream",
       "stream": "stdout",
       "text": [
        "2015-04-18 19:31:11,072 - opendeep.utils.file_ops - DEBUG - File /Users/mwarrick/Documents/opendeep/datasets/mnist.pkl doesn't exist!\n"
       ]
      },
      {
       "output_type": "stream",
       "stream": "stdout",
       "text": [
        "2015-04-18 19:31:11,072 - opendeep.data.dataset - DEBUG - Found file /Users/mwarrick/Documents/opendeep/datasets/mnist.pkl.gz\n"
       ]
      },
      {
       "output_type": "stream",
       "stream": "stdout",
       "text": [
        "2015-04-18 19:31:11,073 - opendeep.data.dataset - INFO - Installation complete. Yay!\n"
       ]
      },
      {
       "output_type": "stream",
       "stream": "stdout",
       "text": [
        "2015-04-18 19:31:12,983 - opendeep.data.standard_datasets.image.mnist - DEBUG - Sequencing MNIST with sequence 0\n"
       ]
      },
      {
       "output_type": "stream",
       "stream": "stdout",
       "text": [
        "2015-04-18 19:31:12,983 - opendeep.data.standard_datasets.image.mnist - DEBUG - Train shape is: (50000, 784)\n"
       ]
      },
      {
       "output_type": "stream",
       "stream": "stdout",
       "text": [
        "2015-04-18 19:31:12,984 - opendeep.data.standard_datasets.image.mnist - DEBUG - Valid shape is: (10000, 784)\n"
       ]
      },
      {
       "output_type": "stream",
       "stream": "stdout",
       "text": [
        "2015-04-18 19:31:12,984 - opendeep.data.standard_datasets.image.mnist - DEBUG - Test shape is: (10000, 784)\n"
       ]
      },
      {
       "output_type": "stream",
       "stream": "stdout",
       "text": [
        "2015-04-18 19:31:12,985 - opendeep.data.standard_datasets.image.mnist - DEBUG - loading datasets into shared variables\n"
       ]
      },
      {
       "output_type": "stream",
       "stream": "stdout",
       "text": [
        "... building the model structure\n",
        "2015-04-18 19:31:13,389 - opendeep.models.model - INFO - Creating a new instance of <class 'opendeep.models.container.Prototype'>\n"
       ]
      },
      {
       "output_type": "stream",
       "stream": "stdout",
       "text": [
        "2015-04-18 19:31:13,391 - opendeep.utils.config - DEBUG - Input to create_dictionary_like was None.\n"
       ]
      },
      {
       "output_type": "stream",
       "stream": "stdout",
       "text": [
        "2015-04-18 19:31:13,391 - opendeep.utils.config - DEBUG - Input to create_dictionary_like was None.\n"
       ]
      },
      {
       "output_type": "stream",
       "stream": "stdout",
       "text": [
        "2015-04-18 19:31:13,392 - opendeep.utils.config - WARNING - Both the config and defaults are None! Please supply at least one.\n"
       ]
      },
      {
       "output_type": "stream",
       "stream": "stdout",
       "text": [
        "2015-04-18 19:31:13,393 - opendeep.utils.file_ops - DEBUG - Attempting to make directory /Users/mwarrick/Documents/Neural_Net_Newbies/outputs/prototype\n"
       ]
      },
      {
       "output_type": "stream",
       "stream": "stdout",
       "text": [
        "2015-04-18 19:31:13,393 - opendeep.utils.file_ops - DEBUG - Directory /Users/mwarrick/Documents/Neural_Net_Newbies/outputs/prototype already exists!\n"
       ]
      },
      {
       "output_type": "stream",
       "stream": "stdout",
       "text": [
        "2015-04-18 19:31:13,394 - opendeep.models.model - WARNING - Both input_size and inputs_hook are None! Make sure this is only happening in a Prototype! Setting input_size to 1 for convenience to the Prototype.\n"
       ]
      },
      {
       "output_type": "stream",
       "stream": "stdout",
       "text": [
        "2015-04-18 19:31:13,395 - opendeep.models.model - DEBUG - <class 'opendeep.models.container.Prototype'> self.args: {'output_size': None, 'params_hook': None, 'inputs_hook': None, 'input_size': 1, 'hiddens_hook': None, 'outdir': 'outputs/prototype/'}\n"
       ]
      },
      {
       "output_type": "stream",
       "stream": "stdout",
       "text": [
        "2015-04-18 19:31:13,395 - opendeep.models.model - DEBUG - Saving <class 'opendeep.models.container.Prototype'> configuration to /Users/mwarrick/Documents/Neural_Net_Newbies/outputs/prototype/config.pkl\n"
       ]
      },
      {
       "output_type": "stream",
       "stream": "stdout",
       "text": [
        "2015-04-18 19:31:13,404 - opendeep.models.model - INFO - Creating a new instance of <class 'opendeep.models.single_layer.basic.BasicLayer'>\n"
       ]
      },
      {
       "output_type": "stream",
       "stream": "stdout",
       "text": [
        "2015-04-18 19:31:13,405 - opendeep.utils.config - DEBUG - Input to create_dictionary_like was None.\n"
       ]
      },
      {
       "output_type": "stream",
       "stream": "stdout",
       "text": [
        "2015-04-18 19:31:13,405 - opendeep.utils.file_ops - DEBUG - Attempting to make directory /Users/mwarrick/Documents/Neural_Net_Newbies/outputs\n"
       ]
      },
      {
       "output_type": "stream",
       "stream": "stdout",
       "text": [
        "2015-04-18 19:31:13,406 - opendeep.utils.file_ops - DEBUG - Directory /Users/mwarrick/Documents/Neural_Net_Newbies/outputs already exists!\n"
       ]
      },
      {
       "output_type": "stream",
       "stream": "stdout",
       "text": [
        "2015-04-18 19:31:13,406 - opendeep.models.model - DEBUG - <class 'opendeep.models.single_layer.basic.BasicLayer'> self.args: {'noise': 'dropout', 'weights_init': 'uniform', 'noise_level': None, 'output_size': 512, 'params_hook': None, 'activation': 'rectifier', 'hiddens_hook': None, 'weights_std': 0.005, 'cost': 'mse', 'cost_args': {}, 'bias_init': 0.0, 'inputs_hook': None, 'weights_mean': 0, 'input_size': 784, 'mrg': <theano.sandbox.rng_mrg.MRG_RandomStreams object at 0x106a8f210>, 'weights_interval': 'montreal', 'outdir': 'outputs/'}\n"
       ]
      },
      {
       "output_type": "stream",
       "stream": "stdout",
       "text": [
        "2015-04-18 19:31:13,408 - opendeep.models.model - DEBUG - Saving <class 'opendeep.models.single_layer.basic.BasicLayer'> configuration to /Users/mwarrick/Documents/Neural_Net_Newbies/outputs/basiclayer_config.pkl\n"
       ]
      },
      {
       "output_type": "stream",
       "stream": "stdout",
       "text": [
        "2015-04-18 19:31:13,410 - opendeep.utils.nnet - DEBUG - Creating weights with shape (784, 512) from Uniform distribution with formula name: montreal\n"
       ]
      },
      {
       "output_type": "stream",
       "stream": "stdout",
       "text": [
        "2015-04-18 19:31:13,425 - opendeep.utils.nnet - DEBUG - Initializing bias variable with shape 512\n"
       ]
      },
      {
       "output_type": "stream",
       "stream": "stdout",
       "text": [
        "2015-04-18 19:31:13,431 - opendeep.models.single_layer.basic - DEBUG - Adding noise switch.\n"
       ]
      },
      {
       "output_type": "stream",
       "stream": "stdout",
       "text": [
        "2015-04-18 19:31:17,357 - opendeep.models.single_layer.basic - DEBUG - Initialized a basic fully-connected layer with shape (784, 512) and activation: rectifier\n"
       ]
      },
      {
       "output_type": "stream",
       "stream": "stdout",
       "text": [
        "2015-04-18 19:31:17,357 - opendeep.models.model - INFO - Creating a new instance of <class 'opendeep.models.single_layer.basic.BasicLayer'>\n"
       ]
      },
      {
       "output_type": "stream",
       "stream": "stdout",
       "text": [
        "2015-04-18 19:31:17,358 - opendeep.utils.config - DEBUG - Input to create_dictionary_like was None.\n"
       ]
      },
      {
       "output_type": "stream",
       "stream": "stdout",
       "text": [
        "2015-04-18 19:31:17,359 - opendeep.utils.file_ops - DEBUG - Attempting to make directory /Users/mwarrick/Documents/Neural_Net_Newbies/outputs\n"
       ]
      },
      {
       "output_type": "stream",
       "stream": "stdout",
       "text": [
        "2015-04-18 19:31:17,360 - opendeep.utils.file_ops - DEBUG - Directory /Users/mwarrick/Documents/Neural_Net_Newbies/outputs already exists!\n"
       ]
      },
      {
       "output_type": "stream",
       "stream": "stdout",
       "text": [
        "2015-04-18 19:31:17,360 - opendeep.models.model - WARNING - Both input_size and inputs_hook are None! Make sure this is only happening in a Prototype! Setting input_size to 1 for convenience to the Prototype.\n"
       ]
      },
      {
       "output_type": "stream",
       "stream": "stdout",
       "text": [
        "2015-04-18 19:31:17,361 - opendeep.models.model - DEBUG - <class 'opendeep.models.single_layer.basic.BasicLayer'> self.args: {'noise': 'dropout', 'weights_init': 'uniform', 'noise_level': None, 'output_size': 512, 'params_hook': None, 'activation': 'rectifier', 'hiddens_hook': None, 'weights_std': 0.005, 'cost': 'mse', 'cost_args': {}, 'bias_init': 0.0, 'inputs_hook': None, 'weights_mean': 0, 'input_size': 1, 'mrg': <theano.sandbox.rng_mrg.MRG_RandomStreams object at 0x106ab5650>, 'weights_interval': 'montreal', 'outdir': 'outputs/'}\n"
       ]
      },
      {
       "output_type": "stream",
       "stream": "stdout",
       "text": [
        "2015-04-18 19:31:17,361 - opendeep.models.model - DEBUG - Saving <class 'opendeep.models.single_layer.basic.BasicLayer'> configuration to /Users/mwarrick/Documents/Neural_Net_Newbies/outputs/basiclayer_config.pkl\n"
       ]
      },
      {
       "output_type": "stream",
       "stream": "stdout",
       "text": [
        "2015-04-18 19:31:17,370 - opendeep.utils.nnet - DEBUG - Creating weights with shape (1, 512) from Uniform distribution with formula name: montreal\n"
       ]
      },
      {
       "output_type": "stream",
       "stream": "stdout",
       "text": [
        "2015-04-18 19:31:17,371 - opendeep.utils.nnet - DEBUG - Initializing bias variable with shape 512\n"
       ]
      },
      {
       "output_type": "stream",
       "stream": "stdout",
       "text": [
        "2015-04-18 19:31:17,377 - opendeep.models.single_layer.basic - DEBUG - Adding noise switch.\n"
       ]
      },
      {
       "output_type": "stream",
       "stream": "stdout",
       "text": [
        "2015-04-18 19:31:22,970 - opendeep.models.single_layer.basic - DEBUG - Initialized a basic fully-connected layer with shape (1, 512) and activation: rectifier\n"
       ]
      },
      {
       "output_type": "stream",
       "stream": "stdout",
       "text": [
        "2015-04-18 19:31:22,971 - opendeep.models.container - INFO - Overriding model <class 'opendeep.models.single_layer.basic.BasicLayer'> with new inputs_hook!\n"
       ]
      },
      {
       "output_type": "stream",
       "stream": "stdout",
       "text": [
        "2015-04-18 19:31:22,980 - opendeep.models.model - INFO - Creating a new instance of <class 'opendeep.models.single_layer.basic.BasicLayer'>\n"
       ]
      },
      {
       "output_type": "stream",
       "stream": "stdout",
       "text": [
        "2015-04-18 19:31:22,982 - opendeep.utils.config - DEBUG - Input to create_dictionary_like was None.\n"
       ]
      },
      {
       "output_type": "stream",
       "stream": "stdout",
       "text": [
        "2015-04-18 19:31:22,985 - opendeep.utils.file_ops - DEBUG - Attempting to make directory /Users/mwarrick/Documents/Neural_Net_Newbies/outputs\n"
       ]
      },
      {
       "output_type": "stream",
       "stream": "stdout",
       "text": [
        "2015-04-18 19:31:22,986 - opendeep.utils.file_ops - DEBUG - Directory /Users/mwarrick/Documents/Neural_Net_Newbies/outputs already exists!\n"
       ]
      },
      {
       "output_type": "stream",
       "stream": "stdout",
       "text": [
        "2015-04-18 19:31:22,993 - opendeep.models.model - DEBUG - <class 'opendeep.models.single_layer.basic.BasicLayer'> self.args: {'noise': 'dropout', 'weights_init': 'uniform', 'noise_level': None, 'output_size': 512, 'params_hook': None, 'activation': 'rectifier', 'hiddens_hook': None, 'weights_std': 0.005, 'cost': 'mse', 'cost_args': {}, 'bias_init': 0.0, 'inputs_hook': (512, Elemwise{switch,no_inplace}.0), 'weights_mean': 0, 'input_size': 1, 'mrg': <theano.sandbox.rng_mrg.MRG_RandomStreams object at 0x106ab5650>, 'weights_interval': 'montreal', 'outdir': 'outputs/'}\n"
       ]
      },
      {
       "output_type": "stream",
       "stream": "stdout",
       "text": [
        "2015-04-18 19:31:22,995 - opendeep.models.model - DEBUG - Saving <class 'opendeep.models.single_layer.basic.BasicLayer'> configuration to /Users/mwarrick/Documents/Neural_Net_Newbies/outputs/basiclayer_config.pkl\n"
       ]
      },
      {
       "output_type": "stream",
       "stream": "stdout",
       "text": [
        "2015-04-18 19:31:23,068 - opendeep.utils.nnet - DEBUG - Creating weights with shape (512, 512) from Uniform distribution with formula name: montreal\n"
       ]
      },
      {
       "output_type": "stream",
       "stream": "stdout",
       "text": [
        "2015-04-18 19:31:23,083 - opendeep.utils.nnet - DEBUG - Initializing bias variable with shape 512\n"
       ]
      },
      {
       "output_type": "stream",
       "stream": "stdout",
       "text": [
        "2015-04-18 19:31:23,088 - opendeep.models.single_layer.basic - DEBUG - Adding noise switch.\n"
       ]
      },
      {
       "output_type": "stream",
       "stream": "stdout",
       "text": [
        "2015-04-18 19:31:27,290 - opendeep.models.single_layer.basic - DEBUG - Initialized a basic fully-connected layer with shape (512, 512) and activation: rectifier\n"
       ]
      },
      {
       "output_type": "stream",
       "stream": "stdout",
       "text": [
        "2015-04-18 19:31:27,291 - opendeep.models.model - INFO - Creating a new instance of <class 'opendeep.models.single_layer.basic.SoftmaxLayer'>\n"
       ]
      },
      {
       "output_type": "stream",
       "stream": "stdout",
       "text": [
        "2015-04-18 19:31:27,294 - opendeep.utils.config - DEBUG - Input to create_dictionary_like was None.\n"
       ]
      },
      {
       "output_type": "stream",
       "stream": "stdout",
       "text": [
        "2015-04-18 19:31:27,297 - opendeep.utils.file_ops - DEBUG - Attempting to make directory /Users/mwarrick/Documents/Neural_Net_Newbies/outputs\n"
       ]
      },
      {
       "output_type": "stream",
       "stream": "stdout",
       "text": [
        "2015-04-18 19:31:27,298 - opendeep.utils.file_ops - DEBUG - Directory /Users/mwarrick/Documents/Neural_Net_Newbies/outputs already exists!\n"
       ]
      },
      {
       "output_type": "stream",
       "stream": "stdout",
       "text": [
        "2015-04-18 19:31:27,299 - opendeep.models.model - WARNING - Both input_size and inputs_hook are None! Make sure this is only happening in a Prototype! Setting input_size to 1 for convenience to the Prototype.\n"
       ]
      },
      {
       "output_type": "stream",
       "stream": "stdout",
       "text": [
        "2015-04-18 19:31:27,302 - opendeep.models.model - DEBUG - <class 'opendeep.models.single_layer.basic.SoftmaxLayer'> self.args: {'noise': False, 'weights_init': 'uniform', 'noise_level': None, 'output_size': 10, 'params_hook': None, 'activation': 'softmax', 'hiddens_hook': None, 'out_as_probs': False, 'weights_std': 0.005, 'cost': 'nll', 'cost_args': {}, 'bias_init': 0.0, 'inputs_hook': None, 'weights_mean': 0, 'input_size': 1, 'mrg': <theano.sandbox.rng_mrg.MRG_RandomStreams object at 0x109578090>, 'weights_interval': 'montreal', 'outdir': 'outputs/'}\n"
       ]
      },
      {
       "output_type": "stream",
       "stream": "stdout",
       "text": [
        "2015-04-18 19:31:27,303 - opendeep.models.model - DEBUG - Saving <class 'opendeep.models.single_layer.basic.SoftmaxLayer'> configuration to /Users/mwarrick/Documents/Neural_Net_Newbies/outputs/softmax_config.pkl\n"
       ]
      },
      {
       "output_type": "stream",
       "stream": "stdout",
       "text": [
        "2015-04-18 19:31:27,312 - opendeep.utils.nnet - DEBUG - Creating weights with shape (1, 10) from Uniform distribution with formula name: montreal\n"
       ]
      },
      {
       "output_type": "stream",
       "stream": "stdout",
       "text": [
        "2015-04-18 19:31:27,314 - opendeep.utils.nnet - DEBUG - Initializing bias variable with shape 10\n"
       ]
      },
      {
       "output_type": "stream",
       "stream": "stdout",
       "text": [
        "2015-04-18 19:31:27,339 - opendeep.models.single_layer.basic - DEBUG - Initialized a basic fully-connected layer with shape (1, 10) and activation: softmax\n"
       ]
      },
      {
       "output_type": "stream",
       "stream": "stdout",
       "text": [
        "2015-04-18 19:31:27,340 - opendeep.models.single_layer.basic - DEBUG - Using softmax negative log-likelihood cost!!\n"
       ]
      },
      {
       "output_type": "stream",
       "stream": "stdout",
       "text": [
        "2015-04-18 19:31:27,347 - opendeep.models.container - INFO - Overriding model <class 'opendeep.models.single_layer.basic.SoftmaxLayer'> with new inputs_hook!\n"
       ]
      },
      {
       "output_type": "stream",
       "stream": "stdout",
       "text": [
        "2015-04-18 19:31:27,348 - opendeep.models.model - INFO - Creating a new instance of <class 'opendeep.models.single_layer.basic.SoftmaxLayer'>\n"
       ]
      },
      {
       "output_type": "stream",
       "stream": "stdout",
       "text": [
        "2015-04-18 19:31:27,353 - opendeep.utils.config - DEBUG - Input to create_dictionary_like was None.\n"
       ]
      },
      {
       "output_type": "stream",
       "stream": "stdout",
       "text": [
        "2015-04-18 19:31:27,358 - opendeep.utils.file_ops - DEBUG - Attempting to make directory /Users/mwarrick/Documents/Neural_Net_Newbies/outputs\n"
       ]
      },
      {
       "output_type": "stream",
       "stream": "stdout",
       "text": [
        "2015-04-18 19:31:27,359 - opendeep.utils.file_ops - DEBUG - Directory /Users/mwarrick/Documents/Neural_Net_Newbies/outputs already exists!\n"
       ]
      },
      {
       "output_type": "stream",
       "stream": "stdout",
       "text": [
        "2015-04-18 19:31:27,360 - opendeep.models.model - DEBUG - <class 'opendeep.models.single_layer.basic.SoftmaxLayer'> self.args: {'noise': False, 'weights_init': 'uniform', 'noise_level': None, 'output_size': 10, 'params_hook': None, 'activation': 'softmax', 'hiddens_hook': None, 'out_as_probs': False, 'weights_std': 0.005, 'cost': 'nll', 'cost_args': {}, 'bias_init': 0.0, 'inputs_hook': (512, Elemwise{switch,no_inplace}.0), 'weights_mean': 0, 'input_size': 1, 'mrg': <theano.sandbox.rng_mrg.MRG_RandomStreams object at 0x106ad2210>, 'weights_interval': 'montreal', 'outdir': 'outputs/'}\n"
       ]
      },
      {
       "output_type": "stream",
       "stream": "stdout",
       "text": [
        "2015-04-18 19:31:27,362 - opendeep.models.model - DEBUG - Saving <class 'opendeep.models.single_layer.basic.SoftmaxLayer'> configuration to /Users/mwarrick/Documents/Neural_Net_Newbies/outputs/softmax_config.pkl\n"
       ]
      },
      {
       "output_type": "stream",
       "stream": "stdout",
       "text": [
        "2015-04-18 19:31:27,418 - opendeep.utils.nnet - DEBUG - Creating weights with shape (512, 10) from Uniform distribution with formula name: montreal\n"
       ]
      },
      {
       "output_type": "stream",
       "stream": "stdout",
       "text": [
        "2015-04-18 19:31:27,421 - opendeep.utils.nnet - DEBUG - Initializing bias variable with shape 10\n"
       ]
      },
      {
       "output_type": "stream",
       "stream": "stdout",
       "text": [
        "2015-04-18 19:31:27,434 - opendeep.models.single_layer.basic - DEBUG - Initialized a basic fully-connected layer with shape (512, 10) and activation: softmax\n"
       ]
      },
      {
       "output_type": "stream",
       "stream": "stdout",
       "text": [
        "2015-04-18 19:31:27,436 - opendeep.models.single_layer.basic - DEBUG - Using softmax negative log-likelihood cost!!\n"
       ]
      },
      {
       "output_type": "stream",
       "stream": "stdout",
       "text": [
        "2015-04-18 19:31:27,460 - opendeep.optimization.optimizer - DEBUG - Initializing optimizer <class 'opendeep.optimization.stochastic_gradient_descent.SGD'>\n"
       ]
      },
      {
       "output_type": "stream",
       "stream": "stdout",
       "text": [
        "2015-04-18 19:31:27,462 - opendeep.utils.config - DEBUG - Input to create_dictionary_like was None.\n"
       ]
      },
      {
       "output_type": "stream",
       "stream": "stdout",
       "text": [
        "2015-04-18 19:31:27,469 - opendeep.optimization.optimizer - DEBUG - optimizer config args: {'momentum_decay': 'linear', 'early_stop_length': 30, 'save_frequency': 500, 'nesterov_momentum': True, 'minimum_batch_size': 1, 'learning_rate': 0.01, 'batch_size': 600, 'lr_factor': 0.995, 'momentum_factor': 0, 'n_epoch': 500, 'early_stop_threshold': 0.9995, 'lr_decay': 'exponential', 'momentum': 0.9}\n"
       ]
      },
      {
       "ename": "AttributeError",
       "evalue": "'module' object has no attribute 'subgraph_grad'",
       "output_type": "pyerr",
       "traceback": [
        "\u001b[0;31m---------------------------------------------------------------------------\u001b[0m\n\u001b[0;31mAttributeError\u001b[0m                            Traceback (most recent call last)",
        "\u001b[0;32m<ipython-input-7-39a500fd6253>\u001b[0m in \u001b[0;36m<module>\u001b[0;34m()\u001b[0m\n\u001b[0;32m----> 1\u001b[0;31m \u001b[0mopendeep_mnist\u001b[0m\u001b[0;34m.\u001b[0m\u001b[0mmain\u001b[0m\u001b[0;34m(\u001b[0m\u001b[0;34m)\u001b[0m\u001b[0;34m\u001b[0m\u001b[0m\n\u001b[0m",
        "\u001b[0;32m/Users/mwarrick/Documents/Neural_Net_Newbies/lib/opendeep_mnist.py\u001b[0m in \u001b[0;36mmain\u001b[0;34m()\u001b[0m\n\u001b[1;32m     39\u001b[0m                     \u001b[0mmomentum\u001b[0m\u001b[0;34m=\u001b[0m\u001b[0;36m.9\u001b[0m\u001b[0;34m,\u001b[0m\u001b[0;34m\u001b[0m\u001b[0m\n\u001b[1;32m     40\u001b[0m                     \u001b[0mnesterov_momentum\u001b[0m\u001b[0;34m=\u001b[0m\u001b[0mTrue\u001b[0m\u001b[0;34m,\u001b[0m\u001b[0;34m\u001b[0m\u001b[0m\n\u001b[0;32m---> 41\u001b[0;31m                     save_frequency=500)\n\u001b[0m\u001b[1;32m     42\u001b[0m \u001b[0;34m\u001b[0m\u001b[0m\n\u001b[1;32m     43\u001b[0m     \u001b[0;32mprint\u001b[0m \u001b[0;34m'... training the model'\u001b[0m\u001b[0;34m\u001b[0m\u001b[0m\n",
        "\u001b[0;32m/Users/mwarrick/Documents/opendeep/opendeep/optimization/stochastic_gradient_descent.py\u001b[0m in \u001b[0;36m__init__\u001b[0;34m(self, model, dataset, config, defaults, n_epoch, batch_size, minimum_batch_size, save_frequency, early_stop_threshold, early_stop_length, learning_rate, lr_decay, lr_factor, momentum, momentum_decay, momentum_factor, nesterov_momentum)\u001b[0m\n\u001b[1;32m     51\u001b[0m                                   \u001b[0mlr_decay\u001b[0m\u001b[0;34m=\u001b[0m\u001b[0mlr_decay\u001b[0m\u001b[0;34m,\u001b[0m \u001b[0mlr_factor\u001b[0m\u001b[0;34m=\u001b[0m\u001b[0mlr_factor\u001b[0m\u001b[0;34m,\u001b[0m \u001b[0mmomentum\u001b[0m\u001b[0;34m=\u001b[0m\u001b[0mmomentum\u001b[0m\u001b[0;34m,\u001b[0m\u001b[0;34m\u001b[0m\u001b[0m\n\u001b[1;32m     52\u001b[0m                                   \u001b[0mmomentum_decay\u001b[0m\u001b[0;34m=\u001b[0m\u001b[0mmomentum_decay\u001b[0m\u001b[0;34m,\u001b[0m \u001b[0mmomentum_factor\u001b[0m\u001b[0;34m=\u001b[0m\u001b[0mmomentum_factor\u001b[0m\u001b[0;34m,\u001b[0m\u001b[0;34m\u001b[0m\u001b[0m\n\u001b[0;32m---> 53\u001b[0;31m                                   nesterov_momentum=nesterov_momentum)\n\u001b[0m\u001b[1;32m     54\u001b[0m         \u001b[0;31m# everything is in self! yay!\u001b[0m\u001b[0;34m\u001b[0m\u001b[0;34m\u001b[0m\u001b[0m\n\u001b[1;32m     55\u001b[0m \u001b[0;34m\u001b[0m\u001b[0m\n",
        "\u001b[0;32m/Users/mwarrick/Documents/opendeep/opendeep/optimization/optimizer.py\u001b[0m in \u001b[0;36m__init__\u001b[0;34m(self, model, dataset, config, defaults, n_epoch, batch_size, minimum_batch_size, save_frequency, early_stop_threshold, early_stop_length, learning_rate, lr_decay, lr_factor, **kwargs)\u001b[0m\n\u001b[1;32m    184\u001b[0m             \u001b[0;31m# Now create the training cost function for the model to use while training - update parameters\u001b[0m\u001b[0;34m\u001b[0m\u001b[0;34m\u001b[0m\u001b[0m\n\u001b[1;32m    185\u001b[0m             \u001b[0;31m# gradient!\u001b[0m\u001b[0;34m\u001b[0m\u001b[0;34m\u001b[0m\u001b[0m\n\u001b[0;32m--> 186\u001b[0;31m             \u001b[0mgradients\u001b[0m\u001b[0;34m,\u001b[0m \u001b[0m_\u001b[0m \u001b[0;34m=\u001b[0m \u001b[0mself\u001b[0m\u001b[0;34m.\u001b[0m\u001b[0mmodel\u001b[0m\u001b[0;34m.\u001b[0m\u001b[0mget_gradient\u001b[0m\u001b[0;34m(\u001b[0m\u001b[0mcost\u001b[0m\u001b[0;34m=\u001b[0m\u001b[0mtrain_cost\u001b[0m\u001b[0;34m)\u001b[0m\u001b[0;34m\u001b[0m\u001b[0m\n\u001b[0m\u001b[1;32m    187\u001b[0m             \u001b[0mself\u001b[0m\u001b[0;34m.\u001b[0m\u001b[0mgradients\u001b[0m\u001b[0;34m.\u001b[0m\u001b[0mappend\u001b[0m\u001b[0;34m(\u001b[0m\u001b[0mgradients\u001b[0m\u001b[0;34m)\u001b[0m\u001b[0;34m\u001b[0m\u001b[0m\n\u001b[1;32m    188\u001b[0m \u001b[0;34m\u001b[0m\u001b[0m\n",
        "\u001b[0;32m/Users/mwarrick/Documents/opendeep/opendeep/models/container.py\u001b[0m in \u001b[0;36mget_gradient\u001b[0;34m(self, starting_gradient, cost, additional_cost)\u001b[0m\n\u001b[1;32m    248\u001b[0m         \"\"\"\n\u001b[1;32m    249\u001b[0m         \u001b[0;31m# for now just use the Model's get_gradient method.\u001b[0m\u001b[0;34m\u001b[0m\u001b[0;34m\u001b[0m\u001b[0m\n\u001b[0;32m--> 250\u001b[0;31m         \u001b[0;32mreturn\u001b[0m \u001b[0msuper\u001b[0m\u001b[0;34m(\u001b[0m\u001b[0mPrototype\u001b[0m\u001b[0;34m,\u001b[0m \u001b[0mself\u001b[0m\u001b[0;34m)\u001b[0m\u001b[0;34m.\u001b[0m\u001b[0mget_gradient\u001b[0m\u001b[0;34m(\u001b[0m\u001b[0mstarting_gradient\u001b[0m\u001b[0;34m,\u001b[0m \u001b[0mcost\u001b[0m\u001b[0;34m,\u001b[0m \u001b[0madditional_cost\u001b[0m\u001b[0;34m)\u001b[0m\u001b[0;34m\u001b[0m\u001b[0m\n\u001b[0m\u001b[1;32m    251\u001b[0m \u001b[0;34m\u001b[0m\u001b[0m\n\u001b[1;32m    252\u001b[0m     \u001b[0;32mdef\u001b[0m \u001b[0mget_updates\u001b[0m\u001b[0;34m(\u001b[0m\u001b[0mself\u001b[0m\u001b[0;34m)\u001b[0m\u001b[0;34m:\u001b[0m\u001b[0;34m\u001b[0m\u001b[0m\n",
        "\u001b[0;32m/Users/mwarrick/Documents/opendeep/opendeep/models/model.py\u001b[0m in \u001b[0;36mget_gradient\u001b[0;34m(self, starting_gradient, cost, additional_cost)\u001b[0m\n\u001b[1;32m    367\u001b[0m             \u001b[0;32mif\u001b[0m \u001b[0madditional_cost\u001b[0m \u001b[0;32mis\u001b[0m \u001b[0;32mnot\u001b[0m \u001b[0mNone\u001b[0m\u001b[0;34m:\u001b[0m\u001b[0;34m\u001b[0m\u001b[0m\n\u001b[1;32m    368\u001b[0m                 \u001b[0mcost\u001b[0m \u001b[0;34m=\u001b[0m \u001b[0mT\u001b[0m\u001b[0;34m.\u001b[0m\u001b[0msum\u001b[0m\u001b[0;34m(\u001b[0m\u001b[0mcost\u001b[0m\u001b[0;34m,\u001b[0m \u001b[0madditional_cost\u001b[0m\u001b[0;34m)\u001b[0m\u001b[0;34m\u001b[0m\u001b[0m\n\u001b[0;32m--> 369\u001b[0;31m             params_grad, next_starting_grad = theano.subgraph_grad(wrt=self.get_params(),\n\u001b[0m\u001b[1;32m    370\u001b[0m                                                                    \u001b[0mend\u001b[0m\u001b[0;34m=\u001b[0m\u001b[0mraise_to_list\u001b[0m\u001b[0;34m(\u001b[0m\u001b[0mself\u001b[0m\u001b[0;34m.\u001b[0m\u001b[0mget_inputs\u001b[0m\u001b[0;34m(\u001b[0m\u001b[0;34m)\u001b[0m\u001b[0;34m)\u001b[0m\u001b[0;34m,\u001b[0m\u001b[0;34m\u001b[0m\u001b[0m\n\u001b[1;32m    371\u001b[0m                                                                    \u001b[0mcost\u001b[0m\u001b[0;34m=\u001b[0m\u001b[0mcost\u001b[0m\u001b[0;34m,\u001b[0m\u001b[0;34m\u001b[0m\u001b[0m\n",
        "\u001b[0;31mAttributeError\u001b[0m: 'module' object has no attribute 'subgraph_grad'"
       ]
      }
     ],
     "prompt_number": 7
    },
    {
     "cell_type": "code",
     "collapsed": false,
     "input": [],
     "language": "python",
     "metadata": {},
     "outputs": []
    }
   ],
   "metadata": {}
  }
 ]
}