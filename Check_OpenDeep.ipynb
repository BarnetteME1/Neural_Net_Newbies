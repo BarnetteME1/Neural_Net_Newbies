{
 "worksheets": [
  {
   "cells": [
    {
     "cell_type": "markdown",
     "metadata": {},
     "source": [
      "## OpenDeep Example"
     ]
    },
    {
     "cell_type": "markdown",
     "metadata": {},
     "source": [
      "### Manual Run"
     ]
    },
    {
     "cell_type": "code",
     "metadata": {},
     "outputs": [],
     "input": [
      "from opendeep.log.logger import config_root_logger\n",
      "from opendeep.models.container import Prototype\n",
      "from opendeep.models.single_layer.basic import BasicLayer, SoftmaxLayer\n",
      "from opendeep.optimization.stochastic_gradient_descent import SGD\n",
      "from opendeep.data.standard_datasets.image.mnist import MNIST\n",
      "\n",
      "config_root_logger()"
     ],
     "language": "python"
    },
    {
     "cell_type": "code",
     "metadata": {},
     "outputs": [],
     "input": [
      "mlp = Prototype()\n",
      "mlp.add(BasicLayer(input_size=28*28, output_size=512, activation='rectifier', noise='dropout'))\n",
      "mlp.add(BasicLayer(output_size=512, activation='rectifier', noise='dropout'))\n",
      "mlp.add(SoftmaxLayer(output_size=10))"
     ],
     "language": "python"
    },
    {
     "cell_type": "code",
     "metadata": {},
     "outputs": [],
     "input": [
      "mnist_dataset = MNIST(concat_train_valid=False)\n",
      "\n",
      "optimizer = SGD(model=mlp,\n",
      "                dataset=mnist_dataset,\n",
      "                n_epoch=500,\n",
      "                batch_size=600,\n",
      "                learning_rate=.01,\n",
      "                momentum=.9,\n",
      "                nesterov_momentum=True,\n",
      "                save_frequency=500)\n",
      "optimizer.train()"
     ],
     "language": "python"
    },
    {
     "cell_type": "code",
     "metadata": {},
     "outputs": [],
     "input": [
      ""
     ],
     "language": "python"
    }
   ]
  }
 ],
 "cells": [],
 "metadata": {
  "name": "",
  "signature": "sha256:a32323ce6e04484d749410fe0af8d705f09548197c471f25edbd61ae90db26c2"
 },
 "nbformat": 3,
 "nbformat_minor": 0
}